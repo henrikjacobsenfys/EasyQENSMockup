{
 "cells": [
  {
   "cell_type": "code",
   "execution_count": null,
   "metadata": {},
   "outputs": [],
   "source": [
    "import scipp as sc\n",
    "import numpy as np\n",
    "import matplotlib.pyplot as plt\n",
    "import plopp as pp\n",
    "%matplotlib widget\n",
    "from scipp import curve_fit\n",
    "from scipy.special import voigt_profile\n",
    "\n"
   ]
  },
  {
   "cell_type": "code",
   "execution_count": null,
   "metadata": {},
   "outputs": [],
   "source": [
    "#TODO Make a general data loader\n",
    "## Load actual data - just one temperature for now\n",
    "number_of_Q_points=16\n",
    "\n",
    "#Preallocate\n",
    "intensity_values=np.zeros((number_of_Q_points,1024))\n",
    "error_values=np.zeros((number_of_Q_points,1024))\n",
    "\n",
    "# Load data into a matrix\n",
    "for Q in range(16):\n",
    "    filename = '../../IN16b_GGG_data/data_450mK_Q' +str(Q+1) +'.dat'\n",
    "\n",
    "    data_array = np.loadtxt(filename)\n",
    "    energy_values=data_array[:, 0] #should be the same for all Q\n",
    "    # EnergyValues[Q,:]=data_array[:, 0]\n",
    "    intensity_values[Q,:]=data_array[:,1]\n",
    "    error_values[Q,:]=data_array[:,2]\n",
    "\n",
    "# Define energy, q and intensity as scipp variables with units, and make a DataArraw\n",
    "energy=sc.array(dims=['energy'],values=energy_values/1000,unit='meV')\n",
    "Q=sc.array(dims=['Q'],values=range(number_of_Q_points))\n",
    "intensity=sc.array(dims=['Q','energy'],values=intensity_values,variances=error_values*error_values,unit='dimensionless') #The variance is the square of the uncertainty!\n",
    "\n",
    "GGG_data_450mK = sc.DataArray(data=intensity, coords={'Q':Q,'energy': energy})"
   ]
  },
  {
   "cell_type": "code",
   "execution_count": 14,
   "metadata": {},
   "outputs": [
    {
     "ename": "TypeError",
     "evalue": "operand 'scipp._scipp.core.Variable' does not support ufuncs (__array_ufunc__=None)",
     "output_type": "error",
     "traceback": [
      "\u001b[1;31m---------------------------------------------------------------------------\u001b[0m",
      "\u001b[1;31mTypeError\u001b[0m                                 Traceback (most recent call last)",
      "Cell \u001b[1;32mIn[14], line 13\u001b[0m\n\u001b[0;32m     10\u001b[0m lorz1_HWHM      \u001b[38;5;241m=\u001b[39m \u001b[38;5;241m4e-4\u001b[39m \u001b[38;5;241m*\u001b[39m sc\u001b[38;5;241m.\u001b[39mUnit(\u001b[38;5;124m'\u001b[39m\u001b[38;5;124mmeV\u001b[39m\u001b[38;5;124m'\u001b[39m)\n\u001b[0;32m     11\u001b[0m BG              \u001b[38;5;241m=\u001b[39m \u001b[38;5;241m1e-5\u001b[39m \u001b[38;5;241m*\u001b[39m sc\u001b[38;5;241m.\u001b[39mUnit(\u001b[38;5;124m'\u001b[39m\u001b[38;5;124mdimensionless\u001b[39m\u001b[38;5;124m'\u001b[39m)\n\u001b[1;32m---> 13\u001b[0m yy\u001b[38;5;241m=\u001b[39m\u001b[43mvoigt_problem_ufunc\u001b[49m\u001b[43m(\u001b[49m\u001b[43menergy\u001b[49m\u001b[43m,\u001b[49m\u001b[43m \u001b[49m\u001b[43msigma\u001b[49m\u001b[43m,\u001b[49m\u001b[43mlorz1_area\u001b[49m\u001b[43m,\u001b[49m\u001b[43mlorz1_HWHM\u001b[49m\u001b[43m,\u001b[49m\u001b[43mBG\u001b[49m\u001b[43m)\u001b[49m\n\u001b[0;32m     14\u001b[0m \u001b[38;5;28mprint\u001b[39m(yy)\n\u001b[0;32m     17\u001b[0m popt_GGG, _ \u001b[38;5;241m=\u001b[39m curve_fit([\u001b[38;5;124m'\u001b[39m\u001b[38;5;124menergy\u001b[39m\u001b[38;5;124m'\u001b[39m], voigt_problem_ufunc, GGG_data_450mK, \n\u001b[0;32m     18\u001b[0m                     p0 \u001b[38;5;241m=\u001b[39m {\n\u001b[0;32m     19\u001b[0m                         \u001b[38;5;124m'\u001b[39m\u001b[38;5;124msigma\u001b[39m\u001b[38;5;124m'\u001b[39m           : \u001b[38;5;241m4e-4\u001b[39m \u001b[38;5;241m*\u001b[39m sc\u001b[38;5;241m.\u001b[39mUnit(\u001b[38;5;124m'\u001b[39m\u001b[38;5;124mmeV\u001b[39m\u001b[38;5;124m'\u001b[39m),\n\u001b[1;32m   (...)\u001b[0m\n\u001b[0;32m     22\u001b[0m                         \u001b[38;5;124m'\u001b[39m\u001b[38;5;124mBG\u001b[39m\u001b[38;5;124m'\u001b[39m              :\u001b[38;5;241m1e-5\u001b[39m\n\u001b[0;32m     23\u001b[0m                         })\n",
      "Cell \u001b[1;32mIn[14], line 4\u001b[0m, in \u001b[0;36mvoigt_problem_ufunc\u001b[1;34m(energy, sigma, lorz1_area, lorz1_HWHM, BG)\u001b[0m\n\u001b[0;32m      1\u001b[0m \u001b[38;5;28;01mdef\u001b[39;00m \u001b[38;5;21mvoigt_problem_ufunc\u001b[39m(energy, sigma,lorz1_area,lorz1_HWHM,BG):\n\u001b[0;32m      3\u001b[0m     meV\u001b[38;5;241m=\u001b[39m\u001b[38;5;241m1\u001b[39m\u001b[38;5;241m*\u001b[39msc\u001b[38;5;241m.\u001b[39mUnit(\u001b[38;5;124m'\u001b[39m\u001b[38;5;124mmeV\u001b[39m\u001b[38;5;124m'\u001b[39m)\n\u001b[1;32m----> 4\u001b[0m     y_lorz\u001b[38;5;241m=\u001b[39mlorz1_area\u001b[38;5;241m/\u001b[39mmeV\u001b[38;5;241m*\u001b[39m(\u001b[43mvoigt_profile\u001b[49m\u001b[43m(\u001b[49m\u001b[43menergy\u001b[49m\u001b[43m,\u001b[49m\u001b[43m \u001b[49m\u001b[43msigma\u001b[49m\u001b[43m,\u001b[49m\u001b[43m \u001b[49m\u001b[43mlorz1_HWHM\u001b[49m\u001b[43m)\u001b[49m)\n\u001b[0;32m      5\u001b[0m     y \u001b[38;5;241m=\u001b[39m y_lorz \u001b[38;5;241m+\u001b[39m BG\n\u001b[0;32m      6\u001b[0m     \u001b[38;5;28;01mreturn\u001b[39;00m y\n",
      "\u001b[1;31mTypeError\u001b[0m: operand 'scipp._scipp.core.Variable' does not support ufuncs (__array_ufunc__=None)"
     ]
    }
   ],
   "source": [
    "\n",
    "def voigt_problem_ufunc(energy, sigma,lorz1_area,lorz1_HWHM,BG):\n",
    "\n",
    "    meV=1*sc.Unit('meV')\n",
    "    y_lorz=lorz1_area/meV*(voigt_profile(energy, sigma, lorz1_HWHM))\n",
    "    y = y_lorz + BG\n",
    "    return y\n",
    "\n",
    "sigma= 4e-4 * sc.Unit('meV')         \n",
    "lorz1_area      = 5e-5*sc.Unit('meV')\n",
    "lorz1_HWHM      = 4e-4 * sc.Unit('meV')\n",
    "BG              = 1e-5 * sc.Unit('dimensionless')\n",
    "\n",
    "yy=voigt_problem_ufunc(energy, sigma,lorz1_area,lorz1_HWHM,BG)\n",
    "print(yy)\n",
    "\n",
    "\n",
    "popt_GGG, _ = curve_fit(['energy'], voigt_problem_ufunc, GGG_data_450mK, \n",
    "                    p0 = {\n",
    "                        'sigma'           : 4e-4 * sc.Unit('meV'),\n",
    "                        'lorz1_area'      : 5e-5*sc.Unit('meV'), \n",
    "                        'lorz1_HWHM'      : 5e-5*sc.Unit('meV'), \n",
    "                        'BG'              :1e-5\n",
    "                        })\n"
   ]
  },
  {
   "cell_type": "code",
   "execution_count": 39,
   "metadata": {},
   "outputs": [
    {
     "name": "stdout",
     "output_type": "stream",
     "text": [
      "<scipp.Variable> (energy: 1024)    float64  [dimensionless]  [1.72305e-05, 1.72589e-05, ..., 1.72589e-05, 1.72305e-05]\n"
     ]
    }
   ],
   "source": [
    "\n",
    "def voigt_problem(energy, sigma,lorz1_area,lorz1_HWHM,BG):\n",
    "\n",
    "\n",
    "    y_lorz=lorz1_area.value*(voigt_profile(energy.values, sigma.value, lorz1_HWHM.value))\n",
    "        \n",
    "    y = y_lorz + BG.value\n",
    "    y=sc.array(dims=['energy'],values=y,unit='dimensionless')\n",
    "    return y\n",
    "\n",
    "sigma           = 4e-4 * sc.Unit('meV')         \n",
    "lorz1_area      = 5e-5 *sc.Unit('meV')\n",
    "lorz1_HWHM      = 4e-4 * sc.Unit('meV')\n",
    "BG              = 1e-5 * sc.Unit('dimensionless')\n",
    "\n",
    "yy=voigt_problem(energy, sigma,lorz1_area,lorz1_HWHM,BG)\n",
    "print(yy)\n",
    "\n",
    "\n",
    "popt_GGG, _ = curve_fit(['energy'], voigt_problem, GGG_data_450mK, \n",
    "                    p0 = {\n",
    "                        'sigma'           : 4e-4 * sc.Unit('meV'),\n",
    "                        'lorz1_area'      : 5e-5*sc.Unit('meV'), \n",
    "                        'lorz1_HWHM'      : 5e-5*sc.Unit('meV'), \n",
    "                        'BG'              : 1e-5 * sc.Unit('dimensionless')\n",
    "                        })\n",
    "\n"
   ]
  },
  {
   "cell_type": "code",
   "execution_count": 18,
   "metadata": {},
   "outputs": [
    {
     "data": {
      "text/plain": [
       "0.0004"
      ]
     },
     "execution_count": 18,
     "metadata": {},
     "output_type": "execute_result"
    }
   ],
   "source": [
    "sigma.value"
   ]
  },
  {
   "cell_type": "code",
   "execution_count": 40,
   "metadata": {},
   "outputs": [
    {
     "name": "stdout",
     "output_type": "stream",
     "text": [
      "<scipp.Variable> (energy: 1024)    float64  [dimensionless]  [1.72305e-05, 1.72589e-05, ..., 1.72589e-05, 1.72305e-05]\n"
     ]
    }
   ],
   "source": [
    "def voigt_problem2(energy, sigma,lorz1_area,lorz1_HWHM,BG):\n",
    "\n",
    "\n",
    "    y_lorz=lorz1_area.value*(voigt_profile(energy.values, sigma.value, lorz1_HWHM.value))\n",
    "        \n",
    "    y = y_lorz + BG.values\n",
    "    y=sc.array(dims=['energy'],values=y,unit='dimensionless')\n",
    "    return y\n",
    "\n",
    "sigma           = 4e-4 * sc.Unit('meV')         \n",
    "lorz1_area      = 5e-5 *sc.Unit('meV')\n",
    "lorz1_HWHM      = 4e-4 * sc.Unit('meV')\n",
    "BG              = 1e-5 * sc.Unit('dimensionless')\n",
    "\n",
    "yy=voigt_problem2(energy, sigma,lorz1_area,lorz1_HWHM,BG)\n",
    "print(yy)\n",
    "\n",
    "\n",
    "popt_GGG, _ = curve_fit(['energy'], voigt_problem, GGG_data_450mK, \n",
    "                    p0 = {\n",
    "                        'sigma'           : 4e-4 * sc.Unit('meV'),\n",
    "                        'lorz1_area'      : 5e-5*sc.Unit('meV'), \n",
    "                        'lorz1_HWHM'      : 5e-5*sc.Unit('meV'), \n",
    "                        'BG'              : 1e-5 * sc.Unit('dimensionless')\n",
    "                        })\n",
    "\n"
   ]
  },
  {
   "cell_type": "code",
   "execution_count": null,
   "metadata": {},
   "outputs": [],
   "source": [
    "from scipy.special import voigt_profile\n",
    "# energy=sc.array(dims=['energy'],values=,unit='meV')\n",
    "energy=sc.linspace('energy', start=-2, stop=2, num=1001, unit='meV')\n",
    "sigma= 0.1 * sc.Unit('meV')         \n",
    "lorz1_area      = 5*sc.Unit('meV')\n",
    "lorz1_HWHM      = 0.1 * sc.Unit('meV')\n",
    "BG              = 0.1 * sc.Unit('dimensionless')\n",
    "\n",
    "# voigt_profile(energy,sigma,lorz1_HWHM)\n",
    "\n",
    "\n",
    "\n"
   ]
  },
  {
   "cell_type": "code",
   "execution_count": null,
   "metadata": {},
   "outputs": [],
   "source": [
    "y=lorz1_area.value*voigt_profile(energy.values, sigma.value, lorz1_HWHM.value) \n",
    "plt.clf()\n",
    "plt.plot(energy.values,y)\n",
    "plt.show()"
   ]
  },
  {
   "cell_type": "code",
   "execution_count": null,
   "metadata": {},
   "outputs": [],
   "source": [
    "meV=1*sc.Unit('meV')\n",
    "y=voigt_profile(energy.values, sigma.value, lorz1_HWHM.value)\n",
    "y_lorz=lorz1_area/meV*sc.Variable(dims=['energy'],values=y)\n",
    "\n",
    "sc.plot(y_lorz)"
   ]
  },
  {
   "cell_type": "code",
   "execution_count": null,
   "metadata": {},
   "outputs": [],
   "source": []
  },
  {
   "cell_type": "code",
   "execution_count": null,
   "metadata": {},
   "outputs": [],
   "source": []
  },
  {
   "cell_type": "code",
   "execution_count": null,
   "metadata": {},
   "outputs": [],
   "source": [
    "import numpy as np\n",
    "from scipy.special import wofz\n",
    "\n",
    "lorz1_HWHM = 5e-5*sc.Unit('meV')\n",
    "sigma = 4e-4 * sc.Unit('meV')\n",
    "x=energy\n",
    "\n",
    "def voigt(x, sigma, gamma):\n",
    "    z = (x + 1j * gamma) / (sigma * np.sqrt(2))\n",
    "    return np.real(wofz(z).real)\n",
    "\n",
    "\n",
    "y_values = voigt(energy, sigma, lorz1_HWHM)"
   ]
  },
  {
   "cell_type": "code",
   "execution_count": 30,
   "metadata": {},
   "outputs": [
    {
     "data": {
      "text/html": [
       "<div><!-- Original source from -->\n",
       "<!-- https://github.com/jsignell/xarray/blob/1d960933ab252e0f79f7e050e6c9261d55568057/xarray/static/html/icons-svg-inline.html -->\n",
       "<svg style=\"position: absolute; width: 0; height: 0; overflow: hidden\">\n",
       "<defs>\n",
       "<symbol id=\"icon-database\" viewBox=\"0 0 32 32\">\n",
       "<title>Show/Hide data repr</title>\n",
       "<path d=\"M16 0c-8.837 0-16 2.239-16 5v4c0 2.761 7.163 5 16 5s16-2.239 16-5v-4c0-2.761-7.163-5-16-5z\"></path>\n",
       "<path d=\"M16 17c-8.837 0-16-2.239-16-5v6c0 2.761 7.163 5 16 5s16-2.239 16-5v-6c0 2.761-7.163 5-16 5z\"></path>\n",
       "<path d=\"M16 26c-8.837 0-16-2.239-16-5v6c0 2.761 7.163 5 16 5s16-2.239 16-5v-6c0 2.761-7.163 5-16 5z\"></path>\n",
       "</symbol>\n",
       "<symbol id=\"icon-file-text2\" viewBox=\"0 0 32 32\">\n",
       "<title>Show/Hide attributes</title>\n",
       "<path d=\"M28.681 7.159c-0.694-0.947-1.662-2.053-2.724-3.116s-2.169-2.030-3.116-2.724c-1.612-1.182-2.393-1.319-2.841-1.319h-15.5c-1.378 0-2.5 1.121-2.5 2.5v27c0 1.378 1.122 2.5 2.5 2.5h23c1.378 0 2.5-1.122 2.5-2.5v-19.5c0-0.448-0.137-1.23-1.319-2.841zM24.543 5.457c0.959 0.959 1.712 1.825 2.268 2.543h-4.811v-4.811c0.718 0.556 1.584 1.309 2.543 2.268zM28 29.5c0 0.271-0.229 0.5-0.5 0.5h-23c-0.271 0-0.5-0.229-0.5-0.5v-27c0-0.271 0.229-0.5 0.5-0.5 0 0 15.499-0 15.5 0v7c0 0.552 0.448 1 1 1h7v19.5z\"></path>\n",
       "<path d=\"M23 26h-14c-0.552 0-1-0.448-1-1s0.448-1 1-1h14c0.552 0 1 0.448 1 1s-0.448 1-1 1z\"></path>\n",
       "<path d=\"M23 22h-14c-0.552 0-1-0.448-1-1s0.448-1 1-1h14c0.552 0 1 0.448 1 1s-0.448 1-1 1z\"></path>\n",
       "<path d=\"M23 18h-14c-0.552 0-1-0.448-1-1s0.448-1 1-1h14c0.552 0 1 0.448 1 1s-0.448 1-1 1z\"></path>\n",
       "</symbol>\n",
       "</defs>\n",
       "</svg><style id=\"scipp-style-sheet\">.sc-root{--sc-background-color0:var(--jp-layout-color0,#fff);--sc-background-color1:var(--jp-layout-color1,#fcfcfc);--sc-background-color2:var(--jp-layout-color2,#efefef);--sc-inverse-background-color0:var(--jp-inverse-layout-color4,#111);--sc-font-color0:var(--jp-content-font-color0,#000);--sc-font-color1:var(--jp-content-font-color1,#555);--sc-font-color2:var(--jp-content-font-color2,#888);--sc-font-color3:var(--jp-content-font-color3,#ccc);}body.vscode-dark .sc-root{--sc-font-color0:rgba(255,255,255,1);--sc-font-color1:rgba(255,255,255,0.70);--sc-font-color2:rgba(255,255,255,0.54);--sc-font-color3:rgba(255,255,255,0.38);--sc-border-color:#1F1F1F;--sc-disabled-color:#515151;--sc-background-color0:#111111;--sc-background-color1:#111111;--sc-background-color2:#313131;}.sc-wrap{font-size:14px;min-width:300px;max-width:800px;}.sc-var-attrs .sc-wrap{padding-left:3em;}.sc-header{padding-top:6px;padding-bottom:6px;margin-bottom:4px;border-bottom:solid 1px #ddd;}.sc-header > div,.sc-header > ul{display:inline;margin-top:0;margin-bottom:0;}.sc-obj-type,.sc-array-name{margin-left:2px;margin-right:10px;}.sc-obj-type{color:var(--sc-font-color1);}.sc-underlying-size{color:var(--sc-font-color2);}.sc-sections,.reveal .sc-sections{padding-left:0 !important;display:grid;grid-template-columns:150px auto auto auto 1fr 20px 20px;}.sc-section-item{display:contents;}.sc-section-item input{display:none;}.sc-section-item input:enabled + label{cursor:pointer;color:var(--sc-font-color1);}.sc-section-item input:enabled + label:hover{color:var(--sc-font-color0);}.sc-section-summary{grid-column:1;font-weight:500;}.sc-section-summary > span{display:inline-block;padding-left:0.5em;}.sc-section-summary-in:disabled + label{color:var(--sc-font-color1);}.sc-section-summary-in + label:before{display:inline-block;content:'►';font-size:11px;width:15px;text-align:center;}.sc-section-summary-in:disabled + label:before{color:var(--sc-font-color3);}.sc-section-summary-in:checked + label:before{content:'▼';}.sc-section-summary-in:checked + label > span{display:none;}.sc-section-summary,.sc-section-inline-details{padding-top:4px;padding-bottom:4px;}.sc-section-inline-details{grid-column:2 / 6;}.sc-section-details{display:none;grid-column:1 / -1;margin-bottom:5px;}.sc-section-summary-in:checked ~ .sc-section-details{display:contents;}.sc-array-wrap{grid-column:1 / -1;display:grid;grid-template-columns:20px auto;}.sc-array-wrap > label{grid-column:1;vertical-align:top;}.sc-preview{color:var(--sc-font-color2);}.sc-array-preview,.sc-array-data{padding:0 5px !important;grid-column:2;}.sc-array-data,.sc-array-in:checked ~ .sc-array-preview{display:none;}.sc-array-in:checked ~ .sc-array-data,.sc-array-preview{display:inline-block;}.sc-dim-list{display:inline-block !important;list-style:none;padding:0 !important;margin:0;}.sc-dim-list li{display:inline-block;padding:0;margin:0!important;}.sc-dim-list:before{content:'(';}.sc-dim-list:after{content:')';}.sc-dim-list li:not(:last-child):after{content:',';padding-right:5px;}.sc-dim-list li span,.sc-standalone-var-name > span span,.sc-var-name > span span{padding:0 !important;}.sc-aligned{font-weight:bold;}.sc-var-list,.sc-var-item,.reveal .sc-var-list,.reveal .sc-var-item{display:contents;}.sc-var-item > div,.sc-var-item label,.sc-var-item > .sc-var-name span{background-color:var(--sc-background-color1);margin-bottom:0;}.sc-var-item > .sc-var-name:hover span{padding-right:5px;}.sc-var-list > li:nth-child(odd) > div,.sc-var-list > li:nth-child(odd) > label,.sc-var-list > li:nth-child(odd) > .sc-var-name span{background-color:var(--sc-background-color2);}.sc-var-name{grid-column:1;}.sc-var-dims{grid-column:2;}.sc-var-dtype{grid-column:3;text-align:right;color:var(--sc-font-color2);}.sc-var-unit{grid-column:4;text-align:left;color:var(--sc-font-color1);max-width:50pt;text-overflow:ellipsis;}.sc-value-preview{grid-column:5;}.sc-var-preview-variances{text-align:right;}.sc-sections .sc-section-item .sc-section-summary,.sc-sections .sc-section-item .sc-section-inline-details,.sc-section-item .sc-var-list .sc-var-item > div,.sc-section-item .sc-var-list .sc-var-item > label,.sc-section-details .sc-var-list .sc-var-item > div,.sc-section-details .sc-var-list .sc-var-item > label{margin-top:0;margin-bottom:0;}.sc-var-name,.sc-var-dims,.sc-var-dtype,.sc-var-unit,.sc-preview,.sc-attrs dt{white-space:nowrap;overflow:hidden;text-overflow:ellipsis;padding-right:10px;}.sc-var-name:hover,.sc-var-dims:hover,.sc-var-dtype:hover,.sc-var-unit:hover,.sc-attrs dt:hover{overflow:visible;width:auto;z-index:1;}.sc-var-attrs{display:block;}.sc-var-data,.reveal .sc-var-data{display:none;}.sc-var-attrs,.sc-var-data{background-color:var(--sc-background-color0) !important;padding-bottom:5px !important;}.sc-var-attrs-in:checked ~ .sc-var-attrs{display:none;}.sc-var-data-in:checked ~ .sc-var-data{display:block;}.sc-var-data > table{float:right;}.sc-var-name span,.sc-var-data{padding-left:25px !important;}.sc-var-attrs,.sc-var-data{grid-column:1 / -1;}dl.sc-attrs{padding:0;margin:0;display:grid;grid-template-columns:125px auto;}.sc-attrs dt,dd{padding:0;margin:0;float:left;padding-right:10px;width:auto;}.sc-attrs dt{font-weight:normal;grid-column:1;}.sc-attrs dt:hover span{display:inline-block;padding-right:10px;}.sc-attrs dd{grid-column:2;white-space:pre-wrap;word-break:break-all;}.sc-icon-database,.sc-icon-file-text2{display:inline-block;vertical-align:middle;width:1em;height:1.5em !important;stroke-width:0;stroke:currentColor;fill:currentColor;}label.sc-hide-icon svg{opacity:0;}.sc-standalone-var-name{grid-column:1/3;}.sc-standalone-var-name span{padding-left:25px;padding-right:10px;}.sc-title{font-weight:bold;font-size:1.5em;}.sc-subtitle{font-weight:normal;font-style:italic;text-align:left;font-size:1.2em;padding:1px;}.sc-label{fill:var(--sc-font-color0,#444444);text-anchor:middle;}.sc-name{fill:var(--sc-font-color0,#111111);}.sc-inset-line{stroke:var(--sc-font-color1);stroke-width:0.05;stroke-dasharray:0.2,0.2;}.sc-log-wrap{height:25ex;resize:vertical;overflow-y:scroll;display:flex;flex-direction:column-reverse;border:1px solid;border-color:var(--jp-border-color2);background-color:var(--sc-background-color1);}div.sc-log{line-height:2.5ex;}table.sc-log{table-layout:auto;border-collapse:collapse;}tr.sc-log:nth-child(even){background-color:var(--sc-background-color0);}tr.sc-log > td{vertical-align:top;padding-bottom:0.5ex;}.sc-log-time-stamp{min-width:22ch;font-family:var(--jp-code-font-family);color:var(--sc-font-color2);}.sc-log-level{min-width:10ch;}tr.sc-log-debug td.sc-log-level{color:var(--jp-accent-color1);}tr.sc-log-info td.sc-log-level{color:var(--jp-info-color1);}tr.sc-log-warning td.sc-log-level{color:var(--jp-warn-color1);}tr.sc-log-error td.sc-log-level{font-weight:bold;color:var(--jp-error-color2);}tr.sc-log-critical td.sc-log-level{font-weight:bold;color:var(--sc-background-color0);background-color:var(--jp-error-color1);}.sc-log-message{white-space:pre-wrap;width:100%;}.sc-log-html-payload{white-space:normal;}.sc-log-name{padding-right:0.5em;text-align:right;white-space:pre-wrap;color:var(--sc-font-color3);}</style><div class='sc-wrap sc-root'><div class='sc-header'><div class='sc-obj-type'>scipp.DataArray (265.34 KB)</div></div><ul class='sc-sections'><li class='sc-section-item'><input id='section-94271ec9-e486-4df6-8438-ae539fd29e37' class='sc-section-summary-in' type='checkbox' disabled ><label for='section-94271ec9-e486-4df6-8438-ae539fd29e37' class='sc-section-summary'  title='Expand/collapse section'>Dimensions:</label><div class='sc-section-inline-details'><ul class='sc-dim-list'><li><span class='sc-has-index'>Q</span>: 16</li><li><span class='sc-has-index'>energy</span>: 1024</li></ul></div><div class='sc-section-details'></div></li><li class='sc-section-item'><input id='section-636aa97a-8ff1-4042-a234-df83555d0256' class='sc-section-summary-in' type='checkbox'  checked><label for='section-636aa97a-8ff1-4042-a234-df83555d0256' class='sc-section-summary' >Coordinates: <span>(2)</span></label><div class='sc-section-inline-details'></div><div class='sc-section-details'><ul class='sc-var-list'><li class='sc-var-item'><div class='sc-var-name'><span class='sc-aligned'>Q</span></div><div class='sc-var-dims'>(Q)</div><div class='sc-var-dtype'>int32</div><div class='sc-var-unit'>𝟙</div><div class='sc-value-preview sc-preview'><span><div>0, 1, ..., 14, 15</div></span></div><input id='attrs-f73eccde-4d2f-4279-b688-7b899ba51352' class='sc-var-attrs-in' type='checkbox' disabled><label for='attrs-f73eccde-4d2f-4279-b688-7b899ba51352' class='sc-hide-icon' title='Show/Hide attributes'><svg class='icon sc-icon-file-text2'><use xlink:href='#icon-file-text2'></use></svg></label><input id='data-5249835a-fd7c-4cfb-84b2-fa3c3eb03552' class='sc-var-data-in' type='checkbox'><label for='data-5249835a-fd7c-4cfb-84b2-fa3c3eb03552' title='Show/Hide data repr'><svg class='icon sc-icon-database'><use xlink:href='#icon-database'></use></svg></label><pre class='sc-var-data'>Values:<br>array([ 0,  1,  2,  3,  4,  5,  6,  7,  8,  9, 10, 11, 12, 13, 14, 15])</pre></span></li><li class='sc-var-item'><div class='sc-var-name'><span class='sc-aligned'>energy</span></div><div class='sc-var-dims'>(energy)</div><div class='sc-var-dtype'>float64</div><div class='sc-var-unit'>meV</div><div class='sc-value-preview sc-preview'><span><div>-0.030, -0.030, ..., 0.030, 0.030</div></span></div><input id='attrs-2a81b86a-a473-494c-a502-188c1b46b22d' class='sc-var-attrs-in' type='checkbox' disabled><label for='attrs-2a81b86a-a473-494c-a502-188c1b46b22d' class='sc-hide-icon' title='Show/Hide attributes'><svg class='icon sc-icon-file-text2'><use xlink:href='#icon-file-text2'></use></svg></label><input id='data-f16012f8-24e3-4769-8812-b51d4bb61db8' class='sc-var-data-in' type='checkbox'><label for='data-f16012f8-24e3-4769-8812-b51d4bb61db8' title='Show/Hide data repr'><svg class='icon sc-icon-database'><use xlink:href='#icon-database'></use></svg></label><pre class='sc-var-data'>Values:<br>array([-0.029678, -0.02962 , -0.029562, ...,  0.029562,  0.02962 ,\n",
       "        0.029678])</pre></span></li></ul></div></li><li class='sc-section-item'><input id='section-a7b4f69c-6f10-4b15-94df-8fd904fcdbca' class='sc-section-summary-in' type='checkbox'  checked><label for='section-a7b4f69c-6f10-4b15-94df-8fd904fcdbca' class='sc-section-summary' >Data: <span>(1)</span></label><div class='sc-section-inline-details'></div><div class='sc-section-details'><ul class='sc-var-list'><li class='sc-var-item'><div class='sc-var-name'><span></span></div><div class='sc-var-dims'>(Q, energy)</div><div class='sc-var-dtype'>float64</div><div class='sc-var-unit'>𝟙</div><div class='sc-value-preview sc-preview'><span><div>0.0, 0.0, ..., 0.0, 0.0</div></span><span><div>σ = 1.0, 1.0, ..., 1.0, 1.0</div></span></div><input id='attrs-61ba28a7-63d5-4fcf-bc1f-1073c0f6b272' class='sc-var-attrs-in' type='checkbox' disabled><label for='attrs-61ba28a7-63d5-4fcf-bc1f-1073c0f6b272' class='sc-hide-icon' title='Show/Hide attributes'><svg class='icon sc-icon-file-text2'><use xlink:href='#icon-file-text2'></use></svg></label><input id='data-6bac0838-343e-4232-8127-da4522acb72e' class='sc-var-data-in' type='checkbox'><label for='data-6bac0838-343e-4232-8127-da4522acb72e' title='Show/Hide data repr'><svg class='icon sc-icon-database'><use xlink:href='#icon-database'></use></svg></label><pre class='sc-var-data'>Values:<br>array([[0., 0., 0., ..., 0., 0., 0.],\n",
       "       [0., 0., 0., ..., 0., 0., 0.],\n",
       "       [0., 0., 0., ..., 0., 0., 0.],\n",
       "       ...,\n",
       "       [0., 0., 0., ..., 0., 0., 0.],\n",
       "       [0., 0., 0., ..., 0., 0., 0.],\n",
       "       [0., 0., 0., ..., 0., 0., 0.]])<br><br>Variances (σ²):<br>array([[1., 1., 1., ..., 1., 1., 1.],\n",
       "       [1., 1., 1., ..., 1., 1., 1.],\n",
       "       [1., 1., 1., ..., 1., 1., 1.],\n",
       "       ...,\n",
       "       [1., 1., 1., ..., 1., 1., 1.],\n",
       "       [1., 1., 1., ..., 1., 1., 1.],\n",
       "       [1., 1., 1., ..., 1., 1., 1.]])</pre></li></ul></div></li></ul></div></div>"
      ],
      "text/plain": [
       "<scipp.DataArray>\n",
       "Dimensions: Sizes[Q:16, energy:1024, ]\n",
       "Coordinates:\n",
       "* Q                           int32  [dimensionless]  (Q)  [0, 1, ..., 14, 15]\n",
       "* energy                    float64            [meV]  (energy)  [-0.029678, -0.02962, ..., 0.02962, 0.029678]\n",
       "Data:\n",
       "                            float64  [dimensionless]  (Q, energy)  [0, 0, ..., 0, 0]  [1, 1, ..., 1, 1]\n"
      ]
     },
     "execution_count": 30,
     "metadata": {},
     "output_type": "execute_result"
    }
   ],
   "source": [
    "# sc.show(GGG_data_450mK)\n",
    "GGG_data_450mK"
   ]
  },
  {
   "cell_type": "code",
   "execution_count": 31,
   "metadata": {},
   "outputs": [
    {
     "data": {
      "text/html": [
       "<div><!-- Original source from -->\n",
       "<!-- https://github.com/jsignell/xarray/blob/1d960933ab252e0f79f7e050e6c9261d55568057/xarray/static/html/icons-svg-inline.html -->\n",
       "<svg style=\"position: absolute; width: 0; height: 0; overflow: hidden\">\n",
       "<defs>\n",
       "<symbol id=\"icon-database\" viewBox=\"0 0 32 32\">\n",
       "<title>Show/Hide data repr</title>\n",
       "<path d=\"M16 0c-8.837 0-16 2.239-16 5v4c0 2.761 7.163 5 16 5s16-2.239 16-5v-4c0-2.761-7.163-5-16-5z\"></path>\n",
       "<path d=\"M16 17c-8.837 0-16-2.239-16-5v6c0 2.761 7.163 5 16 5s16-2.239 16-5v-6c0 2.761-7.163 5-16 5z\"></path>\n",
       "<path d=\"M16 26c-8.837 0-16-2.239-16-5v6c0 2.761 7.163 5 16 5s16-2.239 16-5v-6c0 2.761-7.163 5-16 5z\"></path>\n",
       "</symbol>\n",
       "<symbol id=\"icon-file-text2\" viewBox=\"0 0 32 32\">\n",
       "<title>Show/Hide attributes</title>\n",
       "<path d=\"M28.681 7.159c-0.694-0.947-1.662-2.053-2.724-3.116s-2.169-2.030-3.116-2.724c-1.612-1.182-2.393-1.319-2.841-1.319h-15.5c-1.378 0-2.5 1.121-2.5 2.5v27c0 1.378 1.122 2.5 2.5 2.5h23c1.378 0 2.5-1.122 2.5-2.5v-19.5c0-0.448-0.137-1.23-1.319-2.841zM24.543 5.457c0.959 0.959 1.712 1.825 2.268 2.543h-4.811v-4.811c0.718 0.556 1.584 1.309 2.543 2.268zM28 29.5c0 0.271-0.229 0.5-0.5 0.5h-23c-0.271 0-0.5-0.229-0.5-0.5v-27c0-0.271 0.229-0.5 0.5-0.5 0 0 15.499-0 15.5 0v7c0 0.552 0.448 1 1 1h7v19.5z\"></path>\n",
       "<path d=\"M23 26h-14c-0.552 0-1-0.448-1-1s0.448-1 1-1h14c0.552 0 1 0.448 1 1s-0.448 1-1 1z\"></path>\n",
       "<path d=\"M23 22h-14c-0.552 0-1-0.448-1-1s0.448-1 1-1h14c0.552 0 1 0.448 1 1s-0.448 1-1 1z\"></path>\n",
       "<path d=\"M23 18h-14c-0.552 0-1-0.448-1-1s0.448-1 1-1h14c0.552 0 1 0.448 1 1s-0.448 1-1 1z\"></path>\n",
       "</symbol>\n",
       "</defs>\n",
       "</svg><style id=\"scipp-style-sheet\">.sc-root{--sc-background-color0:var(--jp-layout-color0,#fff);--sc-background-color1:var(--jp-layout-color1,#fcfcfc);--sc-background-color2:var(--jp-layout-color2,#efefef);--sc-inverse-background-color0:var(--jp-inverse-layout-color4,#111);--sc-font-color0:var(--jp-content-font-color0,#000);--sc-font-color1:var(--jp-content-font-color1,#555);--sc-font-color2:var(--jp-content-font-color2,#888);--sc-font-color3:var(--jp-content-font-color3,#ccc);}body.vscode-dark .sc-root{--sc-font-color0:rgba(255,255,255,1);--sc-font-color1:rgba(255,255,255,0.70);--sc-font-color2:rgba(255,255,255,0.54);--sc-font-color3:rgba(255,255,255,0.38);--sc-border-color:#1F1F1F;--sc-disabled-color:#515151;--sc-background-color0:#111111;--sc-background-color1:#111111;--sc-background-color2:#313131;}.sc-wrap{font-size:14px;min-width:300px;max-width:800px;}.sc-var-attrs .sc-wrap{padding-left:3em;}.sc-header{padding-top:6px;padding-bottom:6px;margin-bottom:4px;border-bottom:solid 1px #ddd;}.sc-header > div,.sc-header > ul{display:inline;margin-top:0;margin-bottom:0;}.sc-obj-type,.sc-array-name{margin-left:2px;margin-right:10px;}.sc-obj-type{color:var(--sc-font-color1);}.sc-underlying-size{color:var(--sc-font-color2);}.sc-sections,.reveal .sc-sections{padding-left:0 !important;display:grid;grid-template-columns:150px auto auto auto 1fr 20px 20px;}.sc-section-item{display:contents;}.sc-section-item input{display:none;}.sc-section-item input:enabled + label{cursor:pointer;color:var(--sc-font-color1);}.sc-section-item input:enabled + label:hover{color:var(--sc-font-color0);}.sc-section-summary{grid-column:1;font-weight:500;}.sc-section-summary > span{display:inline-block;padding-left:0.5em;}.sc-section-summary-in:disabled + label{color:var(--sc-font-color1);}.sc-section-summary-in + label:before{display:inline-block;content:'►';font-size:11px;width:15px;text-align:center;}.sc-section-summary-in:disabled + label:before{color:var(--sc-font-color3);}.sc-section-summary-in:checked + label:before{content:'▼';}.sc-section-summary-in:checked + label > span{display:none;}.sc-section-summary,.sc-section-inline-details{padding-top:4px;padding-bottom:4px;}.sc-section-inline-details{grid-column:2 / 6;}.sc-section-details{display:none;grid-column:1 / -1;margin-bottom:5px;}.sc-section-summary-in:checked ~ .sc-section-details{display:contents;}.sc-array-wrap{grid-column:1 / -1;display:grid;grid-template-columns:20px auto;}.sc-array-wrap > label{grid-column:1;vertical-align:top;}.sc-preview{color:var(--sc-font-color2);}.sc-array-preview,.sc-array-data{padding:0 5px !important;grid-column:2;}.sc-array-data,.sc-array-in:checked ~ .sc-array-preview{display:none;}.sc-array-in:checked ~ .sc-array-data,.sc-array-preview{display:inline-block;}.sc-dim-list{display:inline-block !important;list-style:none;padding:0 !important;margin:0;}.sc-dim-list li{display:inline-block;padding:0;margin:0!important;}.sc-dim-list:before{content:'(';}.sc-dim-list:after{content:')';}.sc-dim-list li:not(:last-child):after{content:',';padding-right:5px;}.sc-dim-list li span,.sc-standalone-var-name > span span,.sc-var-name > span span{padding:0 !important;}.sc-aligned{font-weight:bold;}.sc-var-list,.sc-var-item,.reveal .sc-var-list,.reveal .sc-var-item{display:contents;}.sc-var-item > div,.sc-var-item label,.sc-var-item > .sc-var-name span{background-color:var(--sc-background-color1);margin-bottom:0;}.sc-var-item > .sc-var-name:hover span{padding-right:5px;}.sc-var-list > li:nth-child(odd) > div,.sc-var-list > li:nth-child(odd) > label,.sc-var-list > li:nth-child(odd) > .sc-var-name span{background-color:var(--sc-background-color2);}.sc-var-name{grid-column:1;}.sc-var-dims{grid-column:2;}.sc-var-dtype{grid-column:3;text-align:right;color:var(--sc-font-color2);}.sc-var-unit{grid-column:4;text-align:left;color:var(--sc-font-color1);max-width:50pt;text-overflow:ellipsis;}.sc-value-preview{grid-column:5;}.sc-var-preview-variances{text-align:right;}.sc-sections .sc-section-item .sc-section-summary,.sc-sections .sc-section-item .sc-section-inline-details,.sc-section-item .sc-var-list .sc-var-item > div,.sc-section-item .sc-var-list .sc-var-item > label,.sc-section-details .sc-var-list .sc-var-item > div,.sc-section-details .sc-var-list .sc-var-item > label{margin-top:0;margin-bottom:0;}.sc-var-name,.sc-var-dims,.sc-var-dtype,.sc-var-unit,.sc-preview,.sc-attrs dt{white-space:nowrap;overflow:hidden;text-overflow:ellipsis;padding-right:10px;}.sc-var-name:hover,.sc-var-dims:hover,.sc-var-dtype:hover,.sc-var-unit:hover,.sc-attrs dt:hover{overflow:visible;width:auto;z-index:1;}.sc-var-attrs{display:block;}.sc-var-data,.reveal .sc-var-data{display:none;}.sc-var-attrs,.sc-var-data{background-color:var(--sc-background-color0) !important;padding-bottom:5px !important;}.sc-var-attrs-in:checked ~ .sc-var-attrs{display:none;}.sc-var-data-in:checked ~ .sc-var-data{display:block;}.sc-var-data > table{float:right;}.sc-var-name span,.sc-var-data{padding-left:25px !important;}.sc-var-attrs,.sc-var-data{grid-column:1 / -1;}dl.sc-attrs{padding:0;margin:0;display:grid;grid-template-columns:125px auto;}.sc-attrs dt,dd{padding:0;margin:0;float:left;padding-right:10px;width:auto;}.sc-attrs dt{font-weight:normal;grid-column:1;}.sc-attrs dt:hover span{display:inline-block;padding-right:10px;}.sc-attrs dd{grid-column:2;white-space:pre-wrap;word-break:break-all;}.sc-icon-database,.sc-icon-file-text2{display:inline-block;vertical-align:middle;width:1em;height:1.5em !important;stroke-width:0;stroke:currentColor;fill:currentColor;}label.sc-hide-icon svg{opacity:0;}.sc-standalone-var-name{grid-column:1/3;}.sc-standalone-var-name span{padding-left:25px;padding-right:10px;}.sc-title{font-weight:bold;font-size:1.5em;}.sc-subtitle{font-weight:normal;font-style:italic;text-align:left;font-size:1.2em;padding:1px;}.sc-label{fill:var(--sc-font-color0,#444444);text-anchor:middle;}.sc-name{fill:var(--sc-font-color0,#111111);}.sc-inset-line{stroke:var(--sc-font-color1);stroke-width:0.05;stroke-dasharray:0.2,0.2;}.sc-log-wrap{height:25ex;resize:vertical;overflow-y:scroll;display:flex;flex-direction:column-reverse;border:1px solid;border-color:var(--jp-border-color2);background-color:var(--sc-background-color1);}div.sc-log{line-height:2.5ex;}table.sc-log{table-layout:auto;border-collapse:collapse;}tr.sc-log:nth-child(even){background-color:var(--sc-background-color0);}tr.sc-log > td{vertical-align:top;padding-bottom:0.5ex;}.sc-log-time-stamp{min-width:22ch;font-family:var(--jp-code-font-family);color:var(--sc-font-color2);}.sc-log-level{min-width:10ch;}tr.sc-log-debug td.sc-log-level{color:var(--jp-accent-color1);}tr.sc-log-info td.sc-log-level{color:var(--jp-info-color1);}tr.sc-log-warning td.sc-log-level{color:var(--jp-warn-color1);}tr.sc-log-error td.sc-log-level{font-weight:bold;color:var(--jp-error-color2);}tr.sc-log-critical td.sc-log-level{font-weight:bold;color:var(--sc-background-color0);background-color:var(--jp-error-color1);}.sc-log-message{white-space:pre-wrap;width:100%;}.sc-log-html-payload{white-space:normal;}.sc-log-name{padding-right:0.5em;text-align:right;white-space:pre-wrap;color:var(--sc-font-color3);}</style><div class='sc-wrap sc-root'><div class='sc-header'><div class='sc-obj-type'>scipp.Variable (8.25 KB)</div></div><ul class='sc-sections'><li class='sc-section-item'><ul class='sc-var-list'><li class='sc-var-item'><div class='sc-standalone-var-name'><span>(energy: 1024)</span></div><div class='sc-var-dtype'>float64</div><div class='sc-var-unit'>meV</div><div class='sc-value-preview sc-preview'><span><div>-0.030, -0.030, ..., 0.030, 0.030</div></span></div><input id='attrs-9b0f4fac-bf34-4a08-9976-e0318e6228c3' class='sc-var-attrs-in' type='checkbox' disabled><label for='attrs-9b0f4fac-bf34-4a08-9976-e0318e6228c3' class='sc-hide-icon' title='Show/Hide attributes'><svg class='icon sc-icon-file-text2'><use xlink:href='#icon-file-text2'></use></svg></label><input id='data-6f8b0ae0-f124-46ce-92f1-56c8b58babbb' class='sc-var-data-in' type='checkbox'><label for='data-6f8b0ae0-f124-46ce-92f1-56c8b58babbb' title='Show/Hide data repr'><svg class='icon sc-icon-database'><use xlink:href='#icon-database'></use></svg></label><pre class='sc-var-data'>Values:<br>array([-0.029678, -0.02962 , -0.029562, ...,  0.029562,  0.02962 ,\n",
       "        0.029678])</pre></li></ul></li></ul></div></div>"
      ],
      "text/plain": [
       "<scipp.Variable> (energy: 1024)    float64            [meV]  [-0.029678, -0.02962, ..., 0.02962, 0.029678]"
      ]
     },
     "execution_count": 31,
     "metadata": {},
     "output_type": "execute_result"
    }
   ],
   "source": [
    "energy"
   ]
  },
  {
   "cell_type": "code",
   "execution_count": 36,
   "metadata": {},
   "outputs": [
    {
     "ename": "TypeError",
     "evalue": "voigt_problem_wrap() takes 2 positional arguments but 5 were given",
     "output_type": "error",
     "traceback": [
      "\u001b[1;31m---------------------------------------------------------------------------\u001b[0m",
      "\u001b[1;31mTypeError\u001b[0m                                 Traceback (most recent call last)",
      "Cell \u001b[1;32mIn[36], line 17\u001b[0m\n\u001b[0;32m     14\u001b[0m lorz1_HWHM      \u001b[38;5;241m=\u001b[39m \u001b[38;5;241m4e-4\u001b[39m \u001b[38;5;241m*\u001b[39m sc\u001b[38;5;241m.\u001b[39mUnit(\u001b[38;5;124m'\u001b[39m\u001b[38;5;124mmeV\u001b[39m\u001b[38;5;124m'\u001b[39m)\n\u001b[0;32m     15\u001b[0m BG              \u001b[38;5;241m=\u001b[39m \u001b[38;5;241m1e-5\u001b[39m \u001b[38;5;241m*\u001b[39m sc\u001b[38;5;241m.\u001b[39mUnit(\u001b[38;5;124m'\u001b[39m\u001b[38;5;124mdimensionless\u001b[39m\u001b[38;5;124m'\u001b[39m)\n\u001b[1;32m---> 17\u001b[0m yy\u001b[38;5;241m=\u001b[39m\u001b[43mvoigt_problem_wrap\u001b[49m\u001b[43m(\u001b[49m\u001b[43menergy\u001b[49m\u001b[43m,\u001b[49m\u001b[43m \u001b[49m\u001b[43msigma\u001b[49m\u001b[43m,\u001b[49m\u001b[43mlorz1_area\u001b[49m\u001b[43m,\u001b[49m\u001b[43mlorz1_HWHM\u001b[49m\u001b[43m,\u001b[49m\u001b[43mBG\u001b[49m\u001b[43m)\u001b[49m\n\u001b[0;32m     18\u001b[0m \u001b[38;5;28mprint\u001b[39m(yy)\n\u001b[0;32m     21\u001b[0m popt_GGG, _ \u001b[38;5;241m=\u001b[39m curve_fit([\u001b[38;5;124m'\u001b[39m\u001b[38;5;124menergy\u001b[39m\u001b[38;5;124m'\u001b[39m], voigt_problem_wrap, GGG_data_450mK, \n\u001b[0;32m     22\u001b[0m                     p0 \u001b[38;5;241m=\u001b[39m {\n\u001b[0;32m     23\u001b[0m                         \u001b[38;5;124m'\u001b[39m\u001b[38;5;124msigma\u001b[39m\u001b[38;5;124m'\u001b[39m           : \u001b[38;5;241m4e-4\u001b[39m \u001b[38;5;241m*\u001b[39m sc\u001b[38;5;241m.\u001b[39mUnit(\u001b[38;5;124m'\u001b[39m\u001b[38;5;124mmeV\u001b[39m\u001b[38;5;124m'\u001b[39m),\n\u001b[1;32m   (...)\u001b[0m\n\u001b[0;32m     26\u001b[0m                         \u001b[38;5;124m'\u001b[39m\u001b[38;5;124mBG\u001b[39m\u001b[38;5;124m'\u001b[39m              : \u001b[38;5;241m1e-5\u001b[39m \u001b[38;5;241m*\u001b[39m sc\u001b[38;5;241m.\u001b[39mUnit(\u001b[38;5;124m'\u001b[39m\u001b[38;5;124mdimensionless\u001b[39m\u001b[38;5;124m'\u001b[39m)\n\u001b[0;32m     27\u001b[0m                         })\n",
      "\u001b[1;31mTypeError\u001b[0m: voigt_problem_wrap() takes 2 positional arguments but 5 were given"
     ]
    }
   ],
   "source": [
    "import scipp.compat.wrapping\n",
    "@sc.compat.wrapping.wrap1d()\n",
    "def voigt_problem_wrap(energy, sigma,lorz1_area,lorz1_HWHM,BG):\n",
    "\n",
    "\n",
    "    y_lorz=lorz1_area.value*(voigt_profile(energy.values, sigma.value, lorz1_HWHM.value))\n",
    "        \n",
    "    y = y_lorz + BG.value\n",
    "    # y=sc.array(dims=['energy'],values=y,unit='dimensionless')\n",
    "    return y\n",
    "\n",
    "sigma           = 4e-4 * sc.Unit('meV')         \n",
    "lorz1_area      = 5e-5 *sc.Unit('meV')\n",
    "lorz1_HWHM      = 4e-4 * sc.Unit('meV')\n",
    "BG              = 1e-5 * sc.Unit('dimensionless')\n",
    "\n",
    "yy=voigt_problem_wrap(energy, sigma,lorz1_area,lorz1_HWHM,BG)\n",
    "print(yy)\n",
    "\n",
    "\n",
    "popt_GGG, _ = curve_fit(['energy'], voigt_problem_wrap, GGG_data_450mK, \n",
    "                    p0 = {\n",
    "                        'sigma'           : 4e-4 * sc.Unit('meV'),\n",
    "                        'lorz1_area'      : 5e-5*sc.Unit('meV'), \n",
    "                        'lorz1_HWHM'      : 5e-5*sc.Unit('meV'), \n",
    "                        'BG'              : 1e-5 * sc.Unit('dimensionless')\n",
    "                        })"
   ]
  }
 ],
 "metadata": {
  "kernelspec": {
   "display_name": "QENSMockup",
   "language": "python",
   "name": "python3"
  },
  "language_info": {
   "codemirror_mode": {
    "name": "ipython",
    "version": 3
   },
   "file_extension": ".py",
   "mimetype": "text/x-python",
   "name": "python",
   "nbconvert_exporter": "python",
   "pygments_lexer": "ipython3",
   "version": "3.12.2"
  }
 },
 "nbformat": 4,
 "nbformat_minor": 2
}
