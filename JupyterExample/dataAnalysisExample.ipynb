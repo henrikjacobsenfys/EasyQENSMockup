{
 "cells": [
  {
   "cell_type": "code",
   "execution_count": 1,
   "metadata": {},
   "outputs": [
    {
     "data": {
      "application/vnd.jupyter.widget-view+json": {
       "model_id": "ce564a5cab0e4e2fbcb1ae07b6f98a4d",
       "version_major": 2,
       "version_minor": 0
      },
      "text/plain": [
       "InteractiveFig(children=(HBar(), HBox(children=(VBar(children=(Toolbar(children=(ButtonTool(icon='home', layou…"
      ]
     },
     "execution_count": 1,
     "metadata": {},
     "output_type": "execute_result"
    }
   ],
   "source": [
    "import scipp as sc\n",
    "import numpy as np\n",
    "import matplotlib.pyplot as plt\n",
    "import plopp as pp\n",
    "%matplotlib widget\n",
    "\n",
    "#TODO Make a general data loader\n",
    "## Load vanadium data\n",
    "NUMBER_OF_Q_POINTS=16\n",
    "NUMBER_OF_E_POINTS=NUMBER_OF_E_POINTS\n",
    "\n",
    "#Preallocate\n",
    "intensity_values=np.zeros((NUMBER_OF_Q_POINTS,NUMBER_OF_E_POINTS))\n",
    "error_values=np.zeros((NUMBER_OF_Q_POINTS,NUMBER_OF_E_POINTS))\n",
    "\n",
    "# Load data into a matrix\n",
    "for Q in range(16):\n",
    "    filename = '../../IN16b_GGG_data/vanadium_Q' +str(Q+1) +'.dat'\n",
    "\n",
    "    data_array = np.loadtxt(filename)\n",
    "    energy_values=data_array[:, 0] #should be the same for all Q\n",
    "    # EnergyValues[Q,:]=data_array[:, 0]\n",
    "    intensity_values[Q,:]=data_array[:,1]\n",
    "    error_values[Q,:]=data_array[:,2]\n",
    "\n",
    "# Define energy, q and intensity as scipp variables with units, and make a DataArray\n",
    "energy=sc.array(dims=['energy'],values=energy_values/1000,unit='meV')\n",
    "Q=sc.array(dims=['Q'],values=range(NUMBER_OF_Q_POINTS))\n",
    "intensity=sc.array(dims=['Q','energy'],values=intensity_values,variances=error_values*error_values) #The variance is the square of the uncertainty!\n",
    "\n",
    "vanadium_data = sc.DataArray(data=intensity, coords={'Q':Q,'energy': energy})\n",
    "\n",
    "\n",
    "## Bin and plot data \n",
    "Q_bins=16\n",
    "energy_bins=sc.scalar(1e-3*0.2, unit='meV')\n",
    "\n",
    "intensity_min=0.0\n",
    "intensity_max=0.06\n",
    "\n",
    "energy_min = -0.02 * sc.Unit('meV')\n",
    "energy_max = 0.02 * sc.Unit('meV')\n",
    "\n",
    "# da.coords['Energy'] = da.coords['Energy'].to(unit='micro*eV') #optional change the scale to mueV\n",
    "binned_vanadium_data=vanadium_data.flatten(to='dummy').bin(energy=energy_bins,Q=Q_bins).bins.mean() #can add .plot() to plot it\n",
    "\n",
    "binned_vanadium_data.plot()\n"
   ]
  },
  {
   "cell_type": "code",
   "execution_count": 2,
   "metadata": {},
   "outputs": [
    {
     "data": {
      "application/vnd.jupyter.widget-view+json": {
       "model_id": "756b005b372d45a9bbb222f94baec8bf",
       "version_major": 2,
       "version_minor": 0
      },
      "text/plain": [
       "Box(children=(InteractiveFig(children=(HBar(), HBox(children=(VBar(children=(Toolbar(children=(ButtonTool(icon…"
      ]
     },
     "execution_count": 2,
     "metadata": {},
     "output_type": "execute_result"
    }
   ],
   "source": [
    "\n",
    "# Slice the binned data\n",
    "pp.slicer(binned_vanadium_data['energy',energy_min:energy_max],vmin=intensity_min,vmax=intensity_max,\n",
    "     keep=['energy'],\n",
    "     linestyle='none',\n",
    "     marker='o',\n",
    "     markerfacecolor='none',\n",
    "     color='k'\n",
    ")\n"
   ]
  },
  {
   "cell_type": "code",
   "execution_count": 6,
   "metadata": {},
   "outputs": [
    {
     "data": {
      "application/vnd.jupyter.widget-view+json": {
       "model_id": "38683cdb6141412fa7f80266d214a08c",
       "version_major": 2,
       "version_minor": 0
      },
      "text/plain": [
       "Box(children=(InteractiveFig(children=(HBar(), HBox(children=(VBar(children=(Toolbar(children=(ButtonTool(icon…"
      ]
     },
     "execution_count": 6,
     "metadata": {},
     "output_type": "execute_result"
    }
   ],
   "source": [
    "# Fit all Vanadium data to determine the resolution function\n",
    "# TODO: Make a library of functions instead of defining them inline.\n",
    "# TODO: Add a Lorentzian tail to the resolution function\n",
    "def resolution_function_scipp(energy, energy_offset, res_gauss1_area, res_gauss1_sigma, res_BG):\n",
    "    \"\"\"\n",
    "    Calculate the resolution function using the given parameters.\n",
    "\n",
    "    Parameters:\n",
    "    energy (array-like): The energy values.\n",
    "    energy_offset (float): The energy offset.\n",
    "    res_gauss1_area (float): The area of the first Gaussian component.\n",
    "    res_gauss1_sigma (float): The standard deviation of the first Gaussian component.\n",
    "    res_BG (float): The background value.\n",
    "\n",
    "    Returns:\n",
    "    array-like: The calculated resolution function values.\n",
    "    \"\"\"\n",
    "    x = energy\n",
    "    x = x - energy_offset\n",
    "\n",
    "    y = res_gauss1_area * 1 / np.sqrt(2 * np.pi) / res_gauss1_sigma * sc.exp(-0.5 * (x / res_gauss1_sigma) ** 2) + res_BG\n",
    "    return y\n",
    "\n",
    "# Fit the resolution function to the vanadium data\n",
    "\n",
    "from scipp import curve_fit\n",
    "# TODO Add the option of providing start guess for each Q point, e.g. by using the value from higher or lower Q\n",
    "popt, _ = curve_fit(['energy'], resolution_function_scipp, vanadium_data, \n",
    "                    p0 = {'res_gauss1_area' : 5e-5*sc.Unit('meV'), \n",
    "                          'res_gauss1_sigma': 4e-4 * sc.Unit('meV'),\n",
    "                          'energy_offset'   : 0 * sc.Unit('meV'),\n",
    "                          'res_BG'          :1e-5})\n",
    "\n",
    "#Calculate the fit to display it\n",
    "#TODO Make it possible to calculate the fit on a more dense set of points than the data\n",
    "vanadium_fit=resolution_function_scipp(vanadium_data.coords['energy'],\n",
    "                                      energy_offset     =sc.values(popt['energy_offset']),\n",
    "                                      res_gauss1_area   =sc.values(popt['res_gauss1_area']),\n",
    "                                      res_gauss1_sigma  =sc.values(popt['res_gauss1_sigma']),\n",
    "                                      res_BG            =sc.values(popt['res_BG']))\n",
    "vanadium_fit.coords['energy']=energy\n",
    "\n",
    "\n",
    "# Make a group of the data and the fit for the slicer\n",
    "data_and_fit=sc.DataGroup({'Data': binned_vanadium_data,\n",
    "                            'Fit': vanadium_fit})\n",
    "\n",
    "pp.slicer(data_and_fit['energy',energy_min:energy_max],vmin=intensity_min,vmax=intensity_max,\n",
    "     keep=['energy'],\n",
    "     linestyle=         {'Data': 'none',    'Fit': '-'},\n",
    "     marker=            {'Data': 'o',       'Fit':'none'},\n",
    "     markerfacecolor=   {'Data': 'none',    'Fit':'red'},\n",
    "     color=             {'Data': 'black',   'Fit':'red'}\n",
    ")\n",
    "\n"
   ]
  },
  {
   "cell_type": "code",
   "execution_count": 7,
   "metadata": {},
   "outputs": [],
   "source": [
    "\n",
    "#TODO Make a general data loader\n",
    "## Load actual data - just one temperature for now\n",
    "NUMBER_OF_Q_POINTS=16\n",
    "\n",
    "#Preallocate\n",
    "intensity_values=np.zeros((NUMBER_OF_Q_POINTS,NUMBER_OF_E_POINTS))\n",
    "error_values=np.zeros((NUMBER_OF_Q_POINTS,NUMBER_OF_E_POINTS))\n",
    "\n",
    "# Load data into a matrix\n",
    "for Q in range(16):\n",
    "    filename = '../../IN16b_GGG_data/data_450mK_Q' +str(Q+1) +'.dat'\n",
    "\n",
    "    data_array = np.loadtxt(filename)\n",
    "    energy_values=data_array[:, 0] #should be the same for all Q\n",
    "    # EnergyValues[Q,:]=data_array[:, 0]\n",
    "    intensity_values[Q,:]=data_array[:,1]\n",
    "    error_values[Q,:]=data_array[:,2]\n",
    "\n",
    "# Define energy, q and intensity as scipp variables with units, and make a DataArraw\n",
    "energy=sc.array(dims=['energy'],values=energy_values/1000,unit='meV')\n",
    "Q=sc.array(dims=['Q'],values=range(NUMBER_OF_Q_POINTS))\n",
    "intensity=sc.array(dims=['Q','energy'],values=intensity_values,variances=error_values*error_values) #The variance is the square of the uncertainty!\n",
    "\n",
    "GGG_data_450mK = sc.DataArray(data=intensity, coords={'Q':Q,'energy': energy})\n",
    "\n",
    "\n",
    "# Bin the data\n",
    "Q_bins=16\n",
    "energy_bins=sc.scalar(1e-3*0.2, unit='meV')\n",
    "\n",
    "intensity_min=0.0\n",
    "intensity_max=0.01\n",
    "\n",
    "energy_min = -0.03 * sc.Unit('meV')\n",
    "energy_max = 0.03 * sc.Unit('meV')\n",
    "\n",
    "# da.coords['Energy'] = da.coords['Energy'].to(unit='micro*eV') #optional change the scale to mueV\n",
    "binned_GGG_data_450mK=GGG_data_450mK.flatten(to='dummy').bin(energy=energy_bins,Q=Q_bins).bins.mean() #can add .plot() to plot it\n"
   ]
  },
  {
   "cell_type": "code",
   "execution_count": 8,
   "metadata": {},
   "outputs": [
    {
     "data": {
      "application/vnd.jupyter.widget-view+json": {
       "model_id": "bee9ee2c4e454d6ea89473eab4e367ff",
       "version_major": 2,
       "version_minor": 0
      },
      "text/plain": [
       "Box(children=(InteractiveFig(children=(HBar(), HBox(children=(VBar(children=(Toolbar(children=(ButtonTool(icon…"
      ]
     },
     "execution_count": 8,
     "metadata": {},
     "output_type": "execute_result"
    }
   ],
   "source": [
    "\n",
    "pp.slicer(binned_GGG_data_450mK['energy',energy_min:energy_max],vmin=intensity_min,vmax=intensity_max,\n",
    "     keep=['energy'],\n",
    "     linestyle='none',\n",
    "     marker='o',\n",
    "     markerfacecolor='none',\n",
    "     color='k'\n",
    ")\n",
    "\n"
   ]
  },
  {
   "cell_type": "code",
   "execution_count": 9,
   "metadata": {},
   "outputs": [
    {
     "data": {
      "application/vnd.jupyter.widget-view+json": {
       "model_id": "13f70eccc5014fa0860d7edaa0b361f0",
       "version_major": 2,
       "version_minor": 0
      },
      "text/plain": [
       "Box(children=(InteractiveFig(children=(HBar(), HBox(children=(VBar(children=(Toolbar(children=(ButtonTool(icon…"
      ]
     },
     "execution_count": 9,
     "metadata": {},
     "output_type": "execute_result"
    }
   ],
   "source": [
    "from scipy.special import voigt_profile\n",
    "\n",
    "# TODO: Add a Lorentzian tail to the resolution function\n",
    "# Define the fit function, which for now is just an elastic peak, a Lorentzian peak and a background. The resolution function is fixed to the Gaussian one determined from the vanadium data.\n",
    "def GGG_fit_function_scipp(energy, energy_offset, res_gauss1_sigma,el_area,lorz1_area,lorz1_HWHM,BG):\n",
    "    \"\"\"\n",
    "    Elastic plus quasielastic signal with a Gaussian resolution and a constant background\n",
    "\n",
    "    Parameters:\n",
    "    energy (array-like): The energy values.\n",
    "    energy_offset (float): The energy offset.\n",
    "    res_gauss1_sigma (float): The standard deviation of the Gaussian resolution function.\n",
    "    el_area (float): The area of the elastic peak.\n",
    "    lorz1_area (float): The area of the Lorentzian peak.\n",
    "    lorz1_HWHM (float): The half-width at half-maximum of the Lorentzian peak.\n",
    "    BG (float): The background value.\n",
    "\n",
    "    Returns:\n",
    "    array-like: The calculated GGG fit function values.\n",
    "    \"\"\"\n",
    "\n",
    "    # Subtract energy offset from energy values\n",
    "    x = energy-energy_offset\n",
    "\n",
    "    # Calculate elastic peak using resolution function\n",
    "    y_el = resolution_function_scipp(energy, energy_offset, el_area, res_gauss1_sigma, 0)\n",
    "\n",
    "    # scipp doesn't allow using some functions like the voigt_profile, imported from scipy. We therefore need to convert the scipp arrays to numpy arrays.\n",
    "    y_lorz=lorz1_area.value*(voigt_profile(x.values, res_gauss1_sigma.value, lorz1_HWHM.value))\n",
    "\n",
    "    # Sum elastic and Lorentzian peaks and add background\n",
    "    y = y_el.values + y_lorz + BG.values\n",
    "\n",
    "    # Return the result as a scipp array\n",
    "    y=sc.array(dims=['energy'],values=y,unit='dimensionless')    \n",
    "    \n",
    "    return y\n",
    "\n",
    "# Define the initial guess for the fit parameters\n",
    "energy_offset= -0.5e-3 * sc.Unit('meV')\n",
    "res_gauss1_sigma=4e-4 * sc.Unit('meV')\n",
    "el_area=1e-5*sc.Unit('meV')\n",
    "lorz1_area=1e-5*sc.Unit('meV')\n",
    "lorz1_HWHM=1e-3*sc.Unit('meV')\n",
    "BG=0.5e-3 *sc.Unit('dimensionless')\n",
    "\n",
    "# Each Q point has its own set of start guess. For now, we just use the same values for all Q points, but later, the user should be allowed to set these independently for each Q point.\n",
    "energy_offset_array=sc.ones(dims=['Q'], shape=[NUMBER_OF_Q_POINTS])*energy_offset\n",
    "res_gauss1_sigma_array=sc.ones(dims=['Q'], shape=[NUMBER_OF_Q_POINTS])*res_gauss1_sigma\n",
    "el_area_array=sc.ones(dims=['Q'], shape=[NUMBER_OF_Q_POINTS])*el_area\n",
    "lorz1_area_array=sc.ones(dims=['Q'], shape=[NUMBER_OF_Q_POINTS])*lorz1_area\n",
    "lorz1_HWHM_array=sc.ones(dims=['Q'], shape=[NUMBER_OF_Q_POINTS])*lorz1_HWHM\n",
    "BG_array=sc.ones(dims=['Q'], shape=[NUMBER_OF_Q_POINTS])*BG\n",
    "\n",
    "# Calculate the guess; this is useful for the user to determine if the guess is reasonable\n",
    "GGG_intensity_guess=sc.zeros(dims=['Q','energy'],shape=[NUMBER_OF_Q_POINTS,NUMBER_OF_E_POINTS])\n",
    "for k in range(NUMBER_OF_Q_POINTS):\n",
    "    GGG_intensity_guess['Q',k]=GGG_fit_function_scipp(energy, energy_offset_array[k], res_gauss1_sigma_array[k],el_area_array[k],lorz1_area_array[k],lorz1_HWHM_array[k],BG_array[k])\n",
    "GGG_guess_450mK=sc.DataArray(data=GGG_intensity_guess, coords={'Q':Q,'energy': energy})\n",
    "\n",
    "# Fit the data. We can add more functionality, such as minimum and maximum values, but for now we keep it simple.\n",
    "popt_GGG, _ = curve_fit(['energy'], GGG_fit_function_scipp, GGG_data_450mK, \n",
    "                    p0 = {\n",
    "                        'energy_offset'   : energy_offset,\n",
    "                        'res_gauss1_sigma':res_gauss1_sigma,\n",
    "                        'el_area'         : el_area, \n",
    "                        'lorz1_area'      : lorz1_area, \n",
    "                        'lorz1_HWHM'      : lorz1_HWHM, \n",
    "                        'BG'              : BG\n",
    "                        })\n",
    "\n",
    "# Calculate the fit in the same way as the guess was calculated\n",
    "GGG_450mK_fit_values=sc.zeros(dims=['Q','energy'],shape=[NUMBER_OF_Q_POINTS,NUMBER_OF_E_POINTS])\n",
    "for k in range(NUMBER_OF_Q_POINTS):\n",
    "    GGG_450mK_fit_values['Q',k]=GGG_fit_function_scipp(energy, sc.values(popt_GGG['energy_offset'])[k], sc.values(popt_GGG['res_gauss1_sigma'])[k],sc.values(popt_GGG['el_area'])[k],sc.values(popt_GGG['lorz1_area'])[k],sc.values(popt_GGG['lorz1_HWHM'])[k],sc.values(popt_GGG['BG'])[k])\n",
    "GGG_fit_450mK=sc.DataArray(data=GGG_450mK_fit_values, coords={'Q':Q,'energy': energy})\n",
    "\n",
    "# Make a group of the data, guess and fitfor the slicer\n",
    "# For the user, it should be possible to show/hide the data, guess and fit\n",
    "data_and_guess_and_fit=sc.DataGroup({'Data': binned_GGG_data_450mK,\n",
    "                                     'Guess': GGG_guess_450mK,\n",
    "                                     'Fit': GGG_fit_450mK})\n",
    "\n",
    "pp.slicer(data_and_guess_and_fit['energy',energy_min:energy_max],vmin=intensity_min,vmax=intensity_max,\n",
    "     keep=['energy'],\n",
    "     linestyle=         {'Data': 'none', 'Guess':'-' ,   'Fit': '-'},\n",
    "     marker=            {'Data': 'o',    'Guess':'none' ,'Fit':'none'},\n",
    "     markerfacecolor=   {'Data': 'none', 'Guess':'green','Fit':'red'},\n",
    "     color=             {'Data': 'black','Guess':'green','Fit':'red'}\n",
    ")\n",
    "\n"
   ]
  },
  {
   "cell_type": "code",
   "execution_count": null,
   "metadata": {},
   "outputs": [],
   "source": [
    "\n",
    "\n"
   ]
  }
 ],
 "metadata": {
  "kernelspec": {
   "display_name": "QENSMockup",
   "language": "python",
   "name": "python3"
  },
  "language_info": {
   "codemirror_mode": {
    "name": "ipython",
    "version": 3
   },
   "file_extension": ".py",
   "mimetype": "text/x-python",
   "name": "python",
   "nbconvert_exporter": "python",
   "pygments_lexer": "ipython3",
   "version": "3.12.2"
  }
 },
 "nbformat": 4,
 "nbformat_minor": 2
}
