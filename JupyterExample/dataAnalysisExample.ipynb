{
 "cells": [
  {
   "cell_type": "code",
   "execution_count": 1,
   "metadata": {},
   "outputs": [
    {
     "data": {
      "application/vnd.jupyter.widget-view+json": {
       "model_id": "25c03f4cebab4cec8416cc07f6020054",
       "version_major": 2,
       "version_minor": 0
      },
      "text/plain": [
       "InteractiveFig(children=(HBar(), HBox(children=(VBar(children=(Toolbar(children=(ButtonTool(icon='home', layou…"
      ]
     },
     "execution_count": 1,
     "metadata": {},
     "output_type": "execute_result"
    }
   ],
   "source": [
    "import scipp as sc\n",
    "import numpy as np\n",
    "import matplotlib.pyplot as plt\n",
    "import plopp as pp\n",
    "%matplotlib widget\n",
    "\n",
    "## Load vanadium data\n",
    "number_of_Q_points=16\n",
    "\n",
    "#Preallocate\n",
    "intensity_values=np.zeros((number_of_Q_points,1024))\n",
    "error_values=np.zeros((number_of_Q_points,1024))\n",
    "\n",
    "# Load data into a matrix\n",
    "for Q in range(16):\n",
    "    filename = '../../IN16b_GGG_data/vanadium_Q' +str(Q+1) +'.dat'\n",
    "\n",
    "    data_array = np.loadtxt(filename)\n",
    "    energy_values=data_array[:, 0] #should be the same for all Q\n",
    "    # EnergyValues[Q,:]=data_array[:, 0]\n",
    "    intensity_values[Q,:]=data_array[:,1]\n",
    "    error_values[Q,:]=data_array[:,2]\n",
    "\n",
    "# Define energy, q and intensity as scipp variables with units, and make a DataArraw\n",
    "energy=sc.array(dims=['energy'],values=energy_values/1000,unit='meV')\n",
    "Q=sc.array(dims=['Q'],values=range(number_of_Q_points))\n",
    "intensity=sc.array(dims=['Q','energy'],values=intensity_values,variances=error_values*error_values) #The variance is the square of the uncertainty!\n",
    "\n",
    "vanadium_data = sc.DataArray(data=intensity, coords={'Q':Q,'energy': energy})\n",
    "\n",
    "## Bin and plot data \n",
    "\n",
    "Q_bins=4\n",
    "energy_bins=sc.scalar(1e-3*0.2, unit='meV')\n",
    "\n",
    "intensity_min=0.0\n",
    "intensity_max=0.06\n",
    "\n",
    "energy_min = -0.02 * sc.Unit('meV')\n",
    "energy_max = 0.02 * sc.Unit('meV')\n",
    "\n",
    "# da.coords['Energy'] = da.coords['Energy'].to(unit='micro*eV') #optional change the scale to mueV\n",
    "binned_vanadium_data=vanadium_data.flatten(to='dummy').bin(energy=energy_bins,Q=Q_bins).bins.mean() #can add .plot() to plot it\n",
    "\n",
    "binned_vanadium_data.plot()\n",
    "\n"
   ]
  },
  {
   "cell_type": "code",
   "execution_count": 2,
   "metadata": {},
   "outputs": [
    {
     "data": {
      "application/vnd.jupyter.widget-view+json": {
       "model_id": "e93f89377fff404894e887181cc008cb",
       "version_major": 2,
       "version_minor": 0
      },
      "text/plain": [
       "Box(children=(InteractiveFig(children=(HBar(), HBox(children=(VBar(children=(Toolbar(children=(ButtonTool(icon…"
      ]
     },
     "execution_count": 2,
     "metadata": {},
     "output_type": "execute_result"
    }
   ],
   "source": [
    "\n",
    "# Slice the binned data\n",
    "pp.slicer(binned_vanadium_data['energy',energy_min:energy_max],vmin=intensity_min,vmax=intensity_max,\n",
    "     keep=['energy'],\n",
    "     linestyle='none',\n",
    "     marker='o',\n",
    "     markerfacecolor='none',\n",
    "     color='k'\n",
    ")\n",
    "\n",
    "\n",
    "\n"
   ]
  },
  {
   "cell_type": "code",
   "execution_count": 8,
   "metadata": {},
   "outputs": [
    {
     "data": {
      "text/plain": [
       "array([0.00000000e+000, 0.00000000e+000, 0.00000000e+000, 0.00000000e+000,\n",
       "       0.00000000e+000, 0.00000000e+000, 0.00000000e+000, 0.00000000e+000,\n",
       "       0.00000000e+000, 0.00000000e+000, 0.00000000e+000, 0.00000000e+000,\n",
       "       0.00000000e+000, 0.00000000e+000, 0.00000000e+000, 0.00000000e+000,\n",
       "       0.00000000e+000, 0.00000000e+000, 0.00000000e+000, 0.00000000e+000,\n",
       "       0.00000000e+000, 0.00000000e+000, 0.00000000e+000, 0.00000000e+000,\n",
       "       0.00000000e+000, 0.00000000e+000, 0.00000000e+000, 0.00000000e+000,\n",
       "       0.00000000e+000, 0.00000000e+000, 0.00000000e+000, 0.00000000e+000,\n",
       "       0.00000000e+000, 0.00000000e+000, 0.00000000e+000, 0.00000000e+000,\n",
       "       0.00000000e+000, 0.00000000e+000, 0.00000000e+000, 0.00000000e+000,\n",
       "       0.00000000e+000, 0.00000000e+000, 0.00000000e+000, 0.00000000e+000,\n",
       "       0.00000000e+000, 0.00000000e+000, 0.00000000e+000, 0.00000000e+000,\n",
       "       0.00000000e+000, 0.00000000e+000, 0.00000000e+000, 0.00000000e+000,\n",
       "       0.00000000e+000, 0.00000000e+000, 0.00000000e+000, 0.00000000e+000,\n",
       "       0.00000000e+000, 0.00000000e+000, 0.00000000e+000, 0.00000000e+000,\n",
       "       0.00000000e+000, 0.00000000e+000, 0.00000000e+000, 0.00000000e+000,\n",
       "       0.00000000e+000, 0.00000000e+000, 0.00000000e+000, 0.00000000e+000,\n",
       "       0.00000000e+000, 0.00000000e+000, 0.00000000e+000, 0.00000000e+000,\n",
       "       0.00000000e+000, 0.00000000e+000, 0.00000000e+000, 0.00000000e+000,\n",
       "       0.00000000e+000, 0.00000000e+000, 0.00000000e+000, 0.00000000e+000,\n",
       "       0.00000000e+000, 3.44702159e-315, 4.73408079e-283, 1.19082899e-252,\n",
       "       5.48637140e-224, 4.62959587e-197, 7.15522068e-172, 2.02546646e-148,\n",
       "       1.05014471e-126, 9.97229961e-107, 1.73445708e-088, 5.52527464e-072,\n",
       "       3.22378637e-057, 3.44509111e-044, 6.74306338e-033, 2.41732945e-023,\n",
       "       1.58721777e-015, 1.90879489e-009, 4.20440054e-005, 1.69617624e-002,\n",
       "       1.25331414e-001, 1.69617624e-002, 4.20440054e-005, 1.90879489e-009,\n",
       "       1.58721777e-015, 2.41732945e-023, 6.74306338e-033, 3.44509111e-044,\n",
       "       3.22378637e-057, 5.52527464e-072, 1.73445708e-088, 9.97229961e-107,\n",
       "       1.05014471e-126, 2.02546646e-148, 7.15522068e-172, 4.62959587e-197,\n",
       "       5.48637140e-224, 1.19082899e-252, 4.73408079e-283, 3.44702159e-315,\n",
       "       0.00000000e+000, 0.00000000e+000, 0.00000000e+000, 0.00000000e+000,\n",
       "       0.00000000e+000, 0.00000000e+000, 0.00000000e+000, 0.00000000e+000,\n",
       "       0.00000000e+000, 0.00000000e+000, 0.00000000e+000, 0.00000000e+000,\n",
       "       0.00000000e+000, 0.00000000e+000, 0.00000000e+000, 0.00000000e+000,\n",
       "       0.00000000e+000, 0.00000000e+000, 0.00000000e+000, 0.00000000e+000,\n",
       "       0.00000000e+000, 0.00000000e+000, 0.00000000e+000, 0.00000000e+000,\n",
       "       0.00000000e+000, 0.00000000e+000, 0.00000000e+000, 0.00000000e+000,\n",
       "       0.00000000e+000, 0.00000000e+000, 0.00000000e+000, 0.00000000e+000,\n",
       "       0.00000000e+000, 0.00000000e+000, 0.00000000e+000, 0.00000000e+000,\n",
       "       0.00000000e+000, 0.00000000e+000, 0.00000000e+000, 0.00000000e+000,\n",
       "       0.00000000e+000, 0.00000000e+000, 0.00000000e+000, 0.00000000e+000,\n",
       "       0.00000000e+000, 0.00000000e+000, 0.00000000e+000, 0.00000000e+000,\n",
       "       0.00000000e+000, 0.00000000e+000, 0.00000000e+000, 0.00000000e+000,\n",
       "       0.00000000e+000, 0.00000000e+000, 0.00000000e+000, 0.00000000e+000,\n",
       "       0.00000000e+000, 0.00000000e+000, 0.00000000e+000, 0.00000000e+000,\n",
       "       0.00000000e+000, 0.00000000e+000, 0.00000000e+000, 0.00000000e+000,\n",
       "       0.00000000e+000, 0.00000000e+000, 0.00000000e+000, 0.00000000e+000,\n",
       "       0.00000000e+000, 0.00000000e+000, 0.00000000e+000, 0.00000000e+000,\n",
       "       0.00000000e+000, 0.00000000e+000, 0.00000000e+000, 0.00000000e+000,\n",
       "       0.00000000e+000, 0.00000000e+000, 0.00000000e+000, 0.00000000e+000,\n",
       "       0.00000000e+000])"
      ]
     },
     "execution_count": 8,
     "metadata": {},
     "output_type": "execute_result"
    }
   ],
   "source": [
    "## Fit vanadium data\n",
    "import QENSmodels as QM\n",
    "yy=QM.gaussian(x=np.linspace(-10,10,201),\n",
    "          scale=1,\n",
    "          center=0,\n",
    "          sigma=0.05)\n",
    "\n"
   ]
  },
  {
   "cell_type": "code",
   "execution_count": null,
   "metadata": {},
   "outputs": [],
   "source": []
  },
  {
   "cell_type": "code",
   "execution_count": null,
   "metadata": {},
   "outputs": [],
   "source": []
  }
 ],
 "metadata": {
  "kernelspec": {
   "display_name": "QENSMockup",
   "language": "python",
   "name": "python3"
  },
  "language_info": {
   "codemirror_mode": {
    "name": "ipython",
    "version": 3
   },
   "file_extension": ".py",
   "mimetype": "text/x-python",
   "name": "python",
   "nbconvert_exporter": "python",
   "pygments_lexer": "ipython3",
   "version": "3.12.2"
  }
 },
 "nbformat": 4,
 "nbformat_minor": 2
}
