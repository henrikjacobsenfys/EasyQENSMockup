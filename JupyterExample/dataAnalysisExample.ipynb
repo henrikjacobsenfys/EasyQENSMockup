{
 "cells": [
  {
   "cell_type": "code",
   "execution_count": 12,
   "metadata": {},
   "outputs": [
    {
     "data": {
      "application/vnd.jupyter.widget-view+json": {
       "model_id": "b146eb398dc9446899b985294b8f9088",
       "version_major": 2,
       "version_minor": 0
      },
      "text/plain": [
       "InteractiveFig(children=(HBar(), HBox(children=(VBar(children=(Toolbar(children=(ButtonTool(icon='home', layou…"
      ]
     },
     "execution_count": 12,
     "metadata": {},
     "output_type": "execute_result"
    }
   ],
   "source": [
    "import scipp as sc\n",
    "import numpy as np\n",
    "import matplotlib.pyplot as plt\n",
    "import plopp as pp\n",
    "%matplotlib widget\n",
    "\n",
    "## Load vanadium data\n",
    "number_of_Q_points=16\n",
    "\n",
    "#Preallocate\n",
    "intensity_values=np.zeros((number_of_Q_points,1024))\n",
    "error_values=np.zeros((number_of_Q_points,1024))\n",
    "\n",
    "# Load data into a matrix\n",
    "for Q in range(16):\n",
    "    filename = '../../IN16b_GGG_data/vanadium_Q' +str(Q+1) +'.dat'\n",
    "\n",
    "    data_array = np.loadtxt(filename)\n",
    "    energy_values=data_array[:, 0] #should be the same for all Q\n",
    "    # EnergyValues[Q,:]=data_array[:, 0]\n",
    "    intensity_values[Q,:]=data_array[:,1]\n",
    "    error_values[Q,:]=data_array[:,2]\n",
    "\n",
    "# Define energy, q and intensity as scipp variables with units, and make a DataArraw\n",
    "energy=sc.array(dims=['energy'],values=energy_values/1000,unit='meV')\n",
    "Q=sc.array(dims=['Q'],values=range(number_of_Q_points))\n",
    "intensity=sc.array(dims=['Q','energy'],values=intensity_values,variances=error_values*error_values) #The variance is the square of the uncertainty!\n",
    "\n",
    "vanadium_data = sc.DataArray(data=intensity, coords={'Q':Q,'energy': energy})\n",
    "\n",
    "## Bin and plot data \n",
    "\n",
    "Q_bins=4\n",
    "energy_bins=sc.scalar(1e-3*0.2, unit='meV')\n",
    "\n",
    "intensity_min=0.0\n",
    "intensity_max=0.06\n",
    "\n",
    "energy_min = -0.02 * sc.Unit('meV')\n",
    "energy_max = 0.02 * sc.Unit('meV')\n",
    "\n",
    "# da.coords['Energy'] = da.coords['Energy'].to(unit='micro*eV') #optional change the scale to mueV\n",
    "binned_vanadium_data=vanadium_data.flatten(to='dummy').bin(energy=energy_bins,Q=Q_bins).bins.mean() #can add .plot() to plot it\n",
    "\n",
    "binned_vanadium_data.plot()\n",
    "\n"
   ]
  },
  {
   "cell_type": "code",
   "execution_count": 11,
   "metadata": {},
   "outputs": [
    {
     "data": {
      "application/vnd.jupyter.widget-view+json": {
       "model_id": "fe87a083a6074dbf99d4141b0160e5ec",
       "version_major": 2,
       "version_minor": 0
      },
      "text/plain": [
       "Box(children=(InteractiveFig(children=(HBar(), HBox(children=(VBar(children=(Toolbar(children=(ButtonTool(icon…"
      ]
     },
     "execution_count": 11,
     "metadata": {},
     "output_type": "execute_result"
    }
   ],
   "source": [
    "\n",
    "# Slice the binned data\n",
    "pp.slicer(binned_vanadium_data['energy',energy_min:energy_max],vmin=intensity_min,vmax=intensity_max,\n",
    "     keep=['energy'],\n",
    "     linestyle='none',\n",
    "     marker='o',\n",
    "     markerfacecolor='none',\n",
    "     color='k'\n",
    ")\n",
    "\n",
    "\n",
    "\n"
   ]
  },
  {
   "cell_type": "code",
   "execution_count": null,
   "metadata": {},
   "outputs": [],
   "source": [
    "## Fit vanadium data"
   ]
  },
  {
   "cell_type": "code",
   "execution_count": null,
   "metadata": {},
   "outputs": [],
   "source": []
  },
  {
   "cell_type": "code",
   "execution_count": null,
   "metadata": {},
   "outputs": [],
   "source": []
  }
 ],
 "metadata": {
  "kernelspec": {
   "display_name": "QENSMockup",
   "language": "python",
   "name": "python3"
  },
  "language_info": {
   "codemirror_mode": {
    "name": "ipython",
    "version": 3
   },
   "file_extension": ".py",
   "mimetype": "text/x-python",
   "name": "python",
   "nbconvert_exporter": "python",
   "pygments_lexer": "ipython3",
   "version": "3.12.2"
  }
 },
 "nbformat": 4,
 "nbformat_minor": 2
}
