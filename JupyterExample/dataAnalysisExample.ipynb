{
 "cells": [
  {
   "cell_type": "code",
   "execution_count": 1,
   "metadata": {},
   "outputs": [],
   "source": [
    "import scipp as sc\n",
    "import numpy as np\n",
    "import matplotlib.pyplot as plt\n",
    "import plopp as pp\n",
    "from scipp import curve_fit\n",
    "from scipy.special import voigt_profile\n",
    "\n",
    "%matplotlib widget\n",
    "\n",
    "## In this example, we will look at a sample that has an elastic signal from incoherent scattering (from the sample and the sample holder), and a quasi-elastic magnetic signal from the sample. The goal is to determine the width and area of the magnetic signal as function of Q. In principle, we also want to look at temperature dependence, but we skip that for now.\n",
    "\n",
    "## Data analysis steps\n",
    "# 1. Load and inspect data\n",
    "# 2. Load and inspect vanadium data\n",
    "# 3. Define resolution function and fit vanadium data\n",
    "# 4. Define fit function and fit data\n",
    "# 5. Plot data and fit\n",
    "# 6. Define fit function for fitted parameters, fit parameters and plot\n",
    "\n",
    "\n"
   ]
  },
  {
   "cell_type": "code",
   "execution_count": 64,
   "metadata": {},
   "outputs": [
    {
     "data": {
      "application/vnd.jupyter.widget-view+json": {
       "model_id": "4302a3a1b4264d099c65fdcec9331a5e",
       "version_major": 2,
       "version_minor": 0
      },
      "text/plain": [
       "Box(children=(InteractiveFig(children=(HBar(), HBox(children=(VBar(children=(Toolbar(children=(ButtonTool(icon…"
      ]
     },
     "execution_count": 64,
     "metadata": {},
     "output_type": "execute_result"
    },
    {
     "ename": "ValueError",
     "evalue": "No finite values were found in array. Cannot compute limits.",
     "output_type": "error",
     "traceback": [
      "\u001b[1;31m---------------------------------------------------------------------------\u001b[0m",
      "\u001b[1;31mValueError\u001b[0m                                Traceback (most recent call last)",
      "File \u001b[1;32mc:\\Users\\henrikjacobsen3\\AppData\\Local\\anaconda3\\envs\\QENSMockup\\Lib\\site-packages\\ipywidgets\\widgets\\widget.py:773\u001b[0m, in \u001b[0;36mWidget._handle_msg\u001b[1;34m(self, msg)\u001b[0m\n\u001b[0;32m    771\u001b[0m         \u001b[38;5;28;01mif\u001b[39;00m \u001b[38;5;124m'\u001b[39m\u001b[38;5;124mbuffer_paths\u001b[39m\u001b[38;5;124m'\u001b[39m \u001b[38;5;129;01min\u001b[39;00m data:\n\u001b[0;32m    772\u001b[0m             _put_buffers(state, data[\u001b[38;5;124m'\u001b[39m\u001b[38;5;124mbuffer_paths\u001b[39m\u001b[38;5;124m'\u001b[39m], msg[\u001b[38;5;124m'\u001b[39m\u001b[38;5;124mbuffers\u001b[39m\u001b[38;5;124m'\u001b[39m])\n\u001b[1;32m--> 773\u001b[0m         \u001b[38;5;28;43mself\u001b[39;49m\u001b[38;5;241;43m.\u001b[39;49m\u001b[43mset_state\u001b[49m\u001b[43m(\u001b[49m\u001b[43mstate\u001b[49m\u001b[43m)\u001b[49m\n\u001b[0;32m    775\u001b[0m \u001b[38;5;66;03m# Handle a state request.\u001b[39;00m\n\u001b[0;32m    776\u001b[0m \u001b[38;5;28;01melif\u001b[39;00m method \u001b[38;5;241m==\u001b[39m \u001b[38;5;124m'\u001b[39m\u001b[38;5;124mrequest_state\u001b[39m\u001b[38;5;124m'\u001b[39m:\n",
      "File \u001b[1;32mc:\\Users\\henrikjacobsen3\\AppData\\Local\\anaconda3\\envs\\QENSMockup\\Lib\\site-packages\\ipywidgets\\widgets\\widget.py:650\u001b[0m, in \u001b[0;36mWidget.set_state\u001b[1;34m(self, sync_data)\u001b[0m\n\u001b[0;32m    645\u001b[0m         \u001b[38;5;28mself\u001b[39m\u001b[38;5;241m.\u001b[39m_send(msg, buffers\u001b[38;5;241m=\u001b[39mecho_buffers)\n\u001b[0;32m    647\u001b[0m \u001b[38;5;66;03m# The order of these context managers is important. Properties must\u001b[39;00m\n\u001b[0;32m    648\u001b[0m \u001b[38;5;66;03m# be locked when the hold_trait_notification context manager is\u001b[39;00m\n\u001b[0;32m    649\u001b[0m \u001b[38;5;66;03m# released and notifications are fired.\u001b[39;00m\n\u001b[1;32m--> 650\u001b[0m \u001b[43m\u001b[49m\u001b[38;5;28;43;01mwith\u001b[39;49;00m\u001b[43m \u001b[49m\u001b[38;5;28;43mself\u001b[39;49m\u001b[38;5;241;43m.\u001b[39;49m\u001b[43m_lock_property\u001b[49m\u001b[43m(\u001b[49m\u001b[38;5;241;43m*\u001b[39;49m\u001b[38;5;241;43m*\u001b[39;49m\u001b[43msync_data\u001b[49m\u001b[43m)\u001b[49m\u001b[43m,\u001b[49m\u001b[43m \u001b[49m\u001b[38;5;28;43mself\u001b[39;49m\u001b[38;5;241;43m.\u001b[39;49m\u001b[43mhold_trait_notifications\u001b[49m\u001b[43m(\u001b[49m\u001b[43m)\u001b[49m\u001b[43m:\u001b[49m\n\u001b[0;32m    651\u001b[0m \u001b[43m    \u001b[49m\u001b[38;5;28;43;01mfor\u001b[39;49;00m\u001b[43m \u001b[49m\u001b[43mname\u001b[49m\u001b[43m \u001b[49m\u001b[38;5;129;43;01min\u001b[39;49;00m\u001b[43m \u001b[49m\u001b[43msync_data\u001b[49m\u001b[43m:\u001b[49m\n\u001b[0;32m    652\u001b[0m \u001b[43m        \u001b[49m\u001b[38;5;28;43;01mif\u001b[39;49;00m\u001b[43m \u001b[49m\u001b[43mname\u001b[49m\u001b[43m \u001b[49m\u001b[38;5;129;43;01min\u001b[39;49;00m\u001b[43m \u001b[49m\u001b[38;5;28;43mself\u001b[39;49m\u001b[38;5;241;43m.\u001b[39;49m\u001b[43mkeys\u001b[49m\u001b[43m:\u001b[49m\n",
      "File \u001b[1;32mc:\\Users\\henrikjacobsen3\\AppData\\Local\\anaconda3\\envs\\QENSMockup\\Lib\\contextlib.py:144\u001b[0m, in \u001b[0;36m_GeneratorContextManager.__exit__\u001b[1;34m(self, typ, value, traceback)\u001b[0m\n\u001b[0;32m    142\u001b[0m \u001b[38;5;28;01mif\u001b[39;00m typ \u001b[38;5;129;01mis\u001b[39;00m \u001b[38;5;28;01mNone\u001b[39;00m:\n\u001b[0;32m    143\u001b[0m     \u001b[38;5;28;01mtry\u001b[39;00m:\n\u001b[1;32m--> 144\u001b[0m         \u001b[38;5;28;43mnext\u001b[39;49m\u001b[43m(\u001b[49m\u001b[38;5;28;43mself\u001b[39;49m\u001b[38;5;241;43m.\u001b[39;49m\u001b[43mgen\u001b[49m\u001b[43m)\u001b[49m\n\u001b[0;32m    145\u001b[0m     \u001b[38;5;28;01mexcept\u001b[39;00m \u001b[38;5;167;01mStopIteration\u001b[39;00m:\n\u001b[0;32m    146\u001b[0m         \u001b[38;5;28;01mreturn\u001b[39;00m \u001b[38;5;28;01mFalse\u001b[39;00m\n",
      "File \u001b[1;32mc:\\Users\\henrikjacobsen3\\AppData\\Local\\anaconda3\\envs\\QENSMockup\\Lib\\site-packages\\traitlets\\traitlets.py:1510\u001b[0m, in \u001b[0;36mHasTraits.hold_trait_notifications\u001b[1;34m(self)\u001b[0m\n\u001b[0;32m   1508\u001b[0m \u001b[38;5;28;01mfor\u001b[39;00m changes \u001b[38;5;129;01min\u001b[39;00m cache\u001b[38;5;241m.\u001b[39mvalues():\n\u001b[0;32m   1509\u001b[0m     \u001b[38;5;28;01mfor\u001b[39;00m change \u001b[38;5;129;01min\u001b[39;00m changes:\n\u001b[1;32m-> 1510\u001b[0m         \u001b[38;5;28;43mself\u001b[39;49m\u001b[38;5;241;43m.\u001b[39;49m\u001b[43mnotify_change\u001b[49m\u001b[43m(\u001b[49m\u001b[43mchange\u001b[49m\u001b[43m)\u001b[49m\n",
      "File \u001b[1;32mc:\\Users\\henrikjacobsen3\\AppData\\Local\\anaconda3\\envs\\QENSMockup\\Lib\\site-packages\\ipywidgets\\widgets\\widget.py:701\u001b[0m, in \u001b[0;36mWidget.notify_change\u001b[1;34m(self, change)\u001b[0m\n\u001b[0;32m    698\u001b[0m     \u001b[38;5;28;01mif\u001b[39;00m name \u001b[38;5;129;01min\u001b[39;00m \u001b[38;5;28mself\u001b[39m\u001b[38;5;241m.\u001b[39mkeys \u001b[38;5;129;01mand\u001b[39;00m \u001b[38;5;28mself\u001b[39m\u001b[38;5;241m.\u001b[39m_should_send_property(name, \u001b[38;5;28mgetattr\u001b[39m(\u001b[38;5;28mself\u001b[39m, name)):\n\u001b[0;32m    699\u001b[0m         \u001b[38;5;66;03m# Send new state to front-end\u001b[39;00m\n\u001b[0;32m    700\u001b[0m         \u001b[38;5;28mself\u001b[39m\u001b[38;5;241m.\u001b[39msend_state(key\u001b[38;5;241m=\u001b[39mname)\n\u001b[1;32m--> 701\u001b[0m \u001b[38;5;28;43msuper\u001b[39;49m\u001b[43m(\u001b[49m\u001b[43m)\u001b[49m\u001b[38;5;241;43m.\u001b[39;49m\u001b[43mnotify_change\u001b[49m\u001b[43m(\u001b[49m\u001b[43mchange\u001b[49m\u001b[43m)\u001b[49m\n",
      "File \u001b[1;32mc:\\Users\\henrikjacobsen3\\AppData\\Local\\anaconda3\\envs\\QENSMockup\\Lib\\site-packages\\traitlets\\traitlets.py:1525\u001b[0m, in \u001b[0;36mHasTraits.notify_change\u001b[1;34m(self, change)\u001b[0m\n\u001b[0;32m   1523\u001b[0m \u001b[38;5;28;01mdef\u001b[39;00m \u001b[38;5;21mnotify_change\u001b[39m(\u001b[38;5;28mself\u001b[39m, change: Bunch) \u001b[38;5;241m-\u001b[39m\u001b[38;5;241m>\u001b[39m \u001b[38;5;28;01mNone\u001b[39;00m:\n\u001b[0;32m   1524\u001b[0m \u001b[38;5;250m    \u001b[39m\u001b[38;5;124;03m\"\"\"Notify observers of a change event\"\"\"\u001b[39;00m\n\u001b[1;32m-> 1525\u001b[0m     \u001b[38;5;28;01mreturn\u001b[39;00m \u001b[38;5;28;43mself\u001b[39;49m\u001b[38;5;241;43m.\u001b[39;49m\u001b[43m_notify_observers\u001b[49m\u001b[43m(\u001b[49m\u001b[43mchange\u001b[49m\u001b[43m)\u001b[49m\n",
      "File \u001b[1;32mc:\\Users\\henrikjacobsen3\\AppData\\Local\\anaconda3\\envs\\QENSMockup\\Lib\\site-packages\\traitlets\\traitlets.py:1568\u001b[0m, in \u001b[0;36mHasTraits._notify_observers\u001b[1;34m(self, event)\u001b[0m\n\u001b[0;32m   1565\u001b[0m \u001b[38;5;28;01melif\u001b[39;00m \u001b[38;5;28misinstance\u001b[39m(c, EventHandler) \u001b[38;5;129;01mand\u001b[39;00m c\u001b[38;5;241m.\u001b[39mname \u001b[38;5;129;01mis\u001b[39;00m \u001b[38;5;129;01mnot\u001b[39;00m \u001b[38;5;28;01mNone\u001b[39;00m:\n\u001b[0;32m   1566\u001b[0m     c \u001b[38;5;241m=\u001b[39m \u001b[38;5;28mgetattr\u001b[39m(\u001b[38;5;28mself\u001b[39m, c\u001b[38;5;241m.\u001b[39mname)\n\u001b[1;32m-> 1568\u001b[0m \u001b[43mc\u001b[49m\u001b[43m(\u001b[49m\u001b[43mevent\u001b[49m\u001b[43m)\u001b[49m\n",
      "File \u001b[1;32mc:\\Users\\henrikjacobsen3\\AppData\\Local\\anaconda3\\envs\\QENSMockup\\Lib\\site-packages\\plopp\\core\\node.py:172\u001b[0m, in \u001b[0;36mNode.notify_children\u001b[1;34m(self, message)\u001b[0m\n\u001b[0;32m    170\u001b[0m \u001b[38;5;28mself\u001b[39m\u001b[38;5;241m.\u001b[39mnotify_views(message)\n\u001b[0;32m    171\u001b[0m \u001b[38;5;28;01mfor\u001b[39;00m child \u001b[38;5;129;01min\u001b[39;00m \u001b[38;5;28mself\u001b[39m\u001b[38;5;241m.\u001b[39mchildren:\n\u001b[1;32m--> 172\u001b[0m     \u001b[43mchild\u001b[49m\u001b[38;5;241;43m.\u001b[39;49m\u001b[43mnotify_children\u001b[49m\u001b[43m(\u001b[49m\u001b[43mmessage\u001b[49m\u001b[43m)\u001b[49m\n",
      "File \u001b[1;32mc:\\Users\\henrikjacobsen3\\AppData\\Local\\anaconda3\\envs\\QENSMockup\\Lib\\site-packages\\plopp\\core\\node.py:170\u001b[0m, in \u001b[0;36mNode.notify_children\u001b[1;34m(self, message)\u001b[0m\n\u001b[0;32m    159\u001b[0m \u001b[38;5;250m\u001b[39m\u001b[38;5;124;03m\"\"\"\u001b[39;00m\n\u001b[0;32m    160\u001b[0m \u001b[38;5;124;03mNotify all of the node's children with ``message``.\u001b[39;00m\n\u001b[0;32m    161\u001b[0m \u001b[38;5;124;03mReceiving a notification also means that the local copy of the data is\u001b[39;00m\n\u001b[1;32m   (...)\u001b[0m\n\u001b[0;32m    167\u001b[0m \u001b[38;5;124;03m    The message to pass to the children.\u001b[39;00m\n\u001b[0;32m    168\u001b[0m \u001b[38;5;124;03m\"\"\"\u001b[39;00m\n\u001b[0;32m    169\u001b[0m \u001b[38;5;28mself\u001b[39m\u001b[38;5;241m.\u001b[39m_data \u001b[38;5;241m=\u001b[39m \u001b[38;5;28;01mNone\u001b[39;00m\n\u001b[1;32m--> 170\u001b[0m \u001b[38;5;28;43mself\u001b[39;49m\u001b[38;5;241;43m.\u001b[39;49m\u001b[43mnotify_views\u001b[49m\u001b[43m(\u001b[49m\u001b[43mmessage\u001b[49m\u001b[43m)\u001b[49m\n\u001b[0;32m    171\u001b[0m \u001b[38;5;28;01mfor\u001b[39;00m child \u001b[38;5;129;01min\u001b[39;00m \u001b[38;5;28mself\u001b[39m\u001b[38;5;241m.\u001b[39mchildren:\n\u001b[0;32m    172\u001b[0m     child\u001b[38;5;241m.\u001b[39mnotify_children(message)\n",
      "File \u001b[1;32mc:\\Users\\henrikjacobsen3\\AppData\\Local\\anaconda3\\envs\\QENSMockup\\Lib\\site-packages\\plopp\\core\\node.py:184\u001b[0m, in \u001b[0;36mNode.notify_views\u001b[1;34m(self, message)\u001b[0m\n\u001b[0;32m    175\u001b[0m \u001b[38;5;250m\u001b[39m\u001b[38;5;124;03m\"\"\"\u001b[39;00m\n\u001b[0;32m    176\u001b[0m \u001b[38;5;124;03mNotify the node's views with ``message``.\u001b[39;00m\n\u001b[0;32m    177\u001b[0m \n\u001b[1;32m   (...)\u001b[0m\n\u001b[0;32m    181\u001b[0m \u001b[38;5;124;03m    The message to pass to the views.\u001b[39;00m\n\u001b[0;32m    182\u001b[0m \u001b[38;5;124;03m\"\"\"\u001b[39;00m\n\u001b[0;32m    183\u001b[0m \u001b[38;5;28;01mfor\u001b[39;00m view \u001b[38;5;129;01min\u001b[39;00m \u001b[38;5;28mself\u001b[39m\u001b[38;5;241m.\u001b[39mviews:\n\u001b[1;32m--> 184\u001b[0m     \u001b[43mview\u001b[49m\u001b[38;5;241;43m.\u001b[39;49m\u001b[43mnotify_view\u001b[49m\u001b[43m(\u001b[49m\u001b[43m{\u001b[49m\u001b[38;5;124;43m\"\u001b[39;49m\u001b[38;5;124;43mnode_id\u001b[39;49m\u001b[38;5;124;43m\"\u001b[39;49m\u001b[43m:\u001b[49m\u001b[43m \u001b[49m\u001b[38;5;28;43mself\u001b[39;49m\u001b[38;5;241;43m.\u001b[39;49m\u001b[43mid\u001b[49m\u001b[43m,\u001b[49m\u001b[43m \u001b[49m\u001b[38;5;124;43m\"\u001b[39;49m\u001b[38;5;124;43mmessage\u001b[39;49m\u001b[38;5;124;43m\"\u001b[39;49m\u001b[43m:\u001b[49m\u001b[43m \u001b[49m\u001b[43mmessage\u001b[49m\u001b[43m}\u001b[49m\u001b[43m)\u001b[49m\n",
      "File \u001b[1;32mc:\\Users\\henrikjacobsen3\\AppData\\Local\\anaconda3\\envs\\QENSMockup\\Lib\\site-packages\\plopp\\core\\view.py:50\u001b[0m, in \u001b[0;36mView.notify_view\u001b[1;34m(self, message)\u001b[0m\n\u001b[0;32m     48\u001b[0m node_id \u001b[38;5;241m=\u001b[39m message[\u001b[38;5;124m\"\u001b[39m\u001b[38;5;124mnode_id\u001b[39m\u001b[38;5;124m\"\u001b[39m]\n\u001b[0;32m     49\u001b[0m new_values \u001b[38;5;241m=\u001b[39m \u001b[38;5;28mself\u001b[39m\u001b[38;5;241m.\u001b[39mgraph_nodes[node_id]\u001b[38;5;241m.\u001b[39mrequest_data()\n\u001b[1;32m---> 50\u001b[0m \u001b[38;5;28;43mself\u001b[39;49m\u001b[38;5;241;43m.\u001b[39;49m\u001b[43mupdate\u001b[49m\u001b[43m(\u001b[49m\u001b[43mnew_values\u001b[49m\u001b[38;5;241;43m=\u001b[39;49m\u001b[43mnew_values\u001b[49m\u001b[43m,\u001b[49m\u001b[43m \u001b[49m\u001b[43mkey\u001b[49m\u001b[38;5;241;43m=\u001b[39;49m\u001b[43mnode_id\u001b[49m\u001b[43m)\u001b[49m\n",
      "File \u001b[1;32mc:\\Users\\henrikjacobsen3\\AppData\\Local\\anaconda3\\envs\\QENSMockup\\Lib\\site-packages\\plopp\\graphics\\lineview.py:163\u001b[0m, in \u001b[0;36mLineView.update\u001b[1;34m(self, new_values, key)\u001b[0m\n\u001b[0;32m    160\u001b[0m     \u001b[38;5;28mself\u001b[39m\u001b[38;5;241m.\u001b[39martists[key]\u001b[38;5;241m.\u001b[39mupdate(new_values\u001b[38;5;241m=\u001b[39mnew_values)\n\u001b[0;32m    162\u001b[0m \u001b[38;5;28;01mif\u001b[39;00m \u001b[38;5;129;01mnot\u001b[39;00m \u001b[38;5;28mself\u001b[39m\u001b[38;5;241m.\u001b[39m_no_autoscale:\n\u001b[1;32m--> 163\u001b[0m     \u001b[38;5;28;43mself\u001b[39;49m\u001b[38;5;241;43m.\u001b[39;49m\u001b[43mcanvas\u001b[49m\u001b[38;5;241;43m.\u001b[39;49m\u001b[43mautoscale\u001b[49m\u001b[43m(\u001b[49m\u001b[43m)\u001b[49m\n",
      "File \u001b[1;32mc:\\Users\\henrikjacobsen3\\AppData\\Local\\anaconda3\\envs\\QENSMockup\\Lib\\site-packages\\plopp\\backends\\matplotlib\\canvas.py:159\u001b[0m, in \u001b[0;36mCanvas.autoscale\u001b[1;34m(self)\u001b[0m\n\u001b[0;32m    152\u001b[0m     line_x \u001b[38;5;241m=\u001b[39m sc\u001b[38;5;241m.\u001b[39mDataArray(data\u001b[38;5;241m=\u001b[39msc\u001b[38;5;241m.\u001b[39marray(dims\u001b[38;5;241m=\u001b[39m[\u001b[38;5;124m'\u001b[39m\u001b[38;5;124mx\u001b[39m\u001b[38;5;124m'\u001b[39m], values\u001b[38;5;241m=\u001b[39mline\u001b[38;5;241m.\u001b[39mget_xdata()))\n\u001b[0;32m    153\u001b[0m     line_y \u001b[38;5;241m=\u001b[39m sc\u001b[38;5;241m.\u001b[39mDataArray(\n\u001b[0;32m    154\u001b[0m         data\u001b[38;5;241m=\u001b[39msc\u001b[38;5;241m.\u001b[39marray(dims\u001b[38;5;241m=\u001b[39m[\u001b[38;5;124m'\u001b[39m\u001b[38;5;124mx\u001b[39m\u001b[38;5;124m'\u001b[39m], values\u001b[38;5;241m=\u001b[39mline\u001b[38;5;241m.\u001b[39mget_ydata()),\n\u001b[0;32m    155\u001b[0m         masks\u001b[38;5;241m=\u001b[39m{\u001b[38;5;124m'\u001b[39m\u001b[38;5;124mmask\u001b[39m\u001b[38;5;124m'\u001b[39m: line_mask},\n\u001b[0;32m    156\u001b[0m     )\n\u001b[0;32m    157\u001b[0m     line_bbox \u001b[38;5;241m=\u001b[39m BoundingBox(\n\u001b[0;32m    158\u001b[0m         \u001b[38;5;241m*\u001b[39m\u001b[38;5;241m*\u001b[39m{\u001b[38;5;241m*\u001b[39m\u001b[38;5;241m*\u001b[39maxis_bounds((\u001b[38;5;124m'\u001b[39m\u001b[38;5;124mxmin\u001b[39m\u001b[38;5;124m'\u001b[39m, \u001b[38;5;124m'\u001b[39m\u001b[38;5;124mxmax\u001b[39m\u001b[38;5;124m'\u001b[39m), line_x, \u001b[38;5;28mself\u001b[39m\u001b[38;5;241m.\u001b[39mxscale, pad\u001b[38;5;241m=\u001b[39m\u001b[38;5;28;01mTrue\u001b[39;00m)},\n\u001b[1;32m--> 159\u001b[0m         \u001b[38;5;241m*\u001b[39m\u001b[38;5;241m*\u001b[39m{\u001b[38;5;241m*\u001b[39m\u001b[38;5;241m*\u001b[39m\u001b[43maxis_bounds\u001b[49m\u001b[43m(\u001b[49m\u001b[43m(\u001b[49m\u001b[38;5;124;43m'\u001b[39;49m\u001b[38;5;124;43mymin\u001b[39;49m\u001b[38;5;124;43m'\u001b[39;49m\u001b[43m,\u001b[49m\u001b[43m \u001b[49m\u001b[38;5;124;43m'\u001b[39;49m\u001b[38;5;124;43mymax\u001b[39;49m\u001b[38;5;124;43m'\u001b[39;49m\u001b[43m)\u001b[49m\u001b[43m,\u001b[49m\u001b[43m \u001b[49m\u001b[43mline_y\u001b[49m\u001b[43m,\u001b[49m\u001b[43m \u001b[49m\u001b[38;5;28;43mself\u001b[39;49m\u001b[38;5;241;43m.\u001b[39;49m\u001b[43myscale\u001b[49m\u001b[43m,\u001b[49m\u001b[43m \u001b[49m\u001b[43mpad\u001b[49m\u001b[38;5;241;43m=\u001b[39;49m\u001b[38;5;28;43;01mTrue\u001b[39;49;00m\u001b[43m)\u001b[49m},\n\u001b[0;32m    160\u001b[0m     )\n\u001b[0;32m    161\u001b[0m     bbox \u001b[38;5;241m=\u001b[39m bbox\u001b[38;5;241m.\u001b[39munion(line_bbox)\n\u001b[0;32m    163\u001b[0m \u001b[38;5;28;01mfor\u001b[39;00m c \u001b[38;5;129;01min\u001b[39;00m \u001b[38;5;28mself\u001b[39m\u001b[38;5;241m.\u001b[39max\u001b[38;5;241m.\u001b[39mcollections:\n",
      "File \u001b[1;32mc:\\Users\\henrikjacobsen3\\AppData\\Local\\anaconda3\\envs\\QENSMockup\\Lib\\site-packages\\plopp\\backends\\common.py:69\u001b[0m, in \u001b[0;36maxis_bounds\u001b[1;34m(keys, x, scale, pad)\u001b[0m\n\u001b[0;32m     47\u001b[0m \u001b[38;5;28;01mdef\u001b[39;00m \u001b[38;5;21maxis_bounds\u001b[39m(\n\u001b[0;32m     48\u001b[0m     keys: Tuple[\u001b[38;5;28mstr\u001b[39m, \u001b[38;5;28mstr\u001b[39m],\n\u001b[0;32m     49\u001b[0m     x: sc\u001b[38;5;241m.\u001b[39mDataArray,\n\u001b[0;32m     50\u001b[0m     scale: Literal[\u001b[38;5;124m'\u001b[39m\u001b[38;5;124mlinear\u001b[39m\u001b[38;5;124m'\u001b[39m, \u001b[38;5;124m'\u001b[39m\u001b[38;5;124mlog\u001b[39m\u001b[38;5;124m'\u001b[39m],\n\u001b[0;32m     51\u001b[0m     pad\u001b[38;5;241m=\u001b[39m\u001b[38;5;28;01mFalse\u001b[39;00m,\n\u001b[0;32m     52\u001b[0m ) \u001b[38;5;241m-\u001b[39m\u001b[38;5;241m>\u001b[39m Dict[\u001b[38;5;28mstr\u001b[39m, \u001b[38;5;28mfloat\u001b[39m]:\n\u001b[0;32m     53\u001b[0m \u001b[38;5;250m    \u001b[39m\u001b[38;5;124;03m\"\"\"\u001b[39;00m\n\u001b[0;32m     54\u001b[0m \u001b[38;5;124;03m    Find sensible limits for an axis, depending on linear or log scale.\u001b[39;00m\n\u001b[0;32m     55\u001b[0m \n\u001b[1;32m   (...)\u001b[0m\n\u001b[0;32m     67\u001b[0m \u001b[38;5;124;03m        Whether to pad the limits.\u001b[39;00m\n\u001b[0;32m     68\u001b[0m \u001b[38;5;124;03m    \"\"\"\u001b[39;00m\n\u001b[1;32m---> 69\u001b[0m     values \u001b[38;5;241m=\u001b[39m fix_empty_range(\u001b[43mfind_limits\u001b[49m\u001b[43m(\u001b[49m\u001b[43mx\u001b[49m\u001b[43m,\u001b[49m\u001b[43m \u001b[49m\u001b[43mscale\u001b[49m\u001b[38;5;241;43m=\u001b[39;49m\u001b[43mscale\u001b[49m\u001b[43m,\u001b[49m\u001b[43m \u001b[49m\u001b[43mpad\u001b[49m\u001b[38;5;241;43m=\u001b[39;49m\u001b[43mpad\u001b[49m\u001b[43m)\u001b[49m)\n\u001b[0;32m     70\u001b[0m     bounds \u001b[38;5;241m=\u001b[39m {k: v \u001b[38;5;28;01mfor\u001b[39;00m k, v \u001b[38;5;129;01min\u001b[39;00m \u001b[38;5;28mzip\u001b[39m(keys, (val\u001b[38;5;241m.\u001b[39mvalue \u001b[38;5;28;01mfor\u001b[39;00m val \u001b[38;5;129;01min\u001b[39;00m values))}\n\u001b[0;32m     71\u001b[0m     \u001b[38;5;28;01mreturn\u001b[39;00m bounds\n",
      "File \u001b[1;32mc:\\Users\\henrikjacobsen3\\AppData\\Local\\anaconda3\\envs\\QENSMockup\\Lib\\site-packages\\plopp\\core\\limits.py:38\u001b[0m, in \u001b[0;36mfind_limits\u001b[1;34m(x, scale, pad)\u001b[0m\n\u001b[0;32m     36\u001b[0m finite_inds \u001b[38;5;241m=\u001b[39m np\u001b[38;5;241m.\u001b[39misfinite(v)\n\u001b[0;32m     37\u001b[0m \u001b[38;5;28;01mif\u001b[39;00m np\u001b[38;5;241m.\u001b[39msum(finite_inds) \u001b[38;5;241m==\u001b[39m \u001b[38;5;241m0\u001b[39m:\n\u001b[1;32m---> 38\u001b[0m     \u001b[38;5;28;01mraise\u001b[39;00m \u001b[38;5;167;01mValueError\u001b[39;00m(\u001b[38;5;124m\"\u001b[39m\u001b[38;5;124mNo finite values were found in array. Cannot compute limits.\u001b[39m\u001b[38;5;124m\"\u001b[39m)\n\u001b[0;32m     39\u001b[0m finite_vals \u001b[38;5;241m=\u001b[39m v[finite_inds]\n\u001b[0;32m     40\u001b[0m finite_max \u001b[38;5;241m=\u001b[39m \u001b[38;5;28;01mNone\u001b[39;00m\n",
      "\u001b[1;31mValueError\u001b[0m: No finite values were found in array. Cannot compute limits."
     ]
    },
    {
     "ename": "ValueError",
     "evalue": "No finite values were found in array. Cannot compute limits.",
     "output_type": "error",
     "traceback": [
      "\u001b[1;31m---------------------------------------------------------------------------\u001b[0m",
      "\u001b[1;31mValueError\u001b[0m                                Traceback (most recent call last)",
      "File \u001b[1;32mc:\\Users\\henrikjacobsen3\\AppData\\Local\\anaconda3\\envs\\QENSMockup\\Lib\\site-packages\\ipywidgets\\widgets\\widget.py:773\u001b[0m, in \u001b[0;36mWidget._handle_msg\u001b[1;34m(self, msg)\u001b[0m\n\u001b[0;32m    771\u001b[0m         \u001b[38;5;28;01mif\u001b[39;00m \u001b[38;5;124m'\u001b[39m\u001b[38;5;124mbuffer_paths\u001b[39m\u001b[38;5;124m'\u001b[39m \u001b[38;5;129;01min\u001b[39;00m data:\n\u001b[0;32m    772\u001b[0m             _put_buffers(state, data[\u001b[38;5;124m'\u001b[39m\u001b[38;5;124mbuffer_paths\u001b[39m\u001b[38;5;124m'\u001b[39m], msg[\u001b[38;5;124m'\u001b[39m\u001b[38;5;124mbuffers\u001b[39m\u001b[38;5;124m'\u001b[39m])\n\u001b[1;32m--> 773\u001b[0m         \u001b[38;5;28;43mself\u001b[39;49m\u001b[38;5;241;43m.\u001b[39;49m\u001b[43mset_state\u001b[49m\u001b[43m(\u001b[49m\u001b[43mstate\u001b[49m\u001b[43m)\u001b[49m\n\u001b[0;32m    775\u001b[0m \u001b[38;5;66;03m# Handle a state request.\u001b[39;00m\n\u001b[0;32m    776\u001b[0m \u001b[38;5;28;01melif\u001b[39;00m method \u001b[38;5;241m==\u001b[39m \u001b[38;5;124m'\u001b[39m\u001b[38;5;124mrequest_state\u001b[39m\u001b[38;5;124m'\u001b[39m:\n",
      "File \u001b[1;32mc:\\Users\\henrikjacobsen3\\AppData\\Local\\anaconda3\\envs\\QENSMockup\\Lib\\site-packages\\ipywidgets\\widgets\\widget.py:650\u001b[0m, in \u001b[0;36mWidget.set_state\u001b[1;34m(self, sync_data)\u001b[0m\n\u001b[0;32m    645\u001b[0m         \u001b[38;5;28mself\u001b[39m\u001b[38;5;241m.\u001b[39m_send(msg, buffers\u001b[38;5;241m=\u001b[39mecho_buffers)\n\u001b[0;32m    647\u001b[0m \u001b[38;5;66;03m# The order of these context managers is important. Properties must\u001b[39;00m\n\u001b[0;32m    648\u001b[0m \u001b[38;5;66;03m# be locked when the hold_trait_notification context manager is\u001b[39;00m\n\u001b[0;32m    649\u001b[0m \u001b[38;5;66;03m# released and notifications are fired.\u001b[39;00m\n\u001b[1;32m--> 650\u001b[0m \u001b[43m\u001b[49m\u001b[38;5;28;43;01mwith\u001b[39;49;00m\u001b[43m \u001b[49m\u001b[38;5;28;43mself\u001b[39;49m\u001b[38;5;241;43m.\u001b[39;49m\u001b[43m_lock_property\u001b[49m\u001b[43m(\u001b[49m\u001b[38;5;241;43m*\u001b[39;49m\u001b[38;5;241;43m*\u001b[39;49m\u001b[43msync_data\u001b[49m\u001b[43m)\u001b[49m\u001b[43m,\u001b[49m\u001b[43m \u001b[49m\u001b[38;5;28;43mself\u001b[39;49m\u001b[38;5;241;43m.\u001b[39;49m\u001b[43mhold_trait_notifications\u001b[49m\u001b[43m(\u001b[49m\u001b[43m)\u001b[49m\u001b[43m:\u001b[49m\n\u001b[0;32m    651\u001b[0m \u001b[43m    \u001b[49m\u001b[38;5;28;43;01mfor\u001b[39;49;00m\u001b[43m \u001b[49m\u001b[43mname\u001b[49m\u001b[43m \u001b[49m\u001b[38;5;129;43;01min\u001b[39;49;00m\u001b[43m \u001b[49m\u001b[43msync_data\u001b[49m\u001b[43m:\u001b[49m\n\u001b[0;32m    652\u001b[0m \u001b[43m        \u001b[49m\u001b[38;5;28;43;01mif\u001b[39;49;00m\u001b[43m \u001b[49m\u001b[43mname\u001b[49m\u001b[43m \u001b[49m\u001b[38;5;129;43;01min\u001b[39;49;00m\u001b[43m \u001b[49m\u001b[38;5;28;43mself\u001b[39;49m\u001b[38;5;241;43m.\u001b[39;49m\u001b[43mkeys\u001b[49m\u001b[43m:\u001b[49m\n",
      "File \u001b[1;32mc:\\Users\\henrikjacobsen3\\AppData\\Local\\anaconda3\\envs\\QENSMockup\\Lib\\contextlib.py:144\u001b[0m, in \u001b[0;36m_GeneratorContextManager.__exit__\u001b[1;34m(self, typ, value, traceback)\u001b[0m\n\u001b[0;32m    142\u001b[0m \u001b[38;5;28;01mif\u001b[39;00m typ \u001b[38;5;129;01mis\u001b[39;00m \u001b[38;5;28;01mNone\u001b[39;00m:\n\u001b[0;32m    143\u001b[0m     \u001b[38;5;28;01mtry\u001b[39;00m:\n\u001b[1;32m--> 144\u001b[0m         \u001b[38;5;28;43mnext\u001b[39;49m\u001b[43m(\u001b[49m\u001b[38;5;28;43mself\u001b[39;49m\u001b[38;5;241;43m.\u001b[39;49m\u001b[43mgen\u001b[49m\u001b[43m)\u001b[49m\n\u001b[0;32m    145\u001b[0m     \u001b[38;5;28;01mexcept\u001b[39;00m \u001b[38;5;167;01mStopIteration\u001b[39;00m:\n\u001b[0;32m    146\u001b[0m         \u001b[38;5;28;01mreturn\u001b[39;00m \u001b[38;5;28;01mFalse\u001b[39;00m\n",
      "File \u001b[1;32mc:\\Users\\henrikjacobsen3\\AppData\\Local\\anaconda3\\envs\\QENSMockup\\Lib\\site-packages\\traitlets\\traitlets.py:1510\u001b[0m, in \u001b[0;36mHasTraits.hold_trait_notifications\u001b[1;34m(self)\u001b[0m\n\u001b[0;32m   1508\u001b[0m \u001b[38;5;28;01mfor\u001b[39;00m changes \u001b[38;5;129;01min\u001b[39;00m cache\u001b[38;5;241m.\u001b[39mvalues():\n\u001b[0;32m   1509\u001b[0m     \u001b[38;5;28;01mfor\u001b[39;00m change \u001b[38;5;129;01min\u001b[39;00m changes:\n\u001b[1;32m-> 1510\u001b[0m         \u001b[38;5;28;43mself\u001b[39;49m\u001b[38;5;241;43m.\u001b[39;49m\u001b[43mnotify_change\u001b[49m\u001b[43m(\u001b[49m\u001b[43mchange\u001b[49m\u001b[43m)\u001b[49m\n",
      "File \u001b[1;32mc:\\Users\\henrikjacobsen3\\AppData\\Local\\anaconda3\\envs\\QENSMockup\\Lib\\site-packages\\ipywidgets\\widgets\\widget.py:701\u001b[0m, in \u001b[0;36mWidget.notify_change\u001b[1;34m(self, change)\u001b[0m\n\u001b[0;32m    698\u001b[0m     \u001b[38;5;28;01mif\u001b[39;00m name \u001b[38;5;129;01min\u001b[39;00m \u001b[38;5;28mself\u001b[39m\u001b[38;5;241m.\u001b[39mkeys \u001b[38;5;129;01mand\u001b[39;00m \u001b[38;5;28mself\u001b[39m\u001b[38;5;241m.\u001b[39m_should_send_property(name, \u001b[38;5;28mgetattr\u001b[39m(\u001b[38;5;28mself\u001b[39m, name)):\n\u001b[0;32m    699\u001b[0m         \u001b[38;5;66;03m# Send new state to front-end\u001b[39;00m\n\u001b[0;32m    700\u001b[0m         \u001b[38;5;28mself\u001b[39m\u001b[38;5;241m.\u001b[39msend_state(key\u001b[38;5;241m=\u001b[39mname)\n\u001b[1;32m--> 701\u001b[0m \u001b[38;5;28;43msuper\u001b[39;49m\u001b[43m(\u001b[49m\u001b[43m)\u001b[49m\u001b[38;5;241;43m.\u001b[39;49m\u001b[43mnotify_change\u001b[49m\u001b[43m(\u001b[49m\u001b[43mchange\u001b[49m\u001b[43m)\u001b[49m\n",
      "File \u001b[1;32mc:\\Users\\henrikjacobsen3\\AppData\\Local\\anaconda3\\envs\\QENSMockup\\Lib\\site-packages\\traitlets\\traitlets.py:1525\u001b[0m, in \u001b[0;36mHasTraits.notify_change\u001b[1;34m(self, change)\u001b[0m\n\u001b[0;32m   1523\u001b[0m \u001b[38;5;28;01mdef\u001b[39;00m \u001b[38;5;21mnotify_change\u001b[39m(\u001b[38;5;28mself\u001b[39m, change: Bunch) \u001b[38;5;241m-\u001b[39m\u001b[38;5;241m>\u001b[39m \u001b[38;5;28;01mNone\u001b[39;00m:\n\u001b[0;32m   1524\u001b[0m \u001b[38;5;250m    \u001b[39m\u001b[38;5;124;03m\"\"\"Notify observers of a change event\"\"\"\u001b[39;00m\n\u001b[1;32m-> 1525\u001b[0m     \u001b[38;5;28;01mreturn\u001b[39;00m \u001b[38;5;28;43mself\u001b[39;49m\u001b[38;5;241;43m.\u001b[39;49m\u001b[43m_notify_observers\u001b[49m\u001b[43m(\u001b[49m\u001b[43mchange\u001b[49m\u001b[43m)\u001b[49m\n",
      "File \u001b[1;32mc:\\Users\\henrikjacobsen3\\AppData\\Local\\anaconda3\\envs\\QENSMockup\\Lib\\site-packages\\traitlets\\traitlets.py:1568\u001b[0m, in \u001b[0;36mHasTraits._notify_observers\u001b[1;34m(self, event)\u001b[0m\n\u001b[0;32m   1565\u001b[0m \u001b[38;5;28;01melif\u001b[39;00m \u001b[38;5;28misinstance\u001b[39m(c, EventHandler) \u001b[38;5;129;01mand\u001b[39;00m c\u001b[38;5;241m.\u001b[39mname \u001b[38;5;129;01mis\u001b[39;00m \u001b[38;5;129;01mnot\u001b[39;00m \u001b[38;5;28;01mNone\u001b[39;00m:\n\u001b[0;32m   1566\u001b[0m     c \u001b[38;5;241m=\u001b[39m \u001b[38;5;28mgetattr\u001b[39m(\u001b[38;5;28mself\u001b[39m, c\u001b[38;5;241m.\u001b[39mname)\n\u001b[1;32m-> 1568\u001b[0m \u001b[43mc\u001b[49m\u001b[43m(\u001b[49m\u001b[43mevent\u001b[49m\u001b[43m)\u001b[49m\n",
      "File \u001b[1;32mc:\\Users\\henrikjacobsen3\\AppData\\Local\\anaconda3\\envs\\QENSMockup\\Lib\\site-packages\\plopp\\core\\node.py:172\u001b[0m, in \u001b[0;36mNode.notify_children\u001b[1;34m(self, message)\u001b[0m\n\u001b[0;32m    170\u001b[0m \u001b[38;5;28mself\u001b[39m\u001b[38;5;241m.\u001b[39mnotify_views(message)\n\u001b[0;32m    171\u001b[0m \u001b[38;5;28;01mfor\u001b[39;00m child \u001b[38;5;129;01min\u001b[39;00m \u001b[38;5;28mself\u001b[39m\u001b[38;5;241m.\u001b[39mchildren:\n\u001b[1;32m--> 172\u001b[0m     \u001b[43mchild\u001b[49m\u001b[38;5;241;43m.\u001b[39;49m\u001b[43mnotify_children\u001b[49m\u001b[43m(\u001b[49m\u001b[43mmessage\u001b[49m\u001b[43m)\u001b[49m\n",
      "File \u001b[1;32mc:\\Users\\henrikjacobsen3\\AppData\\Local\\anaconda3\\envs\\QENSMockup\\Lib\\site-packages\\plopp\\core\\node.py:170\u001b[0m, in \u001b[0;36mNode.notify_children\u001b[1;34m(self, message)\u001b[0m\n\u001b[0;32m    159\u001b[0m \u001b[38;5;250m\u001b[39m\u001b[38;5;124;03m\"\"\"\u001b[39;00m\n\u001b[0;32m    160\u001b[0m \u001b[38;5;124;03mNotify all of the node's children with ``message``.\u001b[39;00m\n\u001b[0;32m    161\u001b[0m \u001b[38;5;124;03mReceiving a notification also means that the local copy of the data is\u001b[39;00m\n\u001b[1;32m   (...)\u001b[0m\n\u001b[0;32m    167\u001b[0m \u001b[38;5;124;03m    The message to pass to the children.\u001b[39;00m\n\u001b[0;32m    168\u001b[0m \u001b[38;5;124;03m\"\"\"\u001b[39;00m\n\u001b[0;32m    169\u001b[0m \u001b[38;5;28mself\u001b[39m\u001b[38;5;241m.\u001b[39m_data \u001b[38;5;241m=\u001b[39m \u001b[38;5;28;01mNone\u001b[39;00m\n\u001b[1;32m--> 170\u001b[0m \u001b[38;5;28;43mself\u001b[39;49m\u001b[38;5;241;43m.\u001b[39;49m\u001b[43mnotify_views\u001b[49m\u001b[43m(\u001b[49m\u001b[43mmessage\u001b[49m\u001b[43m)\u001b[49m\n\u001b[0;32m    171\u001b[0m \u001b[38;5;28;01mfor\u001b[39;00m child \u001b[38;5;129;01min\u001b[39;00m \u001b[38;5;28mself\u001b[39m\u001b[38;5;241m.\u001b[39mchildren:\n\u001b[0;32m    172\u001b[0m     child\u001b[38;5;241m.\u001b[39mnotify_children(message)\n",
      "File \u001b[1;32mc:\\Users\\henrikjacobsen3\\AppData\\Local\\anaconda3\\envs\\QENSMockup\\Lib\\site-packages\\plopp\\core\\node.py:184\u001b[0m, in \u001b[0;36mNode.notify_views\u001b[1;34m(self, message)\u001b[0m\n\u001b[0;32m    175\u001b[0m \u001b[38;5;250m\u001b[39m\u001b[38;5;124;03m\"\"\"\u001b[39;00m\n\u001b[0;32m    176\u001b[0m \u001b[38;5;124;03mNotify the node's views with ``message``.\u001b[39;00m\n\u001b[0;32m    177\u001b[0m \n\u001b[1;32m   (...)\u001b[0m\n\u001b[0;32m    181\u001b[0m \u001b[38;5;124;03m    The message to pass to the views.\u001b[39;00m\n\u001b[0;32m    182\u001b[0m \u001b[38;5;124;03m\"\"\"\u001b[39;00m\n\u001b[0;32m    183\u001b[0m \u001b[38;5;28;01mfor\u001b[39;00m view \u001b[38;5;129;01min\u001b[39;00m \u001b[38;5;28mself\u001b[39m\u001b[38;5;241m.\u001b[39mviews:\n\u001b[1;32m--> 184\u001b[0m     \u001b[43mview\u001b[49m\u001b[38;5;241;43m.\u001b[39;49m\u001b[43mnotify_view\u001b[49m\u001b[43m(\u001b[49m\u001b[43m{\u001b[49m\u001b[38;5;124;43m\"\u001b[39;49m\u001b[38;5;124;43mnode_id\u001b[39;49m\u001b[38;5;124;43m\"\u001b[39;49m\u001b[43m:\u001b[49m\u001b[43m \u001b[49m\u001b[38;5;28;43mself\u001b[39;49m\u001b[38;5;241;43m.\u001b[39;49m\u001b[43mid\u001b[49m\u001b[43m,\u001b[49m\u001b[43m \u001b[49m\u001b[38;5;124;43m\"\u001b[39;49m\u001b[38;5;124;43mmessage\u001b[39;49m\u001b[38;5;124;43m\"\u001b[39;49m\u001b[43m:\u001b[49m\u001b[43m \u001b[49m\u001b[43mmessage\u001b[49m\u001b[43m}\u001b[49m\u001b[43m)\u001b[49m\n",
      "File \u001b[1;32mc:\\Users\\henrikjacobsen3\\AppData\\Local\\anaconda3\\envs\\QENSMockup\\Lib\\site-packages\\plopp\\core\\view.py:50\u001b[0m, in \u001b[0;36mView.notify_view\u001b[1;34m(self, message)\u001b[0m\n\u001b[0;32m     48\u001b[0m node_id \u001b[38;5;241m=\u001b[39m message[\u001b[38;5;124m\"\u001b[39m\u001b[38;5;124mnode_id\u001b[39m\u001b[38;5;124m\"\u001b[39m]\n\u001b[0;32m     49\u001b[0m new_values \u001b[38;5;241m=\u001b[39m \u001b[38;5;28mself\u001b[39m\u001b[38;5;241m.\u001b[39mgraph_nodes[node_id]\u001b[38;5;241m.\u001b[39mrequest_data()\n\u001b[1;32m---> 50\u001b[0m \u001b[38;5;28;43mself\u001b[39;49m\u001b[38;5;241;43m.\u001b[39;49m\u001b[43mupdate\u001b[49m\u001b[43m(\u001b[49m\u001b[43mnew_values\u001b[49m\u001b[38;5;241;43m=\u001b[39;49m\u001b[43mnew_values\u001b[49m\u001b[43m,\u001b[49m\u001b[43m \u001b[49m\u001b[43mkey\u001b[49m\u001b[38;5;241;43m=\u001b[39;49m\u001b[43mnode_id\u001b[49m\u001b[43m)\u001b[49m\n",
      "File \u001b[1;32mc:\\Users\\henrikjacobsen3\\AppData\\Local\\anaconda3\\envs\\QENSMockup\\Lib\\site-packages\\plopp\\graphics\\lineview.py:163\u001b[0m, in \u001b[0;36mLineView.update\u001b[1;34m(self, new_values, key)\u001b[0m\n\u001b[0;32m    160\u001b[0m     \u001b[38;5;28mself\u001b[39m\u001b[38;5;241m.\u001b[39martists[key]\u001b[38;5;241m.\u001b[39mupdate(new_values\u001b[38;5;241m=\u001b[39mnew_values)\n\u001b[0;32m    162\u001b[0m \u001b[38;5;28;01mif\u001b[39;00m \u001b[38;5;129;01mnot\u001b[39;00m \u001b[38;5;28mself\u001b[39m\u001b[38;5;241m.\u001b[39m_no_autoscale:\n\u001b[1;32m--> 163\u001b[0m     \u001b[38;5;28;43mself\u001b[39;49m\u001b[38;5;241;43m.\u001b[39;49m\u001b[43mcanvas\u001b[49m\u001b[38;5;241;43m.\u001b[39;49m\u001b[43mautoscale\u001b[49m\u001b[43m(\u001b[49m\u001b[43m)\u001b[49m\n",
      "File \u001b[1;32mc:\\Users\\henrikjacobsen3\\AppData\\Local\\anaconda3\\envs\\QENSMockup\\Lib\\site-packages\\plopp\\backends\\matplotlib\\canvas.py:159\u001b[0m, in \u001b[0;36mCanvas.autoscale\u001b[1;34m(self)\u001b[0m\n\u001b[0;32m    152\u001b[0m     line_x \u001b[38;5;241m=\u001b[39m sc\u001b[38;5;241m.\u001b[39mDataArray(data\u001b[38;5;241m=\u001b[39msc\u001b[38;5;241m.\u001b[39marray(dims\u001b[38;5;241m=\u001b[39m[\u001b[38;5;124m'\u001b[39m\u001b[38;5;124mx\u001b[39m\u001b[38;5;124m'\u001b[39m], values\u001b[38;5;241m=\u001b[39mline\u001b[38;5;241m.\u001b[39mget_xdata()))\n\u001b[0;32m    153\u001b[0m     line_y \u001b[38;5;241m=\u001b[39m sc\u001b[38;5;241m.\u001b[39mDataArray(\n\u001b[0;32m    154\u001b[0m         data\u001b[38;5;241m=\u001b[39msc\u001b[38;5;241m.\u001b[39marray(dims\u001b[38;5;241m=\u001b[39m[\u001b[38;5;124m'\u001b[39m\u001b[38;5;124mx\u001b[39m\u001b[38;5;124m'\u001b[39m], values\u001b[38;5;241m=\u001b[39mline\u001b[38;5;241m.\u001b[39mget_ydata()),\n\u001b[0;32m    155\u001b[0m         masks\u001b[38;5;241m=\u001b[39m{\u001b[38;5;124m'\u001b[39m\u001b[38;5;124mmask\u001b[39m\u001b[38;5;124m'\u001b[39m: line_mask},\n\u001b[0;32m    156\u001b[0m     )\n\u001b[0;32m    157\u001b[0m     line_bbox \u001b[38;5;241m=\u001b[39m BoundingBox(\n\u001b[0;32m    158\u001b[0m         \u001b[38;5;241m*\u001b[39m\u001b[38;5;241m*\u001b[39m{\u001b[38;5;241m*\u001b[39m\u001b[38;5;241m*\u001b[39maxis_bounds((\u001b[38;5;124m'\u001b[39m\u001b[38;5;124mxmin\u001b[39m\u001b[38;5;124m'\u001b[39m, \u001b[38;5;124m'\u001b[39m\u001b[38;5;124mxmax\u001b[39m\u001b[38;5;124m'\u001b[39m), line_x, \u001b[38;5;28mself\u001b[39m\u001b[38;5;241m.\u001b[39mxscale, pad\u001b[38;5;241m=\u001b[39m\u001b[38;5;28;01mTrue\u001b[39;00m)},\n\u001b[1;32m--> 159\u001b[0m         \u001b[38;5;241m*\u001b[39m\u001b[38;5;241m*\u001b[39m{\u001b[38;5;241m*\u001b[39m\u001b[38;5;241m*\u001b[39m\u001b[43maxis_bounds\u001b[49m\u001b[43m(\u001b[49m\u001b[43m(\u001b[49m\u001b[38;5;124;43m'\u001b[39;49m\u001b[38;5;124;43mymin\u001b[39;49m\u001b[38;5;124;43m'\u001b[39;49m\u001b[43m,\u001b[49m\u001b[43m \u001b[49m\u001b[38;5;124;43m'\u001b[39;49m\u001b[38;5;124;43mymax\u001b[39;49m\u001b[38;5;124;43m'\u001b[39;49m\u001b[43m)\u001b[49m\u001b[43m,\u001b[49m\u001b[43m \u001b[49m\u001b[43mline_y\u001b[49m\u001b[43m,\u001b[49m\u001b[43m \u001b[49m\u001b[38;5;28;43mself\u001b[39;49m\u001b[38;5;241;43m.\u001b[39;49m\u001b[43myscale\u001b[49m\u001b[43m,\u001b[49m\u001b[43m \u001b[49m\u001b[43mpad\u001b[49m\u001b[38;5;241;43m=\u001b[39;49m\u001b[38;5;28;43;01mTrue\u001b[39;49;00m\u001b[43m)\u001b[49m},\n\u001b[0;32m    160\u001b[0m     )\n\u001b[0;32m    161\u001b[0m     bbox \u001b[38;5;241m=\u001b[39m bbox\u001b[38;5;241m.\u001b[39munion(line_bbox)\n\u001b[0;32m    163\u001b[0m \u001b[38;5;28;01mfor\u001b[39;00m c \u001b[38;5;129;01min\u001b[39;00m \u001b[38;5;28mself\u001b[39m\u001b[38;5;241m.\u001b[39max\u001b[38;5;241m.\u001b[39mcollections:\n",
      "File \u001b[1;32mc:\\Users\\henrikjacobsen3\\AppData\\Local\\anaconda3\\envs\\QENSMockup\\Lib\\site-packages\\plopp\\backends\\common.py:69\u001b[0m, in \u001b[0;36maxis_bounds\u001b[1;34m(keys, x, scale, pad)\u001b[0m\n\u001b[0;32m     47\u001b[0m \u001b[38;5;28;01mdef\u001b[39;00m \u001b[38;5;21maxis_bounds\u001b[39m(\n\u001b[0;32m     48\u001b[0m     keys: Tuple[\u001b[38;5;28mstr\u001b[39m, \u001b[38;5;28mstr\u001b[39m],\n\u001b[0;32m     49\u001b[0m     x: sc\u001b[38;5;241m.\u001b[39mDataArray,\n\u001b[0;32m     50\u001b[0m     scale: Literal[\u001b[38;5;124m'\u001b[39m\u001b[38;5;124mlinear\u001b[39m\u001b[38;5;124m'\u001b[39m, \u001b[38;5;124m'\u001b[39m\u001b[38;5;124mlog\u001b[39m\u001b[38;5;124m'\u001b[39m],\n\u001b[0;32m     51\u001b[0m     pad\u001b[38;5;241m=\u001b[39m\u001b[38;5;28;01mFalse\u001b[39;00m,\n\u001b[0;32m     52\u001b[0m ) \u001b[38;5;241m-\u001b[39m\u001b[38;5;241m>\u001b[39m Dict[\u001b[38;5;28mstr\u001b[39m, \u001b[38;5;28mfloat\u001b[39m]:\n\u001b[0;32m     53\u001b[0m \u001b[38;5;250m    \u001b[39m\u001b[38;5;124;03m\"\"\"\u001b[39;00m\n\u001b[0;32m     54\u001b[0m \u001b[38;5;124;03m    Find sensible limits for an axis, depending on linear or log scale.\u001b[39;00m\n\u001b[0;32m     55\u001b[0m \n\u001b[1;32m   (...)\u001b[0m\n\u001b[0;32m     67\u001b[0m \u001b[38;5;124;03m        Whether to pad the limits.\u001b[39;00m\n\u001b[0;32m     68\u001b[0m \u001b[38;5;124;03m    \"\"\"\u001b[39;00m\n\u001b[1;32m---> 69\u001b[0m     values \u001b[38;5;241m=\u001b[39m fix_empty_range(\u001b[43mfind_limits\u001b[49m\u001b[43m(\u001b[49m\u001b[43mx\u001b[49m\u001b[43m,\u001b[49m\u001b[43m \u001b[49m\u001b[43mscale\u001b[49m\u001b[38;5;241;43m=\u001b[39;49m\u001b[43mscale\u001b[49m\u001b[43m,\u001b[49m\u001b[43m \u001b[49m\u001b[43mpad\u001b[49m\u001b[38;5;241;43m=\u001b[39;49m\u001b[43mpad\u001b[49m\u001b[43m)\u001b[49m)\n\u001b[0;32m     70\u001b[0m     bounds \u001b[38;5;241m=\u001b[39m {k: v \u001b[38;5;28;01mfor\u001b[39;00m k, v \u001b[38;5;129;01min\u001b[39;00m \u001b[38;5;28mzip\u001b[39m(keys, (val\u001b[38;5;241m.\u001b[39mvalue \u001b[38;5;28;01mfor\u001b[39;00m val \u001b[38;5;129;01min\u001b[39;00m values))}\n\u001b[0;32m     71\u001b[0m     \u001b[38;5;28;01mreturn\u001b[39;00m bounds\n",
      "File \u001b[1;32mc:\\Users\\henrikjacobsen3\\AppData\\Local\\anaconda3\\envs\\QENSMockup\\Lib\\site-packages\\plopp\\core\\limits.py:38\u001b[0m, in \u001b[0;36mfind_limits\u001b[1;34m(x, scale, pad)\u001b[0m\n\u001b[0;32m     36\u001b[0m finite_inds \u001b[38;5;241m=\u001b[39m np\u001b[38;5;241m.\u001b[39misfinite(v)\n\u001b[0;32m     37\u001b[0m \u001b[38;5;28;01mif\u001b[39;00m np\u001b[38;5;241m.\u001b[39msum(finite_inds) \u001b[38;5;241m==\u001b[39m \u001b[38;5;241m0\u001b[39m:\n\u001b[1;32m---> 38\u001b[0m     \u001b[38;5;28;01mraise\u001b[39;00m \u001b[38;5;167;01mValueError\u001b[39;00m(\u001b[38;5;124m\"\u001b[39m\u001b[38;5;124mNo finite values were found in array. Cannot compute limits.\u001b[39m\u001b[38;5;124m\"\u001b[39m)\n\u001b[0;32m     39\u001b[0m finite_vals \u001b[38;5;241m=\u001b[39m v[finite_inds]\n\u001b[0;32m     40\u001b[0m finite_max \u001b[38;5;241m=\u001b[39m \u001b[38;5;28;01mNone\u001b[39;00m\n",
      "\u001b[1;31mValueError\u001b[0m: No finite values were found in array. Cannot compute limits."
     ]
    }
   ],
   "source": [
    "## Load and inspect data\n",
    "# For the GUI, this should ideally be a selection menu, where multiple data files can be loaded into one dataset. I'd like us to automatically determine what the coordinates are, e.g. temperature, magnetic field etc.\n",
    "# Several data sets (jobs?) should be allowed. The user should be able to select which data set to work with.\n",
    "# Users should also be allowed to make a mask for data, e.g. to remove NaNs or data at positions with detector problems or similar.\n",
    "\n",
    "#TODO Make a general data loader together with SCIPP team\n",
    "## Load actual data - just one temperature for now\n",
    "NUMBER_OF_Q_POINTS=16\n",
    "NUMBER_OF_E_POINTS=1024\n",
    "\n",
    "#TODO consider adding a loop to load more temperatures\n",
    "\n",
    "#Preallocate\n",
    "intensity_values=np.zeros((NUMBER_OF_Q_POINTS,NUMBER_OF_E_POINTS))\n",
    "error_values=np.zeros((NUMBER_OF_Q_POINTS,NUMBER_OF_E_POINTS))\n",
    "\n",
    "# Load data into a matrix\n",
    "for Q in range(NUMBER_OF_Q_POINTS):\n",
    "    filename = '../../IN16b_GGG_data/data_450mK_Q' +str(Q+1) +'.dat'\n",
    "\n",
    "    data_array = np.loadtxt(filename)\n",
    "    energy_values=data_array[:, 0] #should be the same for all Q\n",
    "    # EnergyValues[Q,:]=data_array[:, 0]\n",
    "    intensity_values[Q,:]=data_array[:,1]\n",
    "    error_values[Q,:]=data_array[:,2]\n",
    "\n",
    "# Define energy, Q and intensity as scipp variables with units, and make a DataArray\n",
    "energy=sc.array(dims=['energy'],values=energy_values/1000,unit='meV')\n",
    "Q=sc.array(dims=['Q'],values=[  0.5708,    0.7002,    0.8262 ,   0.9485 ,   1.0664  ,  1.1793   , 1.2868 ,   1.3883 ,   1.4833 ,   1.5716  ,  1.6525  ,  1.7258  ,  1.7910 ,   1.8480  ,  1.8965 ,   1.9361],unit='1/angstrom')\n",
    "intensity=sc.array(dims=['Q','energy'],values=intensity_values,variances=error_values*error_values) #The variance is the square of the uncertainty!\n",
    "\n",
    "GGG_data_450mK = sc.DataArray(data=intensity, coords={'Q':Q,'energy': energy})\n",
    "\n",
    "#######################\n",
    "#Preallocate\n",
    "intensity_values=np.zeros((NUMBER_OF_Q_POINTS,NUMBER_OF_E_POINTS))\n",
    "error_values=np.zeros((NUMBER_OF_Q_POINTS,NUMBER_OF_E_POINTS))\n",
    "\n",
    "# Load data into a matrix\n",
    "for Q in range(NUMBER_OF_Q_POINTS):\n",
    "    filename = '../../IN16b_GGG_data/data_600mK_Q' +str(Q+1) +'.dat'\n",
    "\n",
    "    data_array = np.loadtxt(filename)\n",
    "    energy_values=data_array[:, 0] #should be the same for all Q\n",
    "    # EnergyValues[Q,:]=data_array[:, 0]\n",
    "    intensity_values[Q,:]=data_array[:,1]\n",
    "    error_values[Q,:]=data_array[:,2]\n",
    "\n",
    "# Define energy, q and intensity as scipp variables with units, and make a DataArraw\n",
    "energy=sc.array(dims=['energy'],values=energy_values/1000,unit='meV')\n",
    "Q=sc.array(dims=['Q'],values=range(NUMBER_OF_Q_POINTS))\n",
    "intensity=sc.array(dims=['Q','energy'],values=intensity_values,variances=error_values*error_values) #The variance is the square of the uncertainty!\n",
    "\n",
    "GGG_data_600mK = sc.DataArray(data=intensity, coords={'Q':Q,'energy': energy})\n",
    "\n",
    "# Bin the data\n",
    "#TODO consider if grouping is better than binning\n",
    "Q_BINS=16\n",
    "ENERGY_BINS=sc.scalar(1e-3*0.2, unit='meV')\n",
    "\n",
    "INTENSITY_MIN=0.0\n",
    "INTENSITY_MAX=0.01\n",
    "\n",
    "ENERGY_MIN = -0.03  * sc.Unit('meV')\n",
    "ENERGY_MAX = 0.03 * sc.Unit('meV')\n",
    "\n",
    "# da.coords['Energy'] = da.coords['Energy'].to(unit='micro*eV') #optional change the scale to mueV\n",
    "binned_GGG_data_450mK=GGG_data_450mK.flatten(to='dummy').bin(energy=ENERGY_BINS,Q=Q_BINS).bins.mean() #can add .plot() to plot it\n",
    "binned_GGG_data_600mK=GGG_data_600mK.flatten(to='dummy').bin(energy=ENERGY_BINS,Q=Q_BINS).bins.mean() #can add .plot() to plot it\n",
    "pp.slicer(binned_GGG_data_450mK['energy',ENERGY_MIN:ENERGY_MAX],vmin=INTENSITY_MIN,vmax=INTENSITY_MAX,\n",
    "     keep=['energy'],\n",
    "     linestyle='none',\n",
    "     marker='o',\n",
    "     markerfacecolor='none',\n",
    "     color='k'\n",
    ")\n",
    "# sc.show(GGG_data_450mK)\n",
    "\n",
    "# The slicer can also slice the data along more coordinates, such as temperature. Users should be allowed to select which coordinates to keep, as well as the intensity and energy range."
   ]
  },
  {
   "cell_type": "code",
   "execution_count": 4,
   "metadata": {},
   "outputs": [
    {
     "data": {
      "application/vnd.jupyter.widget-view+json": {
       "model_id": "20372e16c05e476faf8a05d9facdf025",
       "version_major": 2,
       "version_minor": 0
      },
      "text/plain": [
       "Box(children=(InteractiveFig(children=(HBar(), HBox(children=(VBar(children=(Toolbar(children=(ButtonTool(icon…"
      ]
     },
     "execution_count": 4,
     "metadata": {},
     "output_type": "execute_result"
    }
   ],
   "source": [
    "# Just testing the 600 mK data. Note that it has not been binned, so the background is very noisy.\n",
    "pp.slicer(GGG_data_600mK['energy',ENERGY_MIN:ENERGY_MAX],vmin=INTENSITY_MIN,vmax=INTENSITY_MAX,\n",
    "     keep=['energy'],\n",
    "     linestyle='none',\n",
    "     marker='o',\n",
    "     markerfacecolor='none',\n",
    "     color='k'\n",
    ")\n",
    "\n"
   ]
  },
  {
   "cell_type": "code",
   "execution_count": 5,
   "metadata": {},
   "outputs": [
    {
     "data": {
      "application/vnd.jupyter.widget-view+json": {
       "model_id": "a522e13ae44642a68111a16a3d64b54f",
       "version_major": 2,
       "version_minor": 0
      },
      "text/plain": [
       "Box(children=(InteractiveFig(children=(HBar(), HBox(children=(VBar(children=(Toolbar(children=(ButtonTool(icon…"
      ]
     },
     "execution_count": 5,
     "metadata": {},
     "output_type": "execute_result"
    }
   ],
   "source": [
    "## 2. Load and inspect vanadium data\n",
    "\n",
    "#Preallocate\n",
    "intensity_values=np.zeros((NUMBER_OF_Q_POINTS,NUMBER_OF_E_POINTS))\n",
    "error_values=np.zeros((NUMBER_OF_Q_POINTS,NUMBER_OF_E_POINTS))\n",
    "\n",
    "# Load data into a matrix\n",
    "for Q in range(NUMBER_OF_Q_POINTS):\n",
    "    filename = '../../IN16b_GGG_data/vanadium_Q' +str(Q+1) +'.dat'\n",
    "\n",
    "    data_array = np.loadtxt(filename)\n",
    "    energy_values=data_array[:, 0] #should be the same for all Q\n",
    "    # EnergyValues[Q,:]=data_array[:, 0]\n",
    "    intensity_values[Q,:]=data_array[:,1]\n",
    "    error_values[Q,:]=data_array[:,2]\n",
    "\n",
    "# Define energy, q and intensity as scipp variables with units, and make a DataArray\n",
    "energy=sc.array(dims=['energy'],values=energy_values/1000,unit='meV')\n",
    "Q=sc.array(dims=['Q'],values=range(NUMBER_OF_Q_POINTS))\n",
    "intensity=sc.array(dims=['Q','energy'],values=intensity_values,variances=error_values*error_values) #The variance is the square of the uncertainty!\n",
    "\n",
    "vanadium_data = sc.DataArray(data=intensity, coords={'Q':Q,'energy': energy})\n",
    "\n",
    "## Bin and plot data \n",
    "Q_BINS=16\n",
    "ENERGY_BINS=sc.scalar(1e-3*0.2, unit='meV')\n",
    "\n",
    "INTENSITY_MIN_VANADIUM=0.0\n",
    "INTENSITY_MAX_VANADIUM=0.06\n",
    "\n",
    "ENERGY_MIN_VANADIUM = -0.02 * sc.Unit('meV')\n",
    "ENERGY_MAX_VANADIUM = 0.02 * sc.Unit('meV')\n",
    "\n",
    "# da.coords['Energy'] = da.coords['Energy'].to(unit='micro*eV') #optional change the scale to mueV\n",
    "binned_vanadium_data=vanadium_data.flatten(to='dummy').bin(energy=ENERGY_BINS,Q=Q_BINS).bins.mean() #can add .plot() to plot it\n",
    "\n",
    "pp.slicer(binned_vanadium_data['energy',ENERGY_MIN_VANADIUM:ENERGY_MAX_VANADIUM],vmin=INTENSITY_MIN_VANADIUM,vmax=INTENSITY_MAX_VANADIUM,\n",
    "     keep=['energy'],\n",
    "     linestyle='none',\n",
    "     marker='o',\n",
    "     markerfacecolor='none',\n",
    "     color='k'\n",
    ")\n"
   ]
  },
  {
   "cell_type": "code",
   "execution_count": 6,
   "metadata": {},
   "outputs": [
    {
     "data": {
      "application/vnd.jupyter.widget-view+json": {
       "model_id": "60cefad9dbf249b5b5ef2d7e11a4bee7",
       "version_major": 2,
       "version_minor": 0
      },
      "text/plain": [
       "Box(children=(InteractiveFig(children=(HBar(), HBox(children=(VBar(children=(Toolbar(children=(ButtonTool(icon…"
      ]
     },
     "execution_count": 6,
     "metadata": {},
     "output_type": "execute_result"
    }
   ],
   "source": [
    "## 3. Define resolution function and fit vanadium data\n",
    "# TODO: Make a library of functions instead of defining them inline.\n",
    "# TODO: Add a Lorentzian tail to the resolution function\n",
    "# The data is approximately Gaussian with Lorentzian tails. Those are not important for a quick fit, but should be added.\n",
    "\n",
    "\n",
    "def resolution_function_scipp(energy, energy_offset, res_gauss1_area, res_gauss1_sigma, res_BG):\n",
    "    \"\"\"\n",
    "    Calculate the resolution function using the given parameters.\n",
    "\n",
    "    Parameters:\n",
    "    energy (array-like): The energy values.\n",
    "    energy_offset (float): The energy offset.\n",
    "    res_gauss1_area (float): The area of the first Gaussian component.\n",
    "    res_gauss1_sigma (float): The standard deviation of the first Gaussian component.\n",
    "    res_BG (float): The background value.\n",
    "\n",
    "    Returns:\n",
    "    array-like: The calculated resolution function values.\n",
    "    \"\"\"\n",
    "    x = energy\n",
    "    x = x - energy_offset\n",
    "\n",
    "    y = res_gauss1_area * 1 / np.sqrt(2 * np.pi) / res_gauss1_sigma * sc.exp(-0.5 * (x / res_gauss1_sigma) ** 2) + res_BG\n",
    "    return y\n",
    "\n",
    "# Fit the resolution function to the vanadium data\n",
    "\n",
    "# TODO Add the option of providing start guess for each Q point, e.g. by using the value from higher or lower Q, or a different temperature.\n",
    "popt, _ = curve_fit(['energy'], resolution_function_scipp, vanadium_data, \n",
    "                    p0 = {'res_gauss1_area' : 5e-5*sc.Unit('meV'), \n",
    "                          'res_gauss1_sigma': 4e-4 * sc.Unit('meV'),\n",
    "                          'energy_offset'   : 0 * sc.Unit('meV'),\n",
    "                          'res_BG'          :1e-5})\n",
    "\n",
    "#Calculate the fit to display it\n",
    "#TODO Make it possible to calculate the fit on a more dense set of points than the data\n",
    "vanadium_fit=resolution_function_scipp(vanadium_data.coords['energy'],\n",
    "                                      energy_offset     =sc.values(popt['energy_offset']),\n",
    "                                      res_gauss1_area   =sc.values(popt['res_gauss1_area']),\n",
    "                                      res_gauss1_sigma  =sc.values(popt['res_gauss1_sigma']),\n",
    "                                      res_BG            =sc.values(popt['res_BG']))\n",
    "vanadium_fit.coords['energy']=energy\n",
    "\n",
    "\n",
    "# Make a group of the data and the fit for the slicer\n",
    "data_and_fit=sc.DataGroup({'Data': binned_vanadium_data,\n",
    "                            'Fit': vanadium_fit})\n",
    "\n",
    "pp.slicer(data_and_fit['energy',ENERGY_MIN:ENERGY_MAX],vmin=INTENSITY_MIN,vmax=INTENSITY_MAX,\n",
    "     keep=['energy'],\n",
    "     linestyle=         {'Data': 'none',    'Fit': '-'},\n",
    "     marker=            {'Data': 'o',       'Fit':'none'},\n",
    "     markerfacecolor=   {'Data': 'none',    'Fit':'red'},\n",
    "     color=             {'Data': 'black',   'Fit':'red'}\n",
    ")\n",
    "\n",
    "# Of course, the user should be allowed to change the colors, markers and so on."
   ]
  },
  {
   "cell_type": "code",
   "execution_count": 7,
   "metadata": {},
   "outputs": [
    {
     "data": {
      "application/vnd.jupyter.widget-view+json": {
       "model_id": "a1bedd4001014c8e8491d13e5f479036",
       "version_major": 2,
       "version_minor": 0
      },
      "text/plain": [
       "Box(children=(InteractiveFig(children=(HBar(), HBox(children=(VBar(children=(Toolbar(children=(ButtonTool(icon…"
      ]
     },
     "execution_count": 7,
     "metadata": {},
     "output_type": "execute_result"
    }
   ],
   "source": [
    "## 4. Define fit function and fit data\n",
    "\n",
    "# TODO: Add a Lorentzian tail to the resolution function\n",
    "# Define the fit function, which for now is just an elastic peak, a Lorentzian peak and a background. The resolution function is fixed to the Gaussian one determined from the vanadium data.\n",
    "def GGG_fit_function_scipp(energy, energy_offset, res_gauss1_sigma,el_area,lorz1_area,lorz1_HWHM,BG):\n",
    "    \"\"\"\n",
    "    Elastic plus quasielastic signal with a Gaussian resolution and a constant background\n",
    "\n",
    "    Parameters:\n",
    "    energy (array-like): The energy values.\n",
    "    energy_offset (float): The energy offset.\n",
    "    res_gauss1_sigma (float): The standard deviation of the Gaussian resolution function.\n",
    "    el_area (float): The area of the elastic peak.\n",
    "    lorz1_area (float): The area of the Lorentzian peak.\n",
    "    lorz1_HWHM (float): The half-width at half-maximum of the Lorentzian peak.\n",
    "    BG (float): The background value.\n",
    "\n",
    "    Returns:\n",
    "    array-like: The calculated GGG fit function values.\n",
    "    \"\"\"\n",
    "\n",
    "    # Subtract energy offset from energy values\n",
    "    x = energy-energy_offset\n",
    "\n",
    "    # Calculate elastic peak using resolution function\n",
    "    y_el = resolution_function_scipp(energy, energy_offset, el_area, res_gauss1_sigma, 0)\n",
    "\n",
    "    # scipp doesn't allow using some functions like the voigt_profile, imported from scipy. We therefore need to convert the scipp arrays to numpy arrays.\n",
    "    # TODO Make a scipp version of the voigt_profile\n",
    "    y_lorz=lorz1_area.value*(voigt_profile(x.values, res_gauss1_sigma.value, lorz1_HWHM.value))\n",
    "\n",
    "    # Sum elastic and Lorentzian peaks and add background\n",
    "    y = y_el.values + y_lorz + BG.values\n",
    "\n",
    "    # Return the result as a scipp array\n",
    "    y=sc.array(dims=['energy'],values=y,unit='dimensionless')    \n",
    "    \n",
    "    return y\n",
    "\n",
    "# Define the initial guess for the fit parameters\n",
    "energy_offset= -0.5e-3 * sc.Unit('meV')\n",
    "res_gauss1_sigma=4e-4 * sc.Unit('meV')\n",
    "el_area=1e-5*sc.Unit('meV')\n",
    "lorz1_area=1e-5*sc.Unit('meV')\n",
    "lorz1_HWHM=1e-3*sc.Unit('meV')\n",
    "BG=0.5e-3 *sc.Unit('dimensionless')\n",
    "\n",
    "\n",
    "# Each Q point has its own set of start guess. For now, we just use the same values for all Q points, but later, the user should be allowed to set these independently for each Q point.\n",
    "energy_offset_array=sc.ones(dims=['Q'], shape=[NUMBER_OF_Q_POINTS])*energy_offset\n",
    "res_gauss1_sigma_array=sc.ones(dims=['Q'], shape=[NUMBER_OF_Q_POINTS])*res_gauss1_sigma\n",
    "el_area_array=sc.ones(dims=['Q'], shape=[NUMBER_OF_Q_POINTS])*el_area\n",
    "lorz1_area_array=sc.ones(dims=['Q'], shape=[NUMBER_OF_Q_POINTS])*lorz1_area\n",
    "lorz1_HWHM_array=sc.ones(dims=['Q'], shape=[NUMBER_OF_Q_POINTS])*lorz1_HWHM\n",
    "BG_array=sc.ones(dims=['Q'], shape=[NUMBER_OF_Q_POINTS])*BG\n",
    "\n",
    "# Calculate the guess; this is useful for the user to determine if the guess is reasonable\n",
    "GGG_intensity_guess=sc.zeros(dims=['Q','energy'],shape=[NUMBER_OF_Q_POINTS,NUMBER_OF_E_POINTS])\n",
    "for k in range(NUMBER_OF_Q_POINTS):\n",
    "    GGG_intensity_guess['Q',k]=GGG_fit_function_scipp(energy, energy_offset_array[k], res_gauss1_sigma_array[k],el_area_array[k],lorz1_area_array[k],lorz1_HWHM_array[k],BG_array[k])\n",
    "GGG_guess_450mK=sc.DataArray(data=GGG_intensity_guess, coords={'Q':Q,'energy': energy})\n",
    "\n",
    "\n",
    "\n",
    "\n",
    "\n",
    "# The user should be allowed to fix some parameters, for example all parameters related to the resolution\n",
    "# Fit the data. We can add more functionality, such as minimum and maximum values, but for now we keep it simple.\n",
    "popt_GGG, _ = curve_fit(['energy'], GGG_fit_function_scipp, GGG_data_450mK, \n",
    "                    p0 = {\n",
    "                        'energy_offset'   : energy_offset,\n",
    "                        'res_gauss1_sigma':res_gauss1_sigma,\n",
    "                        'el_area'         : el_area, \n",
    "                        'lorz1_area'      : lorz1_area, \n",
    "                        'lorz1_HWHM'      : lorz1_HWHM, \n",
    "                        'BG'              : BG\n",
    "                        })\n",
    "\n",
    "# Calculate the fit in the same way as the guess was calculated\n",
    "GGG_450mK_fit_values=sc.zeros(dims=['Q','energy'],shape=[NUMBER_OF_Q_POINTS,NUMBER_OF_E_POINTS])\n",
    "for k in range(NUMBER_OF_Q_POINTS):\n",
    "    GGG_450mK_fit_values['Q',k]=GGG_fit_function_scipp(energy, sc.values(popt_GGG['energy_offset'])[k], sc.values(popt_GGG['res_gauss1_sigma'])[k],sc.values(popt_GGG['el_area'])[k],sc.values(popt_GGG['lorz1_area'])[k],sc.values(popt_GGG['lorz1_HWHM'])[k],sc.values(popt_GGG['BG'])[k])\n",
    "GGG_fit_450mK=sc.DataArray(data=GGG_450mK_fit_values, coords={'Q':Q,'energy': energy})\n",
    "\n",
    "# Make a group of the data, guess and fitfor the slicer\n",
    "# For the user, it should be possible to show/hide the data, guess and fit\n",
    "data_and_guess_and_fit=sc.DataGroup({'Data': binned_GGG_data_450mK,\n",
    "                                     'Guess': GGG_guess_450mK,\n",
    "                                     'Fit': GGG_fit_450mK})\n",
    "\n",
    "data_and_fit_slicer=pp.slicer(data_and_guess_and_fit['energy',ENERGY_MIN:ENERGY_MAX],vmin=INTENSITY_MIN,vmax=INTENSITY_MAX,\n",
    "     keep=['energy'],\n",
    "     linestyle=         {'Data': 'none', 'Guess':'-' ,   'Fit': '-'},\n",
    "     marker=            {'Data': 'o',    'Guess':'none' ,'Fit':'none'},\n",
    "     markerfacecolor=   {'Data': 'none', 'Guess':'green','Fit':'red'},\n",
    "     color=             {'Data': 'black','Guess':'green','Fit':'red'}\n",
    ")\n",
    "#TODO Add a button to show/hide the guess and fit\n",
    "#TODO Change the label of the y axis\n",
    "data_and_fit_slicer\n"
   ]
  },
  {
   "cell_type": "code",
   "execution_count": 9,
   "metadata": {},
   "outputs": [
    {
     "data": {
      "application/vnd.jupyter.widget-view+json": {
       "model_id": "e4f2b74e0c224ab498a03e20b4f52b27",
       "version_major": 2,
       "version_minor": 0
      },
      "text/plain": [
       "InteractiveFig(children=(HBar(), HBox(children=(VBar(children=(Toolbar(children=(ButtonTool(icon='home', layou…"
      ]
     },
     "execution_count": 9,
     "metadata": {},
     "output_type": "execute_result"
    }
   ],
   "source": [
    "\n",
    "p=sc.plot(popt_GGG['lorz1_HWHM'][1:15].to(unit='micro*eV'))\n",
    "p.canvas.ylabel = 'HWHM [µeV]'\n",
    "p.canvas.xrange = [0, 15]\n",
    "p\n"
   ]
  },
  {
   "cell_type": "code",
   "execution_count": 62,
   "metadata": {},
   "outputs": [
    {
     "data": {
      "application/vnd.jupyter.widget-view+json": {
       "model_id": "ce00738f92244d129dea8e8e70892c37",
       "version_major": 2,
       "version_minor": 0
      },
      "text/plain": [
       "InteractiveFig(children=(HBar(), HBox(children=(VBar(children=(Toolbar(children=(ButtonTool(icon='home', layou…"
      ]
     },
     "execution_count": 62,
     "metadata": {},
     "output_type": "execute_result"
    }
   ],
   "source": [
    "p=sc.plot(popt_GGG['lorz1_area'][1:15].to(unit='micro*eV'))\n",
    "p.canvas.ylabel = 'Area [µeV]'\n",
    "p.canvas.xrange = [0, 15]\n",
    "p\n",
    "#Notice a peak near 4 and 11. If I had used proper units for Q, these peaks would be meaningful."
   ]
  },
  {
   "cell_type": "code",
   "execution_count": 59,
   "metadata": {},
   "outputs": [
    {
     "data": {
      "application/vnd.jupyter.widget-view+json": {
       "model_id": "bee9731226824552bed7e46628e3bb5d",
       "version_major": 2,
       "version_minor": 0
      },
      "text/plain": [
       "InteractiveFig(children=(HBar(), HBox(children=(VBar(children=(Toolbar(children=(ButtonTool(icon='home', layou…"
      ]
     },
     "execution_count": 59,
     "metadata": {},
     "output_type": "execute_result"
    }
   ],
   "source": [
    "#7. Define fit function for fitted parameters, fit parameters and plot\n",
    "# The simplest possible fit function\n",
    "def str_line(Q, a,b):\n",
    "    y=a*Q+b\n",
    "    return y\n",
    "\n",
    "#Define the data to be fitted\n",
    "lorz1_HWHM_fit_result=popt_GGG['lorz1_HWHM'][1:14].to(unit='micro*eV')\n",
    "\n",
    "popt_HWHM, _ = curve_fit(['Q'], str_line, lorz1_HWHM_fit_result, \n",
    "                    p0 = {\n",
    "                        'a'   : 0*sc.Unit('micro*eV'),\n",
    "                        'b'   : 2.7*sc.Unit('micro*eV')\n",
    "                        })\n",
    "\n",
    "Q=sc.array(dims=['Q'],values=range(NUMBER_OF_Q_POINTS))\n",
    "lorz1_HWHM_strline_fit_value=str_line(Q[1:14], sc.values(popt_HWHM['a']), sc.values(popt_HWHM['b']))\n",
    "lorz1_HWHM_strline_fit_value.coords['Q']=Q[1:14]\n",
    "fit_result_for_plot=sc.DataGroup({'Data': lorz1_HWHM_fit_result,\n",
    "                                     'Fit': lorz1_HWHM_strline_fit_value})\n",
    "\n",
    "p=sc.plot(fit_result_for_plot)\n",
    "p.canvas.ylabel = 'HWHM [µeV]'\n",
    "p.canvas.xrange = [0, 15]\n",
    "p\n",
    "\n",
    "#Users should be able to fit any parameters from the previous fits, along any coordinate and to any function, such as the ones implemented in QENSLibrary.\n",
    "# Here I have changed the units to microeV, that kind of functionality should also be available to the user."
   ]
  }
 ],
 "metadata": {
  "kernelspec": {
   "display_name": "QENSMockup",
   "language": "python",
   "name": "python3"
  },
  "language_info": {
   "codemirror_mode": {
    "name": "ipython",
    "version": 3
   },
   "file_extension": ".py",
   "mimetype": "text/x-python",
   "name": "python",
   "nbconvert_exporter": "python",
   "pygments_lexer": "ipython3",
   "version": "3.12.2"
  }
 },
 "nbformat": 4,
 "nbformat_minor": 2
}
