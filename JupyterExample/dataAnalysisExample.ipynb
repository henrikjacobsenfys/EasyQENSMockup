{
 "cells": [
  {
   "cell_type": "code",
   "execution_count": 1,
   "metadata": {},
   "outputs": [],
   "source": [
    "import scipp as sc\n",
    "import numpy as np\n",
    "import matplotlib.pyplot as plt\n",
    "import plopp as pp\n",
    "from scipp import curve_fit\n",
    "from scipy.special import voigt_profile\n",
    "\n",
    "%matplotlib widget\n",
    "\n",
    "## Data analysis steps\n",
    "# 1. Load and inspect data\n",
    "# 2. Load and inspect vanadium data\n",
    "# 3. Define resolution function and fit vanadium data\n",
    "# 4. Define fit function and fit data\n",
    "# 5. Plot data and fit\n",
    "# 6. Define fit function for fitted parameters, fit parameters and plot\n"
   ]
  },
  {
   "cell_type": "code",
   "execution_count": 3,
   "metadata": {},
   "outputs": [
    {
     "data": {
      "application/vnd.jupyter.widget-view+json": {
       "model_id": "b8e39916ccf14aa5a73e93d17c599cfe",
       "version_major": 2,
       "version_minor": 0
      },
      "text/plain": [
       "Box(children=(InteractiveFig(children=(HBar(), HBox(children=(VBar(children=(Toolbar(children=(ButtonTool(icon…"
      ]
     },
     "execution_count": 3,
     "metadata": {},
     "output_type": "execute_result"
    }
   ],
   "source": [
    "## Load and inspect data\n",
    "# For the GUI, this should ideally be a selection menu, where multiple data files can be loaded into one dataset. I'd like us to automatically determine what the coordinates are, e.g. temperature, magnetic field etc.\n",
    "# Several data sets (jobs?) should be allowed. The user should be able to select which data set to work with.\n",
    "# Users should also be allowed to make a mask for data, e.g. to remove NaNs or data at positions with detector problems or similar.\n",
    "\n",
    "#TODO Make a general data loader together with SCIPP team\n",
    "## Load actual data - just one temperature for now\n",
    "NUMBER_OF_Q_POINTS=16\n",
    "NUMBER_OF_E_POINTS=1024\n",
    "\n",
    "#TODO consider adding a loop to load more temperatures\n",
    "\n",
    "#Preallocate\n",
    "intensity_values=np.zeros((NUMBER_OF_Q_POINTS,NUMBER_OF_E_POINTS))\n",
    "error_values=np.zeros((NUMBER_OF_Q_POINTS,NUMBER_OF_E_POINTS))\n",
    "\n",
    "# Load data into a matrix\n",
    "for Q in range(NUMBER_OF_Q_POINTS):\n",
    "    filename = '../../IN16b_GGG_data/data_450mK_Q' +str(Q+1) +'.dat'\n",
    "\n",
    "    data_array = np.loadtxt(filename)\n",
    "    energy_values=data_array[:, 0] #should be the same for all Q\n",
    "    # EnergyValues[Q,:]=data_array[:, 0]\n",
    "    intensity_values[Q,:]=data_array[:,1]\n",
    "    error_values[Q,:]=data_array[:,2]\n",
    "\n",
    "# Define energy, Q and intensity as scipp variables with units, and make a DataArray\n",
    "energy=sc.array(dims=['energy'],values=energy_values/1000,unit='meV')\n",
    "Q=sc.array(dims=['Q'],values=range(NUMBER_OF_Q_POINTS))\n",
    "intensity=sc.array(dims=['Q','energy'],values=intensity_values,variances=error_values*error_values) #The variance is the square of the uncertainty!\n",
    "\n",
    "GGG_data_450mK = sc.DataArray(data=intensity, coords={'Q':Q,'energy': energy})\n",
    "\n",
    "#######################\n",
    "#Preallocate\n",
    "intensity_values=np.zeros((NUMBER_OF_Q_POINTS,NUMBER_OF_E_POINTS))\n",
    "error_values=np.zeros((NUMBER_OF_Q_POINTS,NUMBER_OF_E_POINTS))\n",
    "\n",
    "# Load data into a matrix\n",
    "for Q in range(NUMBER_OF_Q_POINTS):\n",
    "    filename = '../../IN16b_GGG_data/data_600mK_Q' +str(Q+1) +'.dat'\n",
    "\n",
    "    data_array = np.loadtxt(filename)\n",
    "    energy_values=data_array[:, 0] #should be the same for all Q\n",
    "    # EnergyValues[Q,:]=data_array[:, 0]\n",
    "    intensity_values[Q,:]=data_array[:,1]\n",
    "    error_values[Q,:]=data_array[:,2]\n",
    "\n",
    "# Define energy, q and intensity as scipp variables with units, and make a DataArraw\n",
    "energy=sc.array(dims=['energy'],values=energy_values/1000,unit='meV')\n",
    "Q=sc.array(dims=['Q'],values=range(NUMBER_OF_Q_POINTS))\n",
    "intensity=sc.array(dims=['Q','energy'],values=intensity_values,variances=error_values*error_values) #The variance is the square of the uncertainty!\n",
    "\n",
    "GGG_data_600mK = sc.DataArray(data=intensity, coords={'Q':Q,'energy': energy})\n",
    "\n",
    "# Bin the data\n",
    "#TODO consider if grouping is better than binning\n",
    "Q_BINS=16\n",
    "ENERGY_BINS=sc.scalar(1e-3*0.2, unit='meV')\n",
    "\n",
    "INTENSITY_MIN=0.0\n",
    "INTENSITY_MAX=0.01\n",
    "\n",
    "ENERGY_MIN = -0.03  * sc.Unit('meV')\n",
    "ENERGY_MAX = 0.03 * sc.Unit('meV')\n",
    "\n",
    "# da.coords['Energy'] = da.coords['Energy'].to(unit='micro*eV') #optional change the scale to mueV\n",
    "binned_GGG_data_450mK=GGG_data_450mK.flatten(to='dummy').bin(energy=ENERGY_BINS,Q=Q_BINS).bins.mean() #can add .plot() to plot it\n",
    "binned_GGG_data_600mK=GGG_data_600mK.flatten(to='dummy').bin(energy=ENERGY_BINS,Q=Q_BINS).bins.mean() #can add .plot() to plot it\n",
    "pp.slicer(binned_GGG_data_450mK['energy',ENERGY_MIN:ENERGY_MAX],vmin=INTENSITY_MIN,vmax=INTENSITY_MAX,\n",
    "     keep=['energy'],\n",
    "     linestyle='none',\n",
    "     marker='o',\n",
    "     markerfacecolor='none',\n",
    "     color='k'\n",
    ")\n",
    "# sc.show(GGG_data_450mK)\n",
    "\n",
    "# The slicer can also slice the data along more coordinates, such as temperature. Users should be allowed to select which coordinates to keep, as well as the intensity and energy range."
   ]
  },
  {
   "cell_type": "code",
   "execution_count": 4,
   "metadata": {},
   "outputs": [
    {
     "data": {
      "application/vnd.jupyter.widget-view+json": {
       "model_id": "20372e16c05e476faf8a05d9facdf025",
       "version_major": 2,
       "version_minor": 0
      },
      "text/plain": [
       "Box(children=(InteractiveFig(children=(HBar(), HBox(children=(VBar(children=(Toolbar(children=(ButtonTool(icon…"
      ]
     },
     "execution_count": 4,
     "metadata": {},
     "output_type": "execute_result"
    }
   ],
   "source": [
    "# Just testing the 600 mK data. Note that it has not been binned, so the background is very noisy.\n",
    "pp.slicer(GGG_data_600mK['energy',ENERGY_MIN:ENERGY_MAX],vmin=INTENSITY_MIN,vmax=INTENSITY_MAX,\n",
    "     keep=['energy'],\n",
    "     linestyle='none',\n",
    "     marker='o',\n",
    "     markerfacecolor='none',\n",
    "     color='k'\n",
    ")\n",
    "\n"
   ]
  },
  {
   "cell_type": "code",
   "execution_count": 5,
   "metadata": {},
   "outputs": [
    {
     "data": {
      "application/vnd.jupyter.widget-view+json": {
       "model_id": "a522e13ae44642a68111a16a3d64b54f",
       "version_major": 2,
       "version_minor": 0
      },
      "text/plain": [
       "Box(children=(InteractiveFig(children=(HBar(), HBox(children=(VBar(children=(Toolbar(children=(ButtonTool(icon…"
      ]
     },
     "execution_count": 5,
     "metadata": {},
     "output_type": "execute_result"
    }
   ],
   "source": [
    "## 2. Load and inspect vanadium data\n",
    "\n",
    "#Preallocate\n",
    "intensity_values=np.zeros((NUMBER_OF_Q_POINTS,NUMBER_OF_E_POINTS))\n",
    "error_values=np.zeros((NUMBER_OF_Q_POINTS,NUMBER_OF_E_POINTS))\n",
    "\n",
    "# Load data into a matrix\n",
    "for Q in range(NUMBER_OF_Q_POINTS):\n",
    "    filename = '../../IN16b_GGG_data/vanadium_Q' +str(Q+1) +'.dat'\n",
    "\n",
    "    data_array = np.loadtxt(filename)\n",
    "    energy_values=data_array[:, 0] #should be the same for all Q\n",
    "    # EnergyValues[Q,:]=data_array[:, 0]\n",
    "    intensity_values[Q,:]=data_array[:,1]\n",
    "    error_values[Q,:]=data_array[:,2]\n",
    "\n",
    "# Define energy, q and intensity as scipp variables with units, and make a DataArray\n",
    "energy=sc.array(dims=['energy'],values=energy_values/1000,unit='meV')\n",
    "Q=sc.array(dims=['Q'],values=range(NUMBER_OF_Q_POINTS))\n",
    "intensity=sc.array(dims=['Q','energy'],values=intensity_values,variances=error_values*error_values) #The variance is the square of the uncertainty!\n",
    "\n",
    "vanadium_data = sc.DataArray(data=intensity, coords={'Q':Q,'energy': energy})\n",
    "\n",
    "## Bin and plot data \n",
    "Q_BINS=16\n",
    "ENERGY_BINS=sc.scalar(1e-3*0.2, unit='meV')\n",
    "\n",
    "INTENSITY_MIN_VANADIUM=0.0\n",
    "INTENSITY_MAX_VANADIUM=0.06\n",
    "\n",
    "ENERGY_MIN_VANADIUM = -0.02 * sc.Unit('meV')\n",
    "ENERGY_MAX_VANADIUM = 0.02 * sc.Unit('meV')\n",
    "\n",
    "# da.coords['Energy'] = da.coords['Energy'].to(unit='micro*eV') #optional change the scale to mueV\n",
    "binned_vanadium_data=vanadium_data.flatten(to='dummy').bin(energy=ENERGY_BINS,Q=Q_BINS).bins.mean() #can add .plot() to plot it\n",
    "\n",
    "pp.slicer(binned_vanadium_data['energy',ENERGY_MIN_VANADIUM:ENERGY_MAX_VANADIUM],vmin=INTENSITY_MIN_VANADIUM,vmax=INTENSITY_MAX_VANADIUM,\n",
    "     keep=['energy'],\n",
    "     linestyle='none',\n",
    "     marker='o',\n",
    "     markerfacecolor='none',\n",
    "     color='k'\n",
    ")\n"
   ]
  },
  {
   "cell_type": "code",
   "execution_count": 6,
   "metadata": {},
   "outputs": [
    {
     "data": {
      "application/vnd.jupyter.widget-view+json": {
       "model_id": "60cefad9dbf249b5b5ef2d7e11a4bee7",
       "version_major": 2,
       "version_minor": 0
      },
      "text/plain": [
       "Box(children=(InteractiveFig(children=(HBar(), HBox(children=(VBar(children=(Toolbar(children=(ButtonTool(icon…"
      ]
     },
     "execution_count": 6,
     "metadata": {},
     "output_type": "execute_result"
    }
   ],
   "source": [
    "## 3. Define resolution function and fit vanadium data\n",
    "# TODO: Make a library of functions instead of defining them inline.\n",
    "# TODO: Add a Lorentzian tail to the resolution function\n",
    "# The data is approximately Gaussian with Lorentzian tails. Those are not important for a quick fit, but should be added.\n",
    "\n",
    "\n",
    "def resolution_function_scipp(energy, energy_offset, res_gauss1_area, res_gauss1_sigma, res_BG):\n",
    "    \"\"\"\n",
    "    Calculate the resolution function using the given parameters.\n",
    "\n",
    "    Parameters:\n",
    "    energy (array-like): The energy values.\n",
    "    energy_offset (float): The energy offset.\n",
    "    res_gauss1_area (float): The area of the first Gaussian component.\n",
    "    res_gauss1_sigma (float): The standard deviation of the first Gaussian component.\n",
    "    res_BG (float): The background value.\n",
    "\n",
    "    Returns:\n",
    "    array-like: The calculated resolution function values.\n",
    "    \"\"\"\n",
    "    x = energy\n",
    "    x = x - energy_offset\n",
    "\n",
    "    y = res_gauss1_area * 1 / np.sqrt(2 * np.pi) / res_gauss1_sigma * sc.exp(-0.5 * (x / res_gauss1_sigma) ** 2) + res_BG\n",
    "    return y\n",
    "\n",
    "# Fit the resolution function to the vanadium data\n",
    "\n",
    "# TODO Add the option of providing start guess for each Q point, e.g. by using the value from higher or lower Q, or a different temperature.\n",
    "popt, _ = curve_fit(['energy'], resolution_function_scipp, vanadium_data, \n",
    "                    p0 = {'res_gauss1_area' : 5e-5*sc.Unit('meV'), \n",
    "                          'res_gauss1_sigma': 4e-4 * sc.Unit('meV'),\n",
    "                          'energy_offset'   : 0 * sc.Unit('meV'),\n",
    "                          'res_BG'          :1e-5})\n",
    "\n",
    "#Calculate the fit to display it\n",
    "#TODO Make it possible to calculate the fit on a more dense set of points than the data\n",
    "vanadium_fit=resolution_function_scipp(vanadium_data.coords['energy'],\n",
    "                                      energy_offset     =sc.values(popt['energy_offset']),\n",
    "                                      res_gauss1_area   =sc.values(popt['res_gauss1_area']),\n",
    "                                      res_gauss1_sigma  =sc.values(popt['res_gauss1_sigma']),\n",
    "                                      res_BG            =sc.values(popt['res_BG']))\n",
    "vanadium_fit.coords['energy']=energy\n",
    "\n",
    "\n",
    "# Make a group of the data and the fit for the slicer\n",
    "data_and_fit=sc.DataGroup({'Data': binned_vanadium_data,\n",
    "                            'Fit': vanadium_fit})\n",
    "\n",
    "pp.slicer(data_and_fit['energy',ENERGY_MIN:ENERGY_MAX],vmin=INTENSITY_MIN,vmax=INTENSITY_MAX,\n",
    "     keep=['energy'],\n",
    "     linestyle=         {'Data': 'none',    'Fit': '-'},\n",
    "     marker=            {'Data': 'o',       'Fit':'none'},\n",
    "     markerfacecolor=   {'Data': 'none',    'Fit':'red'},\n",
    "     color=             {'Data': 'black',   'Fit':'red'}\n",
    ")\n",
    "\n",
    "# Of course, the user should be allowed to change the colors, markers and so on."
   ]
  },
  {
   "cell_type": "code",
   "execution_count": 7,
   "metadata": {},
   "outputs": [
    {
     "data": {
      "application/vnd.jupyter.widget-view+json": {
       "model_id": "a1bedd4001014c8e8491d13e5f479036",
       "version_major": 2,
       "version_minor": 0
      },
      "text/plain": [
       "Box(children=(InteractiveFig(children=(HBar(), HBox(children=(VBar(children=(Toolbar(children=(ButtonTool(icon…"
      ]
     },
     "execution_count": 7,
     "metadata": {},
     "output_type": "execute_result"
    }
   ],
   "source": [
    "## 4. Define fit function and fit data\n",
    "\n",
    "# TODO: Add a Lorentzian tail to the resolution function\n",
    "# Define the fit function, which for now is just an elastic peak, a Lorentzian peak and a background. The resolution function is fixed to the Gaussian one determined from the vanadium data.\n",
    "def GGG_fit_function_scipp(energy, energy_offset, res_gauss1_sigma,el_area,lorz1_area,lorz1_HWHM,BG):\n",
    "    \"\"\"\n",
    "    Elastic plus quasielastic signal with a Gaussian resolution and a constant background\n",
    "\n",
    "    Parameters:\n",
    "    energy (array-like): The energy values.\n",
    "    energy_offset (float): The energy offset.\n",
    "    res_gauss1_sigma (float): The standard deviation of the Gaussian resolution function.\n",
    "    el_area (float): The area of the elastic peak.\n",
    "    lorz1_area (float): The area of the Lorentzian peak.\n",
    "    lorz1_HWHM (float): The half-width at half-maximum of the Lorentzian peak.\n",
    "    BG (float): The background value.\n",
    "\n",
    "    Returns:\n",
    "    array-like: The calculated GGG fit function values.\n",
    "    \"\"\"\n",
    "\n",
    "    # Subtract energy offset from energy values\n",
    "    x = energy-energy_offset\n",
    "\n",
    "    # Calculate elastic peak using resolution function\n",
    "    y_el = resolution_function_scipp(energy, energy_offset, el_area, res_gauss1_sigma, 0)\n",
    "\n",
    "    # scipp doesn't allow using some functions like the voigt_profile, imported from scipy. We therefore need to convert the scipp arrays to numpy arrays.\n",
    "    # TODO Make a scipp version of the voigt_profile\n",
    "    y_lorz=lorz1_area.value*(voigt_profile(x.values, res_gauss1_sigma.value, lorz1_HWHM.value))\n",
    "\n",
    "    # Sum elastic and Lorentzian peaks and add background\n",
    "    y = y_el.values + y_lorz + BG.values\n",
    "\n",
    "    # Return the result as a scipp array\n",
    "    y=sc.array(dims=['energy'],values=y,unit='dimensionless')    \n",
    "    \n",
    "    return y\n",
    "\n",
    "# Define the initial guess for the fit parameters\n",
    "energy_offset= -0.5e-3 * sc.Unit('meV')\n",
    "res_gauss1_sigma=4e-4 * sc.Unit('meV')\n",
    "el_area=1e-5*sc.Unit('meV')\n",
    "lorz1_area=1e-5*sc.Unit('meV')\n",
    "lorz1_HWHM=1e-3*sc.Unit('meV')\n",
    "BG=0.5e-3 *sc.Unit('dimensionless')\n",
    "\n",
    "\n",
    "# Each Q point has its own set of start guess. For now, we just use the same values for all Q points, but later, the user should be allowed to set these independently for each Q point.\n",
    "energy_offset_array=sc.ones(dims=['Q'], shape=[NUMBER_OF_Q_POINTS])*energy_offset\n",
    "res_gauss1_sigma_array=sc.ones(dims=['Q'], shape=[NUMBER_OF_Q_POINTS])*res_gauss1_sigma\n",
    "el_area_array=sc.ones(dims=['Q'], shape=[NUMBER_OF_Q_POINTS])*el_area\n",
    "lorz1_area_array=sc.ones(dims=['Q'], shape=[NUMBER_OF_Q_POINTS])*lorz1_area\n",
    "lorz1_HWHM_array=sc.ones(dims=['Q'], shape=[NUMBER_OF_Q_POINTS])*lorz1_HWHM\n",
    "BG_array=sc.ones(dims=['Q'], shape=[NUMBER_OF_Q_POINTS])*BG\n",
    "\n",
    "# Calculate the guess; this is useful for the user to determine if the guess is reasonable\n",
    "GGG_intensity_guess=sc.zeros(dims=['Q','energy'],shape=[NUMBER_OF_Q_POINTS,NUMBER_OF_E_POINTS])\n",
    "for k in range(NUMBER_OF_Q_POINTS):\n",
    "    GGG_intensity_guess['Q',k]=GGG_fit_function_scipp(energy, energy_offset_array[k], res_gauss1_sigma_array[k],el_area_array[k],lorz1_area_array[k],lorz1_HWHM_array[k],BG_array[k])\n",
    "GGG_guess_450mK=sc.DataArray(data=GGG_intensity_guess, coords={'Q':Q,'energy': energy})\n",
    "\n",
    "\n",
    "\n",
    "\n",
    "\n",
    "# The user should be allowed to fix some parameters, for example all parameters related to the resolution\n",
    "# Fit the data. We can add more functionality, such as minimum and maximum values, but for now we keep it simple.\n",
    "popt_GGG, _ = curve_fit(['energy'], GGG_fit_function_scipp, GGG_data_450mK, \n",
    "                    p0 = {\n",
    "                        'energy_offset'   : energy_offset,\n",
    "                        'res_gauss1_sigma':res_gauss1_sigma,\n",
    "                        'el_area'         : el_area, \n",
    "                        'lorz1_area'      : lorz1_area, \n",
    "                        'lorz1_HWHM'      : lorz1_HWHM, \n",
    "                        'BG'              : BG\n",
    "                        })\n",
    "\n",
    "# Calculate the fit in the same way as the guess was calculated\n",
    "GGG_450mK_fit_values=sc.zeros(dims=['Q','energy'],shape=[NUMBER_OF_Q_POINTS,NUMBER_OF_E_POINTS])\n",
    "for k in range(NUMBER_OF_Q_POINTS):\n",
    "    GGG_450mK_fit_values['Q',k]=GGG_fit_function_scipp(energy, sc.values(popt_GGG['energy_offset'])[k], sc.values(popt_GGG['res_gauss1_sigma'])[k],sc.values(popt_GGG['el_area'])[k],sc.values(popt_GGG['lorz1_area'])[k],sc.values(popt_GGG['lorz1_HWHM'])[k],sc.values(popt_GGG['BG'])[k])\n",
    "GGG_fit_450mK=sc.DataArray(data=GGG_450mK_fit_values, coords={'Q':Q,'energy': energy})\n",
    "\n",
    "# Make a group of the data, guess and fitfor the slicer\n",
    "# For the user, it should be possible to show/hide the data, guess and fit\n",
    "data_and_guess_and_fit=sc.DataGroup({'Data': binned_GGG_data_450mK,\n",
    "                                     'Guess': GGG_guess_450mK,\n",
    "                                     'Fit': GGG_fit_450mK})\n",
    "\n",
    "data_and_fit_slicer=pp.slicer(data_and_guess_and_fit['energy',ENERGY_MIN:ENERGY_MAX],vmin=INTENSITY_MIN,vmax=INTENSITY_MAX,\n",
    "     keep=['energy'],\n",
    "     linestyle=         {'Data': 'none', 'Guess':'-' ,   'Fit': '-'},\n",
    "     marker=            {'Data': 'o',    'Guess':'none' ,'Fit':'none'},\n",
    "     markerfacecolor=   {'Data': 'none', 'Guess':'green','Fit':'red'},\n",
    "     color=             {'Data': 'black','Guess':'green','Fit':'red'}\n",
    ")\n",
    "#TODO Add a button to show/hide the guess and fit\n",
    "#TODO Change the label of the y axis\n",
    "data_and_fit_slicer\n"
   ]
  },
  {
   "cell_type": "code",
   "execution_count": 9,
   "metadata": {},
   "outputs": [
    {
     "data": {
      "application/vnd.jupyter.widget-view+json": {
       "model_id": "e4f2b74e0c224ab498a03e20b4f52b27",
       "version_major": 2,
       "version_minor": 0
      },
      "text/plain": [
       "InteractiveFig(children=(HBar(), HBox(children=(VBar(children=(Toolbar(children=(ButtonTool(icon='home', layou…"
      ]
     },
     "execution_count": 9,
     "metadata": {},
     "output_type": "execute_result"
    }
   ],
   "source": [
    "\n",
    "p=sc.plot(popt_GGG['lorz1_HWHM'][1:15].to(unit='micro*eV'))\n",
    "p.canvas.ylabel = 'HWHM [µeV]'\n",
    "p.canvas.xrange = [0, 15]\n",
    "p\n"
   ]
  },
  {
   "cell_type": "code",
   "execution_count": 11,
   "metadata": {},
   "outputs": [
    {
     "data": {
      "text/html": [
       "<div><!-- Original source from -->\n",
       "<!-- https://github.com/jsignell/xarray/blob/1d960933ab252e0f79f7e050e6c9261d55568057/xarray/static/html/icons-svg-inline.html -->\n",
       "<svg style=\"position: absolute; width: 0; height: 0; overflow: hidden\">\n",
       "<defs>\n",
       "<symbol id=\"icon-database\" viewBox=\"0 0 32 32\">\n",
       "<title>Show/Hide data repr</title>\n",
       "<path d=\"M16 0c-8.837 0-16 2.239-16 5v4c0 2.761 7.163 5 16 5s16-2.239 16-5v-4c0-2.761-7.163-5-16-5z\"></path>\n",
       "<path d=\"M16 17c-8.837 0-16-2.239-16-5v6c0 2.761 7.163 5 16 5s16-2.239 16-5v-6c0 2.761-7.163 5-16 5z\"></path>\n",
       "<path d=\"M16 26c-8.837 0-16-2.239-16-5v6c0 2.761 7.163 5 16 5s16-2.239 16-5v-6c0 2.761-7.163 5-16 5z\"></path>\n",
       "</symbol>\n",
       "<symbol id=\"icon-file-text2\" viewBox=\"0 0 32 32\">\n",
       "<title>Show/Hide attributes</title>\n",
       "<path d=\"M28.681 7.159c-0.694-0.947-1.662-2.053-2.724-3.116s-2.169-2.030-3.116-2.724c-1.612-1.182-2.393-1.319-2.841-1.319h-15.5c-1.378 0-2.5 1.121-2.5 2.5v27c0 1.378 1.122 2.5 2.5 2.5h23c1.378 0 2.5-1.122 2.5-2.5v-19.5c0-0.448-0.137-1.23-1.319-2.841zM24.543 5.457c0.959 0.959 1.712 1.825 2.268 2.543h-4.811v-4.811c0.718 0.556 1.584 1.309 2.543 2.268zM28 29.5c0 0.271-0.229 0.5-0.5 0.5h-23c-0.271 0-0.5-0.229-0.5-0.5v-27c0-0.271 0.229-0.5 0.5-0.5 0 0 15.499-0 15.5 0v7c0 0.552 0.448 1 1 1h7v19.5z\"></path>\n",
       "<path d=\"M23 26h-14c-0.552 0-1-0.448-1-1s0.448-1 1-1h14c0.552 0 1 0.448 1 1s-0.448 1-1 1z\"></path>\n",
       "<path d=\"M23 22h-14c-0.552 0-1-0.448-1-1s0.448-1 1-1h14c0.552 0 1 0.448 1 1s-0.448 1-1 1z\"></path>\n",
       "<path d=\"M23 18h-14c-0.552 0-1-0.448-1-1s0.448-1 1-1h14c0.552 0 1 0.448 1 1s-0.448 1-1 1z\"></path>\n",
       "</symbol>\n",
       "</defs>\n",
       "</svg><style id=\"scipp-style-sheet\">.sc-root{--sc-background-color0:var(--jp-layout-color0,#fff);--sc-background-color1:var(--jp-layout-color1,#fcfcfc);--sc-background-color2:var(--jp-layout-color2,#efefef);--sc-inverse-background-color0:var(--jp-inverse-layout-color4,#111);--sc-font-color0:var(--jp-content-font-color0,#000);--sc-font-color1:var(--jp-content-font-color1,#555);--sc-font-color2:var(--jp-content-font-color2,#888);--sc-font-color3:var(--jp-content-font-color3,#ccc);}body.vscode-dark .sc-root{--sc-font-color0:rgba(255,255,255,1);--sc-font-color1:rgba(255,255,255,0.70);--sc-font-color2:rgba(255,255,255,0.54);--sc-font-color3:rgba(255,255,255,0.38);--sc-border-color:#1F1F1F;--sc-disabled-color:#515151;--sc-background-color0:#111111;--sc-background-color1:#111111;--sc-background-color2:#313131;}.sc-wrap{font-size:14px;min-width:300px;max-width:800px;}.sc-var-attrs .sc-wrap{padding-left:3em;}.sc-header{padding-top:6px;padding-bottom:6px;margin-bottom:4px;border-bottom:solid 1px #ddd;}.sc-header > div,.sc-header > ul{display:inline;margin-top:0;margin-bottom:0;}.sc-obj-type,.sc-array-name{margin-left:2px;margin-right:10px;}.sc-obj-type{color:var(--sc-font-color1);}.sc-underlying-size{color:var(--sc-font-color2);}.sc-sections,.reveal .sc-sections{padding-left:0 !important;display:grid;grid-template-columns:150px auto auto auto 1fr 20px 20px;}.sc-section-item{display:contents;}.sc-section-item input{display:none;}.sc-section-item input:enabled + label{cursor:pointer;color:var(--sc-font-color1);}.sc-section-item input:enabled + label:hover{color:var(--sc-font-color0);}.sc-section-summary{grid-column:1;font-weight:500;}.sc-section-summary > span{display:inline-block;padding-left:0.5em;}.sc-section-summary-in:disabled + label{color:var(--sc-font-color1);}.sc-section-summary-in + label:before{display:inline-block;content:'►';font-size:11px;width:15px;text-align:center;}.sc-section-summary-in:disabled + label:before{color:var(--sc-font-color3);}.sc-section-summary-in:checked + label:before{content:'▼';}.sc-section-summary-in:checked + label > span{display:none;}.sc-section-summary,.sc-section-inline-details{padding-top:4px;padding-bottom:4px;}.sc-section-inline-details{grid-column:2 / 6;}.sc-section-details{display:none;grid-column:1 / -1;margin-bottom:5px;}.sc-section-summary-in:checked ~ .sc-section-details{display:contents;}.sc-array-wrap{grid-column:1 / -1;display:grid;grid-template-columns:20px auto;}.sc-array-wrap > label{grid-column:1;vertical-align:top;}.sc-preview{color:var(--sc-font-color2);}.sc-array-preview,.sc-array-data{padding:0 5px !important;grid-column:2;}.sc-array-data,.sc-array-in:checked ~ .sc-array-preview{display:none;}.sc-array-in:checked ~ .sc-array-data,.sc-array-preview{display:inline-block;}.sc-dim-list{display:inline-block !important;list-style:none;padding:0 !important;margin:0;}.sc-dim-list li{display:inline-block;padding:0;margin:0!important;}.sc-dim-list:before{content:'(';}.sc-dim-list:after{content:')';}.sc-dim-list li:not(:last-child):after{content:',';padding-right:5px;}.sc-dim-list li span,.sc-standalone-var-name > span span,.sc-var-name > span span{padding:0 !important;}.sc-aligned{font-weight:bold;}.sc-var-list,.sc-var-item,.reveal .sc-var-list,.reveal .sc-var-item{display:contents;}.sc-var-item > div,.sc-var-item label,.sc-var-item > .sc-var-name span{background-color:var(--sc-background-color1);margin-bottom:0;}.sc-var-item > .sc-var-name:hover span{padding-right:5px;}.sc-var-list > li:nth-child(odd) > div,.sc-var-list > li:nth-child(odd) > label,.sc-var-list > li:nth-child(odd) > .sc-var-name span{background-color:var(--sc-background-color2);}.sc-var-name{grid-column:1;}.sc-var-dims{grid-column:2;}.sc-var-dtype{grid-column:3;text-align:right;color:var(--sc-font-color2);}.sc-var-unit{grid-column:4;text-align:left;color:var(--sc-font-color1);max-width:50pt;text-overflow:ellipsis;}.sc-value-preview{grid-column:5;}.sc-var-preview-variances{text-align:right;}.sc-sections .sc-section-item .sc-section-summary,.sc-sections .sc-section-item .sc-section-inline-details,.sc-section-item .sc-var-list .sc-var-item > div,.sc-section-item .sc-var-list .sc-var-item > label,.sc-section-details .sc-var-list .sc-var-item > div,.sc-section-details .sc-var-list .sc-var-item > label{margin-top:0;margin-bottom:0;}.sc-var-name,.sc-var-dims,.sc-var-dtype,.sc-var-unit,.sc-preview,.sc-attrs dt{white-space:nowrap;overflow:hidden;text-overflow:ellipsis;padding-right:10px;}.sc-var-name:hover,.sc-var-dims:hover,.sc-var-dtype:hover,.sc-var-unit:hover,.sc-attrs dt:hover{overflow:visible;width:auto;z-index:1;}.sc-var-attrs{display:block;}.sc-var-data,.reveal .sc-var-data{display:none;}.sc-var-attrs,.sc-var-data{background-color:var(--sc-background-color0) !important;padding-bottom:5px !important;}.sc-var-attrs-in:checked ~ .sc-var-attrs{display:none;}.sc-var-data-in:checked ~ .sc-var-data{display:block;}.sc-var-data > table{float:right;}.sc-var-name span,.sc-var-data{padding-left:25px !important;}.sc-var-attrs,.sc-var-data{grid-column:1 / -1;}dl.sc-attrs{padding:0;margin:0;display:grid;grid-template-columns:125px auto;}.sc-attrs dt,dd{padding:0;margin:0;float:left;padding-right:10px;width:auto;}.sc-attrs dt{font-weight:normal;grid-column:1;}.sc-attrs dt:hover span{display:inline-block;padding-right:10px;}.sc-attrs dd{grid-column:2;white-space:pre-wrap;word-break:break-all;}.sc-icon-database,.sc-icon-file-text2{display:inline-block;vertical-align:middle;width:1em;height:1.5em !important;stroke-width:0;stroke:currentColor;fill:currentColor;}label.sc-hide-icon svg{opacity:0;}.sc-standalone-var-name{grid-column:1/3;}.sc-standalone-var-name span{padding-left:25px;padding-right:10px;}.sc-title{font-weight:bold;font-size:1.5em;}.sc-subtitle{font-weight:normal;font-style:italic;text-align:left;font-size:1.2em;padding:1px;}.sc-label{fill:var(--sc-font-color0,#444444);text-anchor:middle;}.sc-name{fill:var(--sc-font-color0,#111111);}.sc-inset-line{stroke:var(--sc-font-color1);stroke-width:0.05;stroke-dasharray:0.2,0.2;}.sc-log-wrap{height:25ex;resize:vertical;overflow-y:scroll;display:flex;flex-direction:column-reverse;border:1px solid;border-color:var(--jp-border-color2);background-color:var(--sc-background-color1);}div.sc-log{line-height:2.5ex;}table.sc-log{table-layout:auto;border-collapse:collapse;}tr.sc-log:nth-child(even){background-color:var(--sc-background-color0);}tr.sc-log > td{vertical-align:top;padding-bottom:0.5ex;}.sc-log-time-stamp{min-width:22ch;font-family:var(--jp-code-font-family);color:var(--sc-font-color2);}.sc-log-level{min-width:10ch;}tr.sc-log-debug td.sc-log-level{color:var(--jp-accent-color1);}tr.sc-log-info td.sc-log-level{color:var(--jp-info-color1);}tr.sc-log-warning td.sc-log-level{color:var(--jp-warn-color1);}tr.sc-log-error td.sc-log-level{font-weight:bold;color:var(--jp-error-color2);}tr.sc-log-critical td.sc-log-level{font-weight:bold;color:var(--sc-background-color0);background-color:var(--jp-error-color1);}.sc-log-message{white-space:pre-wrap;width:100%;}.sc-log-html-payload{white-space:normal;}.sc-log-name{padding-right:0.5em;text-align:right;white-space:pre-wrap;color:var(--sc-font-color3);}</style><div class='sc-wrap sc-root'><div class='sc-header'><div class='sc-obj-type'>scipp.DataArray (1.30 KB <span class='sc-underlying-size'>out of 1.31 KB</span>)</div></div><ul class='sc-sections'><li class='sc-section-item'><input id='section-6403af85-bbe4-4cf9-8ed4-874f5af98eaa' class='sc-section-summary-in' type='checkbox' disabled ><label for='section-6403af85-bbe4-4cf9-8ed4-874f5af98eaa' class='sc-section-summary'  title='Expand/collapse section'>Dimensions:</label><div class='sc-section-inline-details'><ul class='sc-dim-list'><li><span class='sc-has-index'>Q</span>: 14</li></ul></div><div class='sc-section-details'></div></li><li class='sc-section-item'><input id='section-518ab3f8-8422-4a5f-a0c3-1b6f5a26fa5f' class='sc-section-summary-in' type='checkbox'  checked><label for='section-518ab3f8-8422-4a5f-a0c3-1b6f5a26fa5f' class='sc-section-summary' >Coordinates: <span>(1)</span></label><div class='sc-section-inline-details'></div><div class='sc-section-details'><ul class='sc-var-list'><li class='sc-var-item'><div class='sc-var-name'><span class='sc-aligned'>Q</span></div><div class='sc-var-dims'>(Q)</div><div class='sc-var-dtype'>int32</div><div class='sc-var-unit'>𝟙</div><div class='sc-value-preview sc-preview'><span><div>1, 2, ..., 13, 14</div></span></div><input id='attrs-bccf8104-7a1c-4f1a-acbc-815e80e6256d' class='sc-var-attrs-in' type='checkbox' disabled><label for='attrs-bccf8104-7a1c-4f1a-acbc-815e80e6256d' class='sc-hide-icon' title='Show/Hide attributes'><svg class='icon sc-icon-file-text2'><use xlink:href='#icon-file-text2'></use></svg></label><input id='data-fcff0848-378a-43d2-b18c-a089df27f0e4' class='sc-var-data-in' type='checkbox'><label for='data-fcff0848-378a-43d2-b18c-a089df27f0e4' title='Show/Hide data repr'><svg class='icon sc-icon-database'><use xlink:href='#icon-database'></use></svg></label><pre class='sc-var-data'>Values:<br>array([ 1,  2,  3,  4,  5,  6,  7,  8,  9, 10, 11, 12, 13, 14])</pre></span></li></ul></div></li><li class='sc-section-item'><input id='section-5a9205f5-744a-4f65-b5fe-9eafb9225d12' class='sc-section-summary-in' type='checkbox'  checked><label for='section-5a9205f5-744a-4f65-b5fe-9eafb9225d12' class='sc-section-summary' >Data: <span>(1)</span></label><div class='sc-section-inline-details'></div><div class='sc-section-details'><ul class='sc-var-list'><li class='sc-var-item'><div class='sc-var-name'><span></span></div><div class='sc-var-dims'>(Q)</div><div class='sc-var-dtype'>float64</div><div class='sc-var-unit'>µeV</div><div class='sc-value-preview sc-preview'><span><div>2.349, 2.877, ..., 2.151, 1.475</div></span><span><div>σ = 0.153, 0.134, ..., 0.265, 0.818</div></span></div><input id='attrs-784fc8e0-3f9b-4be6-bf88-28fa4e2d1fbe' class='sc-var-attrs-in' type='checkbox' disabled><label for='attrs-784fc8e0-3f9b-4be6-bf88-28fa4e2d1fbe' class='sc-hide-icon' title='Show/Hide attributes'><svg class='icon sc-icon-file-text2'><use xlink:href='#icon-file-text2'></use></svg></label><input id='data-259a861c-0bd9-4aea-a37d-2002e0c3786d' class='sc-var-data-in' type='checkbox'><label for='data-259a861c-0bd9-4aea-a37d-2002e0c3786d' title='Show/Hide data repr'><svg class='icon sc-icon-database'><use xlink:href='#icon-database'></use></svg></label><pre class='sc-var-data'>Values:<br>array([2.34904098, 2.87688067, 2.85854756, 2.96219947, 2.89743312,\n",
       "       2.82846076, 2.93233199, 2.43826613, 2.92578168, 2.62793771,\n",
       "       2.62639133, 2.66196393, 2.15061464, 1.47505641])<br><br>Variances (σ²):<br>array([0.02351839, 0.01787355, 0.01538239, 0.01433711, 0.01360624,\n",
       "       0.02055843, 0.02198781, 0.03711005, 0.05361929, 0.02812139,\n",
       "       0.03195058, 0.03852996, 0.07047831, 0.6685579 ])</pre></li></ul></div></li></ul></div></div>"
      ],
      "text/plain": [
       "<scipp.DataArray>\n",
       "Dimensions: Sizes[Q:14, ]\n",
       "Coordinates:\n",
       "* Q                           int32  [dimensionless]  (Q)  [1, 2, ..., 13, 14]\n",
       "Data:\n",
       "                            float64           [µeV]  (Q)  [2.34904, 2.87688, ..., 2.15061, 1.47506]  [0.0235184, 0.0178735, ..., 0.0704783, 0.668558]\n"
      ]
     },
     "execution_count": 11,
     "metadata": {},
     "output_type": "execute_result"
    }
   ],
   "source": []
  },
  {
   "cell_type": "code",
   "execution_count": 59,
   "metadata": {},
   "outputs": [
    {
     "data": {
      "application/vnd.jupyter.widget-view+json": {
       "model_id": "bee9731226824552bed7e46628e3bb5d",
       "version_major": 2,
       "version_minor": 0
      },
      "text/plain": [
       "InteractiveFig(children=(HBar(), HBox(children=(VBar(children=(Toolbar(children=(ButtonTool(icon='home', layou…"
      ]
     },
     "execution_count": 59,
     "metadata": {},
     "output_type": "execute_result"
    }
   ],
   "source": [
    "#7. Define fit function for fitted parameters, fit parameters and plot\n",
    "# The simplest possible fit function\n",
    "def str_line(Q, a,b):\n",
    "    y=a*Q+b\n",
    "    return y\n",
    "\n",
    "#Define the data to be fitted\n",
    "lorz1_HWHM_fit_result=popt_GGG['lorz1_HWHM'][1:14].to(unit='micro*eV')\n",
    "\n",
    "popt_HWHM, _ = curve_fit(['Q'], str_line, lorz1_HWHM_fit_result, \n",
    "                    p0 = {\n",
    "                        'a'   : 0*sc.Unit('micro*eV'),\n",
    "                        'b'   : 2.7*sc.Unit('micro*eV')\n",
    "                        })\n",
    "\n",
    "Q=sc.array(dims=['Q'],values=range(NUMBER_OF_Q_POINTS))\n",
    "lorz1_HWHM_strline_fit_value=str_line(Q[1:14], sc.values(popt_HWHM['a']), sc.values(popt_HWHM['b']))\n",
    "lorz1_HWHM_strline_fit_value.coords['Q']=Q[1:14]\n",
    "fit_result_for_plot=sc.DataGroup({'Data': lorz1_HWHM_fit_result,\n",
    "                                     'Fit': lorz1_HWHM_strline_fit_value})\n",
    "\n",
    "p=sc.plot(fit_result_for_plot)\n",
    "p.canvas.ylabel = 'HWHM [µeV]'\n",
    "p.canvas.xrange = [0, 15]\n",
    "p\n",
    "\n",
    "#Users should be able to fit any parameters from the previous fits, along any coordinate and to any function, such as the ones implemented in QENSLibrary.\n",
    "# Here I have changed the units to microeV, that kind of functionality should also be available to the user."
   ]
  }
 ],
 "metadata": {
  "kernelspec": {
   "display_name": "QENSMockup",
   "language": "python",
   "name": "python3"
  },
  "language_info": {
   "codemirror_mode": {
    "name": "ipython",
    "version": 3
   },
   "file_extension": ".py",
   "mimetype": "text/x-python",
   "name": "python",
   "nbconvert_exporter": "python",
   "pygments_lexer": "ipython3",
   "version": "3.12.2"
  }
 },
 "nbformat": 4,
 "nbformat_minor": 2
}
