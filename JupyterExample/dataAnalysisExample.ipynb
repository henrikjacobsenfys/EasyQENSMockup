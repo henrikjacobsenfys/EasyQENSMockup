{
 "cells": [
  {
   "cell_type": "code",
   "execution_count": 1,
   "metadata": {},
   "outputs": [],
   "source": [
    "import scipp as sc\n",
    "import numpy as np\n",
    "import matplotlib.pyplot as plt\n",
    "import plopp as pp\n",
    "from scipp import curve_fit\n",
    "from scipy.special import voigt_profile\n",
    "\n",
    "%matplotlib widget\n",
    "\n",
    "## In this example, we will look at a sample that has an elastic signal from incoherent scattering (from the sample and the sample holder), and a quasi-elastic magnetic signal from the sample. The goal is to determine the width and area of the magnetic signal as function of Q. In principle, we also want to look at temperature dependence, but we skip that for now.\n",
    "\n",
    "## Data analysis steps\n",
    "# 1. Load and inspect data\n",
    "# 2. Load and inspect vanadium data\n",
    "# 3. Define resolution function and fit vanadium data\n",
    "# 4. Define fit function and fit data\n",
    "# 5. Plot data and fit\n",
    "# 6. Define fit function for fitted parameters, fit parameters and plot\n",
    "\n",
    "\n"
   ]
  },
  {
   "cell_type": "code",
   "execution_count": 2,
   "metadata": {},
   "outputs": [
    {
     "data": {
      "application/vnd.jupyter.widget-view+json": {
       "model_id": "125758c199334199bfa6cb6d755eb997",
       "version_major": 2,
       "version_minor": 0
      },
      "text/plain": [
       "Box(children=(InteractiveFig(children=(HBar(), HBox(children=(VBar(children=(Toolbar(children=(ButtonTool(icon…"
      ]
     },
     "execution_count": 2,
     "metadata": {},
     "output_type": "execute_result"
    }
   ],
   "source": [
    "## Load and inspect data\n",
    "# For the GUI, this should ideally be a selection menu, where multiple data files can be loaded into one dataset. I'd like us to automatically determine what the coordinates are, e.g. temperature, magnetic field etc.\n",
    "# Several data sets (jobs?) should be allowed. The user should be able to select which data set to work with.\n",
    "# Users should also be allowed to make a mask for data, e.g. to remove NaNs or data at positions with detector problems or similar.\n",
    "\n",
    "#TODO Make a general data loader together with SCIPP team\n",
    "## Load actual data - just one temperature for now\n",
    "NUMBER_OF_Q_POINTS=16\n",
    "NUMBER_OF_E_POINTS=1024\n",
    "# [  0.5708,    0.7002,    0.8262 ,   0.9485 ,   1.0664  ,  1.1793   , 1.2868 ,   1.3883 ,   1.4833 ,   1.5716  ,  1.6525  ,  1.7258  ,  1.7910 ,   1.8480  ,  1.8965 ,   1.9361],unit='1/angstrom'\n",
    "#TODO consider adding a loop to load more temperatures\n",
    "\n",
    "#Preallocate\n",
    "intensity_values=np.zeros((NUMBER_OF_Q_POINTS,NUMBER_OF_E_POINTS))\n",
    "error_values=np.zeros((NUMBER_OF_Q_POINTS,NUMBER_OF_E_POINTS))\n",
    "\n",
    "# Load data into a matrix\n",
    "for Q in range(NUMBER_OF_Q_POINTS):\n",
    "    filename = '../../IN16b_GGG_data/data_450mK_Q' +str(Q+1) +'.dat'\n",
    "\n",
    "    data_array = np.loadtxt(filename)\n",
    "    energy_values=data_array[:, 0] #should be the same for all Q\n",
    "    # EnergyValues[Q,:]=data_array[:, 0]\n",
    "    intensity_values[Q,:]=data_array[:,1]\n",
    "    error_values[Q,:]=data_array[:,2]\n",
    "\n",
    "# Define energy, Q and intensity as scipp variables with units, and make a DataArray\n",
    "energy=sc.array(dims=['energy'],values=energy_values/1000,unit='meV')\n",
    "Q=sc.array(dims=['Q'],values=range(NUMBER_OF_Q_POINTS))\n",
    "intensity=sc.array(dims=['Q','energy'],values=intensity_values,variances=error_values*error_values) #The variance is the square of the uncertainty!\n",
    "\n",
    "GGG_data_450mK = sc.DataArray(data=intensity, coords={'Q':Q,'energy': energy})\n",
    "\n",
    "#######################\n",
    "#Preallocate\n",
    "intensity_values=np.zeros((NUMBER_OF_Q_POINTS,NUMBER_OF_E_POINTS))\n",
    "error_values=np.zeros((NUMBER_OF_Q_POINTS,NUMBER_OF_E_POINTS))\n",
    "\n",
    "# Load data into a matrix\n",
    "for Q in range(NUMBER_OF_Q_POINTS):\n",
    "    filename = '../../IN16b_GGG_data/data_600mK_Q' +str(Q+1) +'.dat'\n",
    "\n",
    "    data_array = np.loadtxt(filename)\n",
    "    energy_values=data_array[:, 0] #should be the same for all Q\n",
    "    # EnergyValues[Q,:]=data_array[:, 0]\n",
    "    intensity_values[Q,:]=data_array[:,1]\n",
    "    error_values[Q,:]=data_array[:,2]\n",
    "\n",
    "# Define energy, q and intensity as scipp variables with units, and make a DataArraw\n",
    "energy=sc.array(dims=['energy'],values=energy_values/1000,unit='meV')\n",
    "Q=sc.array(dims=['Q'],values=[  0.5708,    0.7002,    0.8262 ,   0.9485 ,   1.0664  ,  1.1793   , 1.2868 ,   1.3883 ,   1.4833 ,   1.5716  ,  1.6525  ,  1.7258  ,  1.7910 ,   1.8480  ,  1.8965 ,   1.9361],unit='1/angstrom')\n",
    "intensity=sc.array(dims=['Q','energy'],values=intensity_values,variances=error_values*error_values) #The variance is the square of the uncertainty!\n",
    "\n",
    "GGG_data_600mK = sc.DataArray(data=intensity, coords={'Q':Q,'energy': energy})\n",
    "\n",
    "# Bin the data\n",
    "#TODO consider if grouping is better than binning\n",
    "Q_BINS=16\n",
    "ENERGY_BINS=sc.scalar(1e-3*0.2, unit='meV')\n",
    "\n",
    "INTENSITY_MIN=0.0\n",
    "INTENSITY_MAX=0.01\n",
    "\n",
    "ENERGY_MIN = -0.03  * sc.Unit('meV')\n",
    "ENERGY_MAX = 0.03 * sc.Unit('meV')\n",
    "\n",
    "# da.coords['Energy'] = da.coords['Energy'].to(unit='micro*eV') #optional change the scale to mueV\n",
    "binned_GGG_data_450mK=GGG_data_450mK.flatten(to='dummy').bin(energy=ENERGY_BINS,Q=Q_BINS).bins.mean() #can add .plot() to plot it\n",
    "binned_GGG_data_600mK=GGG_data_600mK.flatten(to='dummy').bin(energy=ENERGY_BINS,Q=Q_BINS).bins.mean() #can add .plot() to plot it\n",
    "pp.slicer(binned_GGG_data_450mK['energy',ENERGY_MIN:ENERGY_MAX],vmin=INTENSITY_MIN,vmax=INTENSITY_MAX,\n",
    "     keep=['energy'],\n",
    "     linestyle='none',\n",
    "     marker='o',\n",
    "     markerfacecolor='none',\n",
    "     color='k'\n",
    ")\n",
    "# sc.show(GGG_data_450mK)\n",
    "\n",
    "# The slicer can also slice the data along more coordinates, such as temperature. Users should be allowed to select which coordinates to keep, as well as the intensity and energy range."
   ]
  },
  {
   "cell_type": "code",
   "execution_count": 3,
   "metadata": {},
   "outputs": [
    {
     "data": {
      "application/vnd.jupyter.widget-view+json": {
       "model_id": "b7bd07e9caf5462c99d2a6c6eb2033e4",
       "version_major": 2,
       "version_minor": 0
      },
      "text/plain": [
       "Box(children=(InteractiveFig(children=(HBar(), HBox(children=(VBar(children=(Toolbar(children=(ButtonTool(icon…"
      ]
     },
     "execution_count": 3,
     "metadata": {},
     "output_type": "execute_result"
    }
   ],
   "source": [
    "# Just testing the 600 mK data. Note that it has not been binned, so the background is very noisy.\n",
    "pp.slicer(GGG_data_600mK['energy',ENERGY_MIN:ENERGY_MAX],vmin=INTENSITY_MIN,vmax=INTENSITY_MAX,\n",
    "     keep=['energy'],\n",
    "     linestyle='none',\n",
    "     marker='o',\n",
    "     markerfacecolor='none',\n",
    "     color='k'\n",
    ")\n",
    "\n"
   ]
  },
  {
   "cell_type": "code",
   "execution_count": 4,
   "metadata": {},
   "outputs": [
    {
     "data": {
      "application/vnd.jupyter.widget-view+json": {
       "model_id": "76a6ec6a0a5a4078aecec483c6bed60e",
       "version_major": 2,
       "version_minor": 0
      },
      "text/plain": [
       "Box(children=(InteractiveFig(children=(HBar(), HBox(children=(VBar(children=(Toolbar(children=(ButtonTool(icon…"
      ]
     },
     "execution_count": 4,
     "metadata": {},
     "output_type": "execute_result"
    }
   ],
   "source": [
    "## 2. Load and inspect vanadium data\n",
    "\n",
    "#Preallocate\n",
    "intensity_values=np.zeros((NUMBER_OF_Q_POINTS,NUMBER_OF_E_POINTS))\n",
    "error_values=np.zeros((NUMBER_OF_Q_POINTS,NUMBER_OF_E_POINTS))\n",
    "\n",
    "# Load data into a matrix\n",
    "for Q in range(NUMBER_OF_Q_POINTS):\n",
    "    filename = '../../IN16b_GGG_data/vanadium_Q' +str(Q+1) +'.dat'\n",
    "\n",
    "    data_array = np.loadtxt(filename)\n",
    "    energy_values=data_array[:, 0] #should be the same for all Q\n",
    "    # EnergyValues[Q,:]=data_array[:, 0]\n",
    "    intensity_values[Q,:]=data_array[:,1]\n",
    "    error_values[Q,:]=data_array[:,2]\n",
    "\n",
    "# Define energy, q and intensity as scipp variables with units, and make a DataArray\n",
    "energy=sc.array(dims=['energy'],values=energy_values/1000,unit='meV')\n",
    "Q=sc.array(dims=['Q'],values=range(NUMBER_OF_Q_POINTS))\n",
    "intensity=sc.array(dims=['Q','energy'],values=intensity_values,variances=error_values*error_values) #The variance is the square of the uncertainty!\n",
    "\n",
    "vanadium_data = sc.DataArray(data=intensity, coords={'Q':Q,'energy': energy})\n",
    "\n",
    "## Bin and plot data \n",
    "Q_BINS=16\n",
    "ENERGY_BINS=sc.scalar(1e-3*0.2, unit='meV')\n",
    "\n",
    "INTENSITY_MIN_VANADIUM=0.0\n",
    "INTENSITY_MAX_VANADIUM=0.06\n",
    "\n",
    "ENERGY_MIN_VANADIUM = -0.02 * sc.Unit('meV')\n",
    "ENERGY_MAX_VANADIUM = 0.02 * sc.Unit('meV')\n",
    "\n",
    "# da.coords['Energy'] = da.coords['Energy'].to(unit='micro*eV') #optional change the scale to mueV\n",
    "binned_vanadium_data=vanadium_data.flatten(to='dummy').bin(energy=ENERGY_BINS,Q=Q_BINS).bins.mean() #can add .plot() to plot it\n",
    "\n",
    "pp.slicer(binned_vanadium_data['energy',ENERGY_MIN_VANADIUM:ENERGY_MAX_VANADIUM],vmin=INTENSITY_MIN_VANADIUM,vmax=INTENSITY_MAX_VANADIUM,\n",
    "     keep=['energy'],\n",
    "     linestyle='none',\n",
    "     marker='o',\n",
    "     markerfacecolor='none',\n",
    "     color='k'\n",
    ")\n"
   ]
  },
  {
   "cell_type": "code",
   "execution_count": 5,
   "metadata": {},
   "outputs": [
    {
     "data": {
      "application/vnd.jupyter.widget-view+json": {
       "model_id": "1f2ded5f54e241fc9b24b98477d3a8b7",
       "version_major": 2,
       "version_minor": 0
      },
      "text/plain": [
       "Box(children=(InteractiveFig(children=(HBar(), HBox(children=(VBar(children=(Toolbar(children=(ButtonTool(icon…"
      ]
     },
     "execution_count": 5,
     "metadata": {},
     "output_type": "execute_result"
    }
   ],
   "source": [
    "## 3. Define resolution function and fit vanadium data\n",
    "# TODO: Make a library of functions instead of defining them inline.\n",
    "# TODO: Add a Lorentzian tail to the resolution function\n",
    "# The data is approximately Gaussian with Lorentzian tails. Those are not important for a quick fit, but should be added.\n",
    "\n",
    "\n",
    "def resolution_function_scipp(energy, energy_offset, res_gauss1_area, res_gauss1_sigma, res_BG):\n",
    "    \"\"\"\n",
    "    Calculate the resolution function using the given parameters.\n",
    "\n",
    "    Parameters:\n",
    "    energy (array-like): The energy values.\n",
    "    energy_offset (float): The energy offset.\n",
    "    res_gauss1_area (float): The area of the first Gaussian component.\n",
    "    res_gauss1_sigma (float): The standard deviation of the first Gaussian component.\n",
    "    res_BG (float): The background value.\n",
    "\n",
    "    Returns:\n",
    "    array-like: The calculated resolution function values.\n",
    "    \"\"\"\n",
    "    x = energy\n",
    "    x = x - energy_offset\n",
    "\n",
    "    y = res_gauss1_area * 1 / np.sqrt(2 * np.pi) / res_gauss1_sigma * sc.exp(-0.5 * (x / res_gauss1_sigma) ** 2) + res_BG\n",
    "    return y\n",
    "\n",
    "# Fit the resolution function to the vanadium data\n",
    "\n",
    "# TODO Add the option of providing start guess for each Q point, e.g. by using the value from higher or lower Q, or a different temperature.\n",
    "popt, _ = curve_fit(['energy'], resolution_function_scipp, vanadium_data, \n",
    "                    p0 = {'res_gauss1_area' : 5e-5*sc.Unit('meV'), \n",
    "                          'res_gauss1_sigma': 4e-4 * sc.Unit('meV'),\n",
    "                          'energy_offset'   : 0 * sc.Unit('meV'),\n",
    "                          'res_BG'          :1e-5})\n",
    "\n",
    "#Calculate the fit to display it\n",
    "#TODO Make it possible to calculate the fit on a more dense set of points than the data\n",
    "vanadium_fit=resolution_function_scipp(vanadium_data.coords['energy'],\n",
    "                                      energy_offset     =sc.values(popt['energy_offset']),\n",
    "                                      res_gauss1_area   =sc.values(popt['res_gauss1_area']),\n",
    "                                      res_gauss1_sigma  =sc.values(popt['res_gauss1_sigma']),\n",
    "                                      res_BG            =sc.values(popt['res_BG']))\n",
    "vanadium_fit.coords['energy']=energy\n",
    "\n",
    "\n",
    "# Make a group of the data and the fit for the slicer\n",
    "data_and_fit=sc.DataGroup({'Data': binned_vanadium_data,\n",
    "                            'Fit': vanadium_fit})\n",
    "\n",
    "pp.slicer(data_and_fit['energy',ENERGY_MIN:ENERGY_MAX],vmin=INTENSITY_MIN,vmax=INTENSITY_MAX,\n",
    "     keep=['energy'],\n",
    "     linestyle=         {'Data': 'none',    'Fit': '-'},\n",
    "     marker=            {'Data': 'o',       'Fit':'none'},\n",
    "     markerfacecolor=   {'Data': 'none',    'Fit':'red'},\n",
    "     color=             {'Data': 'black',   'Fit':'red'}\n",
    ")\n",
    "\n",
    "# Of course, the user should be allowed to change the colors, markers and so on."
   ]
  },
  {
   "cell_type": "code",
   "execution_count": 6,
   "metadata": {},
   "outputs": [
    {
     "data": {
      "application/vnd.jupyter.widget-view+json": {
       "model_id": "2d2a5f5212104e34aec109be5ff3ac60",
       "version_major": 2,
       "version_minor": 0
      },
      "text/plain": [
       "Box(children=(InteractiveFig(children=(HBar(), HBox(children=(VBar(children=(Toolbar(children=(ButtonTool(icon…"
      ]
     },
     "execution_count": 6,
     "metadata": {},
     "output_type": "execute_result"
    }
   ],
   "source": [
    "## 4. Define fit function and fit data\n",
    "\n",
    "# TODO: Add a Lorentzian tail to the resolution function\n",
    "# Define the fit function, which for now is just an elastic peak, a Lorentzian peak and a background. The resolution function is fixed to the Gaussian one determined from the vanadium data.\n",
    "def GGG_fit_function_scipp(energy, energy_offset, res_gauss1_sigma,el_area,lorz1_area,lorz1_HWHM,BG):\n",
    "    \"\"\"\n",
    "    Elastic plus quasielastic signal with a Gaussian resolution and a constant background\n",
    "\n",
    "    Parameters:\n",
    "    energy (array-like): The energy values.\n",
    "    energy_offset (float): The energy offset.\n",
    "    res_gauss1_sigma (float): The standard deviation of the Gaussian resolution function.\n",
    "    el_area (float): The area of the elastic peak.\n",
    "    lorz1_area (float): The area of the Lorentzian peak.\n",
    "    lorz1_HWHM (float): The half-width at half-maximum of the Lorentzian peak.\n",
    "    BG (float): The background value.\n",
    "\n",
    "    Returns:\n",
    "    array-like: The calculated GGG fit function values.\n",
    "    \"\"\"\n",
    "\n",
    "    # Subtract energy offset from energy values\n",
    "    x = energy-energy_offset\n",
    "\n",
    "    # Calculate elastic peak using resolution function\n",
    "    y_el = resolution_function_scipp(energy, energy_offset, el_area, res_gauss1_sigma, 0)\n",
    "\n",
    "    # scipp doesn't allow using some functions like the voigt_profile, imported from scipy. We therefore need to convert the scipp arrays to numpy arrays.\n",
    "    # TODO Make a scipp version of the voigt_profile\n",
    "    y_lorz=lorz1_area.value*(voigt_profile(x.values, res_gauss1_sigma.value, lorz1_HWHM.value))\n",
    "\n",
    "    # Sum elastic and Lorentzian peaks and add background\n",
    "    y = y_el.values + y_lorz + BG.values\n",
    "\n",
    "    # Return the result as a scipp array\n",
    "    y=sc.array(dims=['energy'],values=y,unit='dimensionless')    \n",
    "    \n",
    "    return y\n",
    "\n",
    "# Define the initial guess for the fit parameters\n",
    "energy_offset= -0.5e-3 * sc.Unit('meV')\n",
    "res_gauss1_sigma=4e-4 * sc.Unit('meV')\n",
    "el_area=1e-5*sc.Unit('meV')\n",
    "lorz1_area=1e-5*sc.Unit('meV')\n",
    "lorz1_HWHM=1e-3*sc.Unit('meV')\n",
    "BG=0.5e-3 *sc.Unit('dimensionless')\n",
    "\n",
    "\n",
    "# Each Q point has its own set of start guess. For now, we just use the same values for all Q points, but later, the user should be allowed to set these independently for each Q point.\n",
    "energy_offset_array=sc.ones(dims=['Q'], shape=[NUMBER_OF_Q_POINTS])*energy_offset\n",
    "res_gauss1_sigma_array=sc.ones(dims=['Q'], shape=[NUMBER_OF_Q_POINTS])*res_gauss1_sigma\n",
    "el_area_array=sc.ones(dims=['Q'], shape=[NUMBER_OF_Q_POINTS])*el_area\n",
    "lorz1_area_array=sc.ones(dims=['Q'], shape=[NUMBER_OF_Q_POINTS])*lorz1_area\n",
    "lorz1_HWHM_array=sc.ones(dims=['Q'], shape=[NUMBER_OF_Q_POINTS])*lorz1_HWHM\n",
    "BG_array=sc.ones(dims=['Q'], shape=[NUMBER_OF_Q_POINTS])*BG\n",
    "\n",
    "# Calculate the guess; this is useful for the user to determine if the guess is reasonable\n",
    "GGG_intensity_guess=sc.zeros(dims=['Q','energy'],shape=[NUMBER_OF_Q_POINTS,NUMBER_OF_E_POINTS])\n",
    "for k in range(NUMBER_OF_Q_POINTS):\n",
    "    GGG_intensity_guess['Q',k]=GGG_fit_function_scipp(energy, energy_offset_array[k], res_gauss1_sigma_array[k],el_area_array[k],lorz1_area_array[k],lorz1_HWHM_array[k],BG_array[k])\n",
    "GGG_guess_450mK=sc.DataArray(data=GGG_intensity_guess, coords={'Q':Q,'energy': energy})\n",
    "\n",
    "\n",
    "\n",
    "\n",
    "\n",
    "# The user should be allowed to fix some parameters, for example all parameters related to the resolution\n",
    "# Fit the data. We can add more functionality, such as minimum and maximum values, but for now we keep it simple.\n",
    "popt_GGG, _ = curve_fit(['energy'], GGG_fit_function_scipp, GGG_data_450mK, \n",
    "                    p0 = {\n",
    "                        'energy_offset'   : energy_offset,\n",
    "                        'res_gauss1_sigma':res_gauss1_sigma,\n",
    "                        'el_area'         : el_area, \n",
    "                        'lorz1_area'      : lorz1_area, \n",
    "                        'lorz1_HWHM'      : lorz1_HWHM, \n",
    "                        'BG'              : BG\n",
    "                        })\n",
    "\n",
    "# Calculate the fit in the same way as the guess was calculated\n",
    "GGG_450mK_fit_values=sc.zeros(dims=['Q','energy'],shape=[NUMBER_OF_Q_POINTS,NUMBER_OF_E_POINTS])\n",
    "for k in range(NUMBER_OF_Q_POINTS):\n",
    "    GGG_450mK_fit_values['Q',k]=GGG_fit_function_scipp(energy, sc.values(popt_GGG['energy_offset'])[k], sc.values(popt_GGG['res_gauss1_sigma'])[k],sc.values(popt_GGG['el_area'])[k],sc.values(popt_GGG['lorz1_area'])[k],sc.values(popt_GGG['lorz1_HWHM'])[k],sc.values(popt_GGG['BG'])[k])\n",
    "GGG_fit_450mK=sc.DataArray(data=GGG_450mK_fit_values, coords={'Q':Q,'energy': energy})\n",
    "\n",
    "# Make a group of the data, guess and fitfor the slicer\n",
    "# For the user, it should be possible to show/hide the data, guess and fit\n",
    "data_and_guess_and_fit=sc.DataGroup({'Data': binned_GGG_data_450mK,\n",
    "                                     'Guess': GGG_guess_450mK,\n",
    "                                     'Fit': GGG_fit_450mK})\n",
    "\n",
    "data_and_fit_slicer=pp.slicer(data_and_guess_and_fit['energy',ENERGY_MIN:ENERGY_MAX],vmin=INTENSITY_MIN,vmax=INTENSITY_MAX,\n",
    "     keep=['energy'],\n",
    "     linestyle=         {'Data': 'none', 'Guess':'-' ,   'Fit': '-'},\n",
    "     marker=            {'Data': 'o',    'Guess':'none' ,'Fit':'none'},\n",
    "     markerfacecolor=   {'Data': 'none', 'Guess':'green','Fit':'red'},\n",
    "     color=             {'Data': 'black','Guess':'green','Fit':'red'}\n",
    ")\n",
    "#TODO Add a button to show/hide the guess and fit\n",
    "#TODO Change the label of the y axis\n",
    "data_and_fit_slicer\n"
   ]
  },
  {
   "cell_type": "code",
   "execution_count": 7,
   "metadata": {},
   "outputs": [
    {
     "data": {
      "application/vnd.jupyter.widget-view+json": {
       "model_id": "4df491b651a544baa6273c96fa8ee67b",
       "version_major": 2,
       "version_minor": 0
      },
      "text/plain": [
       "InteractiveFig(children=(HBar(), HBox(children=(VBar(children=(Toolbar(children=(ButtonTool(icon='home', layou…"
      ]
     },
     "execution_count": 7,
     "metadata": {},
     "output_type": "execute_result"
    }
   ],
   "source": [
    "\n",
    "p=sc.plot(popt_GGG['lorz1_HWHM'][1:15].to(unit='micro*eV'))\n",
    "p.canvas.ylabel = 'HWHM [µeV]'\n",
    "p.canvas.xrange = [0, 15]\n",
    "p\n"
   ]
  },
  {
   "cell_type": "code",
   "execution_count": 8,
   "metadata": {},
   "outputs": [
    {
     "data": {
      "application/vnd.jupyter.widget-view+json": {
       "model_id": "922fefd5c5b347d5b8b30d1402ca432d",
       "version_major": 2,
       "version_minor": 0
      },
      "text/plain": [
       "InteractiveFig(children=(HBar(), HBox(children=(VBar(children=(Toolbar(children=(ButtonTool(icon='home', layou…"
      ]
     },
     "execution_count": 8,
     "metadata": {},
     "output_type": "execute_result"
    }
   ],
   "source": [
    "p=sc.plot(popt_GGG['lorz1_area'][1:15].to(unit='micro*eV'))\n",
    "p.canvas.ylabel = 'Area [µeV]'\n",
    "p.canvas.xrange = [0, 15]\n",
    "p\n",
    "#Notice a peak near 4 and 11. If I had used proper units for Q, these peaks would be meaningful."
   ]
  },
  {
   "cell_type": "code",
   "execution_count": 9,
   "metadata": {},
   "outputs": [
    {
     "data": {
      "application/vnd.jupyter.widget-view+json": {
       "model_id": "8e091afea5b7459a9bdee0437980938f",
       "version_major": 2,
       "version_minor": 0
      },
      "text/plain": [
       "InteractiveFig(children=(HBar(), HBox(children=(VBar(children=(Toolbar(children=(ButtonTool(icon='home', layou…"
      ]
     },
     "execution_count": 9,
     "metadata": {},
     "output_type": "execute_result"
    }
   ],
   "source": [
    "#7. Define fit function for fitted parameters, fit parameters and plot\n",
    "# The simplest possible fit function\n",
    "def str_line(Q, a,b):\n",
    "    y=a*Q+b\n",
    "    return y\n",
    "\n",
    "#Define the data to be fitted\n",
    "lorz1_HWHM_fit_result=popt_GGG['lorz1_HWHM'][1:14].to(unit='micro*eV')\n",
    "\n",
    "popt_HWHM, _ = curve_fit(['Q'], str_line, lorz1_HWHM_fit_result, \n",
    "                    p0 = {\n",
    "                        'a'   : 0*sc.Unit('micro*eV'),\n",
    "                        'b'   : 2.7*sc.Unit('micro*eV')\n",
    "                        })\n",
    "\n",
    "Q=sc.array(dims=['Q'],values=range(NUMBER_OF_Q_POINTS))\n",
    "lorz1_HWHM_strline_fit_value=str_line(Q[1:14], sc.values(popt_HWHM['a']), sc.values(popt_HWHM['b']))\n",
    "lorz1_HWHM_strline_fit_value.coords['Q']=Q[1:14]\n",
    "fit_result_for_plot=sc.DataGroup({'Data': lorz1_HWHM_fit_result,\n",
    "                                     'Fit': lorz1_HWHM_strline_fit_value})\n",
    "\n",
    "p=sc.plot(fit_result_for_plot)\n",
    "p.canvas.ylabel = 'HWHM [µeV]'\n",
    "p.canvas.xrange = [0, 15]\n",
    "p\n",
    "\n",
    "#Users should be able to fit any parameters from the previous fits, along any coordinate and to any function, such as the ones implemented in QENSLibrary.\n",
    "# Here I have changed the units to microeV, that kind of functionality should also be available to the user."
   ]
  }
 ],
 "metadata": {
  "kernelspec": {
   "display_name": "QENSMockup",
   "language": "python",
   "name": "python3"
  },
  "language_info": {
   "codemirror_mode": {
    "name": "ipython",
    "version": 3
   },
   "file_extension": ".py",
   "mimetype": "text/x-python",
   "name": "python",
   "nbconvert_exporter": "python",
   "pygments_lexer": "ipython3",
   "version": "3.12.2"
  }
 },
 "nbformat": 4,
 "nbformat_minor": 2
}
